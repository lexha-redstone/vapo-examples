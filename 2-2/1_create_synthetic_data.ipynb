{
 "cells": [
  {
   "cell_type": "markdown",
   "id": "cedacb41",
   "metadata": {},
   "source": [
    "### Use gemini to create synthetic data"
   ]
  },
  {
   "cell_type": "code",
   "execution_count": null,
   "id": "78b632c5",
   "metadata": {},
   "outputs": [],
   "source": [
    "from google import genai\n",
    "import json\n",
    "import pandas as pd\n",
    "import numpy as np\n",
    "import json"
   ]
  },
  {
   "cell_type": "code",
   "execution_count": 10,
   "id": "88b450da",
   "metadata": {},
   "outputs": [],
   "source": [
    "# !gcloud auth application-default login"
   ]
  },
  {
   "cell_type": "code",
   "execution_count": null,
   "id": "025c7be8",
   "metadata": {},
   "outputs": [],
   "source": [
    "model = \"gemini-2.5-flash\"\n",
    "PROJECT_ID = '$YOUR_PROJECT_ID'\n",
    "\n",
    "client = genai.Client(\n",
    "    vertexai=True,\n",
    "    project=PROJECT_ID,\n",
    "    location=\"global\")"
   ]
  },
  {
   "cell_type": "code",
   "execution_count": null,
   "id": "02473e3f",
   "metadata": {},
   "outputs": [],
   "source": [
    "prompt = '''\n",
    "## Task\n",
    "You're a question generator, for matching unpopular acronyms.\n",
    "Please Generate a sample Multiple-choice question, using information below.\n",
    "The question is matching acronyms to full names, in various fields.\n",
    "Please make unpopular meaning as an answer.\n",
    "\n",
    "## Field definitions\n",
    "- \"question\" should define the industry and acronym you're asking.\n",
    "- \"choices\" must be full name options that can be chosen, with its choice numbers, which must be string.\n",
    "    - For instance, \"[1] Random Access Memory, [2] Read-Only Memory\"\n",
    "    - Do not include question.\n",
    "- \"answer\" must be the answer, which must be a integer, indicating the right choice number.\n",
    "- \"likelihood\" is a probability that in reality, the acronym is used for that meaning, and must be between 0~1.\n",
    "- \"reason\" is the reason of the answer.\n",
    "\n",
    "## Output Format\n",
    "- Output must be in JSON format\n",
    "- Output must contain four keys : \"question\", \"choices\", \"answer\", \"likelihood\", \"reason\"\n",
    "\n",
    "'''"
   ]
  },
  {
   "cell_type": "code",
   "execution_count": null,
   "id": "f85f222b",
   "metadata": {},
   "outputs": [],
   "source": [
    "response_list = []\n",
    "for idx in range(50):\n",
    "    response = client.models.generate_content(\n",
    "        model=model,\n",
    "        contents=[\n",
    "            prompt,\n",
    "        ],\n",
    "    )\n",
    "    if response.text is not None:\n",
    "        response_list.append(response.text)"
   ]
  },
  {
   "cell_type": "code",
   "execution_count": 19,
   "id": "8fd44af1",
   "metadata": {},
   "outputs": [],
   "source": [
    "def process_api_output(api_output_string):\n",
    "    try:\n",
    "        # Only JSON \n",
    "        json_text = api_output_string.strip().removeprefix('```json\\n').removesuffix('\\n```')\n",
    "        return json.loads(json_text)\n",
    "        \n",
    "    except (json.JSONDecodeError, AttributeError) as e:\n",
    "        print(f\"Error when parsing JSON : {e}\")\n",
    "        return None\n",
    "    \n",
    "processed_response_list = [process_api_output(x) for x in response_list]\n",
    "df = pd.DataFrame(processed_response_list)"
   ]
  },
  {
   "cell_type": "code",
   "execution_count": 62,
   "id": "c61d107d",
   "metadata": {},
   "outputs": [],
   "source": [
    "np.random.seed(1)\n",
    "df['rand'] = np.random.randint(0, 5, len(df))\n",
    "df_train = df[df['rand'] > 0].drop('rand', axis=1).reset_index(drop=True)\n",
    "df_valid = df[df['rand'] == 0].drop('rand', axis=1).reset_index(drop=True)"
   ]
  },
  {
   "cell_type": "code",
   "execution_count": 63,
   "id": "77dd2eb2",
   "metadata": {},
   "outputs": [
    {
     "name": "stdout",
     "output_type": "stream",
     "text": [
      "(40, 5)\n",
      "(10, 5)\n"
     ]
    }
   ],
   "source": [
    "print(df_train.shape)\n",
    "print(df_valid.shape)"
   ]
  },
  {
   "cell_type": "code",
   "execution_count": 64,
   "id": "eb782f40",
   "metadata": {},
   "outputs": [
    {
     "data": {
      "text/html": [
       "<div>\n",
       "<style scoped>\n",
       "    .dataframe tbody tr th:only-of-type {\n",
       "        vertical-align: middle;\n",
       "    }\n",
       "\n",
       "    .dataframe tbody tr th {\n",
       "        vertical-align: top;\n",
       "    }\n",
       "\n",
       "    .dataframe thead th {\n",
       "        text-align: right;\n",
       "    }\n",
       "</style>\n",
       "<table border=\"1\" class=\"dataframe\">\n",
       "  <thead>\n",
       "    <tr style=\"text-align: right;\">\n",
       "      <th></th>\n",
       "      <th>question</th>\n",
       "      <th>choices</th>\n",
       "      <th>answer</th>\n",
       "      <th>likelihood</th>\n",
       "      <th>reason</th>\n",
       "    </tr>\n",
       "  </thead>\n",
       "  <tbody>\n",
       "    <tr>\n",
       "      <th>0</th>\n",
       "      <td>In the specialized field of molecular biology,...</td>\n",
       "      <td>[1] Redundant Array of Independent Disks, [2] ...</td>\n",
       "      <td>3</td>\n",
       "      <td>0.07</td>\n",
       "      <td>\"RNA-associated Degradation\" is a specific bio...</td>\n",
       "    </tr>\n",
       "    <tr>\n",
       "      <th>1</th>\n",
       "      <td>In the field of advanced microscopy and nanosc...</td>\n",
       "      <td>[1] Standard Nanoscale Optical Module, [2] Sca...</td>\n",
       "      <td>2</td>\n",
       "      <td>0.05</td>\n",
       "      <td>SNOM stands for Scanning Near-field Optical Mi...</td>\n",
       "    </tr>\n",
       "    <tr>\n",
       "      <th>2</th>\n",
       "      <td>In the field of networking and computer scienc...</td>\n",
       "      <td>[1] System Yield Neutralizer, [2] Synchronous ...</td>\n",
       "      <td>3</td>\n",
       "      <td>0.08</td>\n",
       "      <td>While 'SYN' is most commonly known as the firs...</td>\n",
       "    </tr>\n",
       "  </tbody>\n",
       "</table>\n",
       "</div>"
      ],
      "text/plain": [
       "                                            question  \\\n",
       "0  In the specialized field of molecular biology,...   \n",
       "1  In the field of advanced microscopy and nanosc...   \n",
       "2  In the field of networking and computer scienc...   \n",
       "\n",
       "                                             choices  answer  likelihood  \\\n",
       "0  [1] Redundant Array of Independent Disks, [2] ...       3        0.07   \n",
       "1  [1] Standard Nanoscale Optical Module, [2] Sca...       2        0.05   \n",
       "2  [1] System Yield Neutralizer, [2] Synchronous ...       3        0.08   \n",
       "\n",
       "                                              reason  \n",
       "0  \"RNA-associated Degradation\" is a specific bio...  \n",
       "1  SNOM stands for Scanning Near-field Optical Mi...  \n",
       "2  While 'SYN' is most commonly known as the firs...  "
      ]
     },
     "execution_count": 64,
     "metadata": {},
     "output_type": "execute_result"
    }
   ],
   "source": [
    "df_train.head(3)"
   ]
  },
  {
   "cell_type": "markdown",
   "id": "0a78d7f8",
   "metadata": {},
   "source": [
    "### Preprocess"
   ]
  },
  {
   "cell_type": "code",
   "execution_count": 65,
   "id": "0e23afbb",
   "metadata": {},
   "outputs": [],
   "source": [
    "def row_to_formatted_json(row):\n",
    "    json_content = row.to_json(orient='index', double_precision=2, indent=2)\n",
    "    \n",
    "    formatted_string = '```json\\n' + json_content + '\\n```'\n",
    "    \n",
    "    return formatted_string\n",
    "\n",
    "label_columns = ['answer', 'reason', 'likelihood']\n",
    "df_train['target'] = df_train[label_columns].apply(row_to_formatted_json, axis=1)\n",
    "df_valid['target'] = df_valid[label_columns].apply(row_to_formatted_json, axis=1)"
   ]
  },
  {
   "cell_type": "code",
   "execution_count": 66,
   "id": "85809699",
   "metadata": {},
   "outputs": [
    {
     "data": {
      "text/html": [
       "<div>\n",
       "<style scoped>\n",
       "    .dataframe tbody tr th:only-of-type {\n",
       "        vertical-align: middle;\n",
       "    }\n",
       "\n",
       "    .dataframe tbody tr th {\n",
       "        vertical-align: top;\n",
       "    }\n",
       "\n",
       "    .dataframe thead th {\n",
       "        text-align: right;\n",
       "    }\n",
       "</style>\n",
       "<table border=\"1\" class=\"dataframe\">\n",
       "  <thead>\n",
       "    <tr style=\"text-align: right;\">\n",
       "      <th></th>\n",
       "      <th>question</th>\n",
       "      <th>choices</th>\n",
       "      <th>answer</th>\n",
       "      <th>likelihood</th>\n",
       "      <th>reason</th>\n",
       "      <th>target</th>\n",
       "    </tr>\n",
       "  </thead>\n",
       "  <tbody>\n",
       "    <tr>\n",
       "      <th>0</th>\n",
       "      <td>In the specialized field of molecular biology,...</td>\n",
       "      <td>[1] Redundant Array of Independent Disks, [2] ...</td>\n",
       "      <td>3</td>\n",
       "      <td>0.07</td>\n",
       "      <td>\"RNA-associated Degradation\" is a specific bio...</td>\n",
       "      <td>```json\\n{\\n  \"answer\":3,\\n  \"reason\":\"\\\"RNA-a...</td>\n",
       "    </tr>\n",
       "    <tr>\n",
       "      <th>1</th>\n",
       "      <td>In the field of advanced microscopy and nanosc...</td>\n",
       "      <td>[1] Standard Nanoscale Optical Module, [2] Sca...</td>\n",
       "      <td>2</td>\n",
       "      <td>0.05</td>\n",
       "      <td>SNOM stands for Scanning Near-field Optical Mi...</td>\n",
       "      <td>```json\\n{\\n  \"answer\":2,\\n  \"reason\":\"SNOM st...</td>\n",
       "    </tr>\n",
       "  </tbody>\n",
       "</table>\n",
       "</div>"
      ],
      "text/plain": [
       "                                            question  \\\n",
       "0  In the specialized field of molecular biology,...   \n",
       "1  In the field of advanced microscopy and nanosc...   \n",
       "\n",
       "                                             choices  answer  likelihood  \\\n",
       "0  [1] Redundant Array of Independent Disks, [2] ...       3        0.07   \n",
       "1  [1] Standard Nanoscale Optical Module, [2] Sca...       2        0.05   \n",
       "\n",
       "                                              reason  \\\n",
       "0  \"RNA-associated Degradation\" is a specific bio...   \n",
       "1  SNOM stands for Scanning Near-field Optical Mi...   \n",
       "\n",
       "                                              target  \n",
       "0  ```json\\n{\\n  \"answer\":3,\\n  \"reason\":\"\\\"RNA-a...  \n",
       "1  ```json\\n{\\n  \"answer\":2,\\n  \"reason\":\"SNOM st...  "
      ]
     },
     "execution_count": 66,
     "metadata": {},
     "output_type": "execute_result"
    }
   ],
   "source": [
    "df_train.head(2)"
   ]
  },
  {
   "cell_type": "code",
   "execution_count": 67,
   "id": "9a705c92",
   "metadata": {},
   "outputs": [],
   "source": [
    "def refine_string(text_data):\n",
    "    cleaned_text = text_data.strip()\n",
    "    if cleaned_text.startswith(\"```json\"):\n",
    "        cleaned_text = cleaned_text[len(\"```json\"):].strip()\n",
    "\n",
    "    if cleaned_text.endswith(\"```\"):\n",
    "        cleaned_text = cleaned_text[:-len(\"```\")].strip()\n",
    "\n",
    "    if cleaned_text.startswith('{') and cleaned_text.endswith('}'):\n",
    "        json_string = cleaned_text\n",
    "    else:\n",
    "        json_string = None\n",
    "\n",
    "    data_dict = {}\n",
    "    reason = None\n",
    "    if json_string:\n",
    "        try:\n",
    "            data_dict = json.loads(json_string)\n",
    "        except json.JSONDecodeError as e:\n",
    "          reason = 'Wrong JSON format'\n",
    "    else:\n",
    "      reason = 'Wrong JSON format'\n",
    "    return data_dict, reason"
   ]
  },
  {
   "cell_type": "code",
   "execution_count": 69,
   "id": "c0a8ae39",
   "metadata": {},
   "outputs": [],
   "source": [
    "df_train.to_json(\"./sample_data/train.jsonl\", orient='records', lines=True, force_ascii=False, indent=0)\n",
    "df_valid.to_json(\"./sample_data/valid.jsonl\", orient='records', lines=True, force_ascii=False, indent=0)"
   ]
  },
  {
   "cell_type": "code",
   "execution_count": null,
   "id": "9ec43c4c",
   "metadata": {},
   "outputs": [],
   "source": []
  },
  {
   "cell_type": "markdown",
   "id": "9487de24",
   "metadata": {},
   "source": [
    "### Upload to Cloud storage"
   ]
  },
  {
   "cell_type": "code",
   "execution_count": 58,
   "id": "6ff5cf5e",
   "metadata": {},
   "outputs": [],
   "source": [
    "REGION = \"us-central1\"\n",
    "# BUCKET_NAME = \"$YOUR_BUCKET_NAME\"\n",
    "BUCKET_NAME = \"redstone_base_bucket\"\n",
    "\n",
    "BUCKET_URI = f\"gs://{BUCKET_NAME}\""
   ]
  },
  {
   "cell_type": "code",
   "execution_count": null,
   "id": "79c17e8d",
   "metadata": {},
   "outputs": [],
   "source": [
    "# Create bucket if needed\n",
    "# ! gsutil mb -l {REGION} -p {PROJECT_ID} {BUCKET_URI}"
   ]
  },
  {
   "cell_type": "code",
   "execution_count": 59,
   "id": "3f0688dd",
   "metadata": {},
   "outputs": [],
   "source": [
    "# Upload to gcs\n",
    "from google.cloud import storage\n",
    "\n",
    "def upload_df_to_gcs_as_jsonl(df: pd.DataFrame, bucket_name: str, destination_blob_name: str):\n",
    "    jsonl_string = df.to_json(orient='records', lines=True)\n",
    "    storage_client = storage.Client()\n",
    "    bucket = storage_client.bucket(bucket_name)\n",
    "    blob = bucket.blob(destination_blob_name)\n",
    "    blob.upload_from_string(jsonl_string, content_type='application/json')\n",
    "\n",
    "    print(f\"Uploaded : {bucket_name} / {destination_blob_name}\")\n",
    "    "
   ]
  },
  {
   "cell_type": "code",
   "execution_count": null,
   "id": "40d14157",
   "metadata": {},
   "outputs": [],
   "source": [
    "train_data_path = 'inputs/train.jsonl'\n",
    "valid_data_path = 'inputs/valid.jsonl'\n",
    "\n",
    "upload_df_to_gcs_as_jsonl(df_train, BUCKET_NAME, train_data_path)\n",
    "upload_df_to_gcs_as_jsonl(df_valid, BUCKET_NAME, valid_data_path)"
   ]
  },
  {
   "cell_type": "code",
   "execution_count": null,
   "id": "0231b5fe",
   "metadata": {},
   "outputs": [],
   "source": []
  }
 ],
 "metadata": {
  "kernelspec": {
   "display_name": "Python 3",
   "language": "python",
   "name": "python3"
  },
  "language_info": {
   "codemirror_mode": {
    "name": "ipython",
    "version": 3
   },
   "file_extension": ".py",
   "mimetype": "text/x-python",
   "name": "python",
   "nbconvert_exporter": "python",
   "pygments_lexer": "ipython3",
   "version": "3.11.13"
  }
 },
 "nbformat": 4,
 "nbformat_minor": 5
}
