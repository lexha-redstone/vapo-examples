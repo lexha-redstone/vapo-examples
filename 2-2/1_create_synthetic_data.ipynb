{
 "cells": [
  {
   "cell_type": "markdown",
   "id": "cedacb41",
   "metadata": {},
   "source": [
    "### Use gemini to create synthetic data"
   ]
  },
  {
   "cell_type": "code",
   "execution_count": null,
   "id": "78b632c5",
   "metadata": {},
   "outputs": [],
   "source": [
    "from google import genai\n",
    "import json\n",
    "import pandas as pd\n",
    "import numpy as np\n",
    "# !gcloud auth application-default login"
   ]
  },
  {
   "cell_type": "code",
   "execution_count": null,
   "id": "025c7be8",
   "metadata": {},
   "outputs": [],
   "source": [
    "model = \"gemini-2.5-flash\"\n",
    "PROJECT_ID = '$YOUR_PROJECT_ID'\n",
    "\n",
    "client = genai.Client(\n",
    "    vertexai=True,\n",
    "    project=PROJECT_ID,\n",
    "    location=\"global\")"
   ]
  },
  {
   "cell_type": "code",
   "execution_count": null,
   "id": "02473e3f",
   "metadata": {},
   "outputs": [],
   "source": [
    "prompt = '''\n",
    "## Task\n",
    "You're a question generator, for matching unpopular acronyms.\n",
    "Please Generate a sample Multiple-choice question, using information below.\n",
    "The question is matching acronyms to full names, in various fields.\n",
    "Please make unpopular meaning as an target.\n",
    "\n",
    "## Field definitions\n",
    "- \"question\" should define the industry and acronym you're asking.\n",
    "- \"input\" must be full name options that can be chosen, with its choice numbers, which must be string.\n",
    "    - For instance, \"[1] Random Access Memory, [2] Read-Only Memory\"\n",
    "    - Do not include question.\n",
    "- \"target\" must be the target, which must be a integer, indicating the right choice number.\n",
    "- \"likelihood\" is a probability that in reality, the acronym is used for that meaning, and must be between 0~1.\n",
    "- \"reason\" is the reason of the target.\n",
    "\n",
    "## Output Format\n",
    "- Output must be in JSON format\n",
    "- Output must contain four keys : \"question\", \"input\", \"target\", \"likelihood\", \"reason\"\n",
    "\n",
    "'''"
   ]
  },
  {
   "cell_type": "code",
   "execution_count": null,
   "id": "f85f222b",
   "metadata": {},
   "outputs": [],
   "source": [
    "response_list = []\n",
    "for idx in range(30):\n",
    "    response = client.models.generate_content(\n",
    "        model=model,\n",
    "        contents=[\n",
    "            prompt,\n",
    "        ],\n",
    "    )\n",
    "    if response.text is not None:\n",
    "        response_list.append(response.text)"
   ]
  },
  {
   "cell_type": "code",
   "execution_count": null,
   "id": "8fd44af1",
   "metadata": {},
   "outputs": [],
   "source": [
    "def process_api_output(api_output_string):\n",
    "    try:\n",
    "        # 비-JSON 문자를 제거하고 JSON 문자열만 남깁니다.\n",
    "        json_text = api_output_string.strip().removeprefix('```json\\n').removesuffix('\\n```')\n",
    "        \n",
    "        # JSON 문자열을 파이썬 딕셔너리로 변환합니다.\n",
    "        return json.loads(json_text)\n",
    "        \n",
    "    except (json.JSONDecodeError, AttributeError) as e:\n",
    "        print(f\"Error when parsing JSON : {e}\")\n",
    "        return None\n",
    "    \n",
    "processed_response_list = [process_api_output(x) for x in response_list]\n",
    "df = pd.DataFrame(processed_response_list)"
   ]
  },
  {
   "cell_type": "code",
   "execution_count": null,
   "id": "283faf5a",
   "metadata": {},
   "outputs": [],
   "source": [
    "df.head(3)"
   ]
  },
  {
   "cell_type": "code",
   "execution_count": null,
   "id": "c61d107d",
   "metadata": {},
   "outputs": [],
   "source": [
    "np.random.seed(1001)\n",
    "df['rand'] = np.random.randint(0, 4, len(df))\n",
    "df_train = df[df['rand'] > 0].drop('rand', axis=1).reset_index(drop=True)\n",
    "df_valid = df[df['rand'] == 0].drop('rand', axis=1).reset_index(drop=True)"
   ]
  },
  {
   "cell_type": "code",
   "execution_count": null,
   "id": "77dd2eb2",
   "metadata": {},
   "outputs": [],
   "source": [
    "print(df_train.shape)\n",
    "print(df_valid.shape)"
   ]
  },
  {
   "cell_type": "code",
   "execution_count": null,
   "id": "c0a8ae39",
   "metadata": {},
   "outputs": [],
   "source": [
    "df_train.to_json(\"./sample_data/train.jsonl\", orient='records', lines=True, force_ascii=False, indent=0)\n",
    "df_valid.to_json(\"./sample_data/valid.jsonl\", orient='records', lines=True, force_ascii=False, indent=0)"
   ]
  },
  {
   "cell_type": "markdown",
   "id": "9487de24",
   "metadata": {},
   "source": [
    "### Upload to Cloud storage"
   ]
  },
  {
   "cell_type": "code",
   "execution_count": null,
   "id": "6ff5cf5e",
   "metadata": {},
   "outputs": [],
   "source": [
    "REGION = \"us-central1\"\n",
    "BUCKET_NAME = \"$YOUR_BUCKET_NAME\"\n",
    "BUCKET_URI = f\"gs://{BUCKET_NAME}\""
   ]
  },
  {
   "cell_type": "code",
   "execution_count": null,
   "id": "79c17e8d",
   "metadata": {},
   "outputs": [],
   "source": [
    "# Create bucket\n",
    "# ! gsutil mb -l {REGION} -p {PROJECT_ID} {BUCKET_URI}"
   ]
  },
  {
   "cell_type": "code",
   "execution_count": null,
   "id": "3f0688dd",
   "metadata": {},
   "outputs": [],
   "source": [
    "# Upload to gcs\n",
    "from google.cloud import storage\n",
    "\n",
    "def upload_df_to_gcs_as_jsonl(df: pd.DataFrame, bucket_name: str, destination_blob_name: str):\n",
    "    # DataFrame을 JSON Lines 형식 문자열로 변환\n",
    "    jsonl_string = df.to_json(orient='records', lines=True)\n",
    "\n",
    "    # Google Cloud Storage 클라이언트 초기화\n",
    "    storage_client = storage.Client()\n",
    "\n",
    "    # 버킷 객체 가져오기\n",
    "    bucket = storage_client.bucket(bucket_name)\n",
    "\n",
    "    # Blob(파일) 객체 생성\n",
    "    blob = bucket.blob(destination_blob_name)\n",
    "\n",
    "    # 문자열 데이터를 Blob에 업로드\n",
    "    blob.upload_from_string(jsonl_string, content_type='application/json')\n",
    "\n",
    "    print(f\"Uploaded : {bucket_name} / {destination_blob_name}\")\n",
    "    "
   ]
  },
  {
   "cell_type": "code",
   "execution_count": null,
   "id": "40d14157",
   "metadata": {},
   "outputs": [],
   "source": [
    "train_data_path = 'inputs/train.jsonl'\n",
    "valid_data_path = 'inputs/valid.jsonl'\n",
    "\n",
    "upload_df_to_gcs_as_jsonl(df_train, BUCKET_NAME, train_data_path)\n",
    "upload_df_to_gcs_as_jsonl(df_valid, BUCKET_NAME, valid_data_path)"
   ]
  }
 ],
 "metadata": {
  "kernelspec": {
   "display_name": "Python 3",
   "language": "python",
   "name": "python3"
  },
  "language_info": {
   "codemirror_mode": {
    "name": "ipython",
    "version": 3
   },
   "file_extension": ".py",
   "mimetype": "text/x-python",
   "name": "python",
   "nbconvert_exporter": "python",
   "pygments_lexer": "ipython3",
   "version": "3.11.13"
  }
 },
 "nbformat": 4,
 "nbformat_minor": 5
}
