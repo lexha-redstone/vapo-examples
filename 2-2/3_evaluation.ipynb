{
 "cells": [
  {
   "cell_type": "code",
   "execution_count": 5,
   "id": "31724c9e",
   "metadata": {},
   "outputs": [
    {
     "name": "stdout",
     "output_type": "stream",
     "text": [
      "Your browser has been opened to visit:\n",
      "\n",
      "    https://accounts.google.com/o/oauth2/auth?response_type=code&client_id=764086051850-6qr4p6gpi6hn506pt8ejuq83di341hur.apps.googleusercontent.com&redirect_uri=http%3A%2F%2Flocalhost%3A8085%2F&scope=openid+https%3A%2F%2Fwww.googleapis.com%2Fauth%2Fuserinfo.email+https%3A%2F%2Fwww.googleapis.com%2Fauth%2Fcloud-platform+https%3A%2F%2Fwww.googleapis.com%2Fauth%2Fsqlservice.login&state=zgGtPDytFQ3hsQwhyM2GxtpaHZ3hX6&access_type=offline&code_challenge=T9kxvfIAWik3G9Y3dkAP8cLs2ux5tP7nmg2E64jAR58&code_challenge_method=S256\n",
      "\n",
      "\n",
      "Credentials saved to file: [/Users/lexha/.config/gcloud/application_default_credentials.json]\n",
      "\n",
      "These credentials will be used by any library that requests Application Default Credentials (ADC).\n",
      "\n",
      "Quota project \"my-argolis-prj\" was added to ADC which can be used by Google client libraries for billing and quota. Note that some services may still bill the project owning the resource.\n",
      "\n",
      "\n",
      "Updates are available for some Google Cloud CLI components.  To install them,\n",
      "please run:\n",
      "  $ gcloud components update\n",
      "\n"
     ]
    }
   ],
   "source": [
    "import pandas as pd\n",
    "import json\n",
    "from google import genai\n",
    "import numpy as np\n",
    "from rouge_score import rouge_scorer\n",
    "\n",
    "!gcloud auth application-default login"
   ]
  },
  {
   "cell_type": "code",
   "execution_count": null,
   "id": "7b0a96b7",
   "metadata": {},
   "outputs": [],
   "source": [
    "PROJECT_ID = \"$YOUR_PROJECT_ID\"\n",
    "LOCATION = 'global'\n",
    "\n",
    "client = genai.Client(\n",
    "    vertexai=True,\n",
    "    project=PROJECT_ID,\n",
    "    location=LOCATION,\n",
    ")\n",
    "\n",
    "max_output_tokens=3000\n",
    "model = 'gemini-2.5-flash'"
   ]
  },
  {
   "cell_type": "code",
   "execution_count": 7,
   "id": "4d1bd983",
   "metadata": {},
   "outputs": [],
   "source": [
    "def refine_string(text_data):\n",
    "    cleaned_text = text_data.strip()\n",
    "    if cleaned_text.startswith(\"```json\"):\n",
    "        cleaned_text = cleaned_text[len(\"```json\"):].strip()\n",
    "\n",
    "    if cleaned_text.endswith(\"```\"):\n",
    "        cleaned_text = cleaned_text[:-len(\"```\")].strip()\n",
    "\n",
    "    if cleaned_text.startswith('{') and cleaned_text.endswith('}'):\n",
    "        json_string = cleaned_text\n",
    "    else:\n",
    "        json_string = None\n",
    "\n",
    "    data_dict = {}\n",
    "    reason = None\n",
    "    if json_string:\n",
    "        try:\n",
    "            data_dict = json.loads(json_string)\n",
    "        except json.JSONDecodeError as e:\n",
    "          reason = 'Wrong JSON format'\n",
    "    else:\n",
    "      reason = 'Wrong JSON format'\n",
    "    return data_dict, reason"
   ]
  },
  {
   "cell_type": "markdown",
   "id": "7f693e3b",
   "metadata": {},
   "source": [
    "### Initial Evaluation"
   ]
  },
  {
   "cell_type": "code",
   "execution_count": 8,
   "id": "bfeae151",
   "metadata": {},
   "outputs": [],
   "source": [
    "valid = pd.read_json('./sample_data/valid.jsonl', lines=True)"
   ]
  },
  {
   "cell_type": "code",
   "execution_count": 9,
   "id": "b95c74b9",
   "metadata": {},
   "outputs": [],
   "source": [
    "initial_prompt = '''\n",
    "You are a smart multiple-choice answering assistant.\n",
    "You're role is to choose right answer of given \"question\", among given \"choices\", which are possible choices.\n",
    "\n",
    "Please return a JSON object with three properties: \\\"answer\\\", \\\"reason\\\" and \\\"likelihood\\\".\n",
    "The \\\"answer\\\" property is a integer, indicating the right choice number.\n",
    "The \\\"reason\\\" property is a string that explains which of the comparisons are the best matches\n",
    "for the input, and the reason should also explain any factors that influence the likelihood score.\n",
    "The \\\"likelihood\\\" is a probability that in reality, the acronym is used for that meaning, and must be between 0~1.\n",
    "'''\n",
    "\n",
    "input_template = \"\"\"\n",
    "  # **Inputs**\n",
    "\n",
    "  - `question` : {question}\n",
    "  - `choices`: {choices}\n",
    "  \"\"\""
   ]
  },
  {
   "cell_type": "code",
   "execution_count": 4,
   "id": "0dedbdd7",
   "metadata": {},
   "outputs": [
    {
     "data": {
      "text/html": [
       "<div>\n",
       "<style scoped>\n",
       "    .dataframe tbody tr th:only-of-type {\n",
       "        vertical-align: middle;\n",
       "    }\n",
       "\n",
       "    .dataframe tbody tr th {\n",
       "        vertical-align: top;\n",
       "    }\n",
       "\n",
       "    .dataframe thead th {\n",
       "        text-align: right;\n",
       "    }\n",
       "</style>\n",
       "<table border=\"1\" class=\"dataframe\">\n",
       "  <thead>\n",
       "    <tr style=\"text-align: right;\">\n",
       "      <th></th>\n",
       "      <th>question</th>\n",
       "      <th>choices</th>\n",
       "      <th>answer</th>\n",
       "      <th>likelihood</th>\n",
       "      <th>reason</th>\n",
       "      <th>target</th>\n",
       "    </tr>\n",
       "  </thead>\n",
       "  <tbody>\n",
       "    <tr>\n",
       "      <th>0</th>\n",
       "      <td>In the context of environmental monitoring and...</td>\n",
       "      <td>[1] Application Programming Interface, [2] Atm...</td>\n",
       "      <td>3</td>\n",
       "      <td>0.05</td>\n",
       "      <td>While API is most commonly known as 'Applicati...</td>\n",
       "      <td>```json\\n{\\n  \"answer\":3,\\n  \"reason\":\"While A...</td>\n",
       "    </tr>\n",
       "    <tr>\n",
       "      <th>1</th>\n",
       "      <td>In the historical context of computer hardware...</td>\n",
       "      <td>[1] Integrated Development Environment, [2] In...</td>\n",
       "      <td>3</td>\n",
       "      <td>0.15</td>\n",
       "      <td>While 'Integrated Development Environment' is ...</td>\n",
       "      <td>```json\\n{\\n  \"answer\":3,\\n  \"reason\":\"While '...</td>\n",
       "    </tr>\n",
       "  </tbody>\n",
       "</table>\n",
       "</div>"
      ],
      "text/plain": [
       "                                            question  \\\n",
       "0  In the context of environmental monitoring and...   \n",
       "1  In the historical context of computer hardware...   \n",
       "\n",
       "                                             choices  answer  likelihood  \\\n",
       "0  [1] Application Programming Interface, [2] Atm...       3        0.05   \n",
       "1  [1] Integrated Development Environment, [2] In...       3        0.15   \n",
       "\n",
       "                                              reason  \\\n",
       "0  While API is most commonly known as 'Applicati...   \n",
       "1  While 'Integrated Development Environment' is ...   \n",
       "\n",
       "                                              target  \n",
       "0  ```json\\n{\\n  \"answer\":3,\\n  \"reason\":\"While A...  \n",
       "1  ```json\\n{\\n  \"answer\":3,\\n  \"reason\":\"While '...  "
      ]
     },
     "execution_count": 4,
     "metadata": {},
     "output_type": "execute_result"
    }
   ],
   "source": [
    "valid.head(2)"
   ]
  },
  {
   "cell_type": "code",
   "execution_count": 9,
   "id": "c553643b",
   "metadata": {},
   "outputs": [
    {
     "name": "stdout",
     "output_type": "stream",
     "text": [
      "0\n"
     ]
    }
   ],
   "source": [
    "valid['initial_result'] = None\n",
    "\n",
    "for idx in range(len(valid)):\n",
    "    now_question=valid['question'][idx]\n",
    "    now_choices=valid['choices'][idx]\n",
    "    now_inputs = input_template.format(question=now_question, choices=now_choices)\n",
    "\n",
    "    now_prompt = initial_prompt + now_inputs\n",
    "    response = client.models.generate_content(\n",
    "    model = model,\n",
    "    contents = [now_prompt]\n",
    "    )\n",
    "\n",
    "    valid.loc[idx, 'initial_result'] = response.text\n",
    "\n",
    "    if idx % 10 == 0:\n",
    "        print(idx)"
   ]
  },
  {
   "cell_type": "code",
   "execution_count": 12,
   "id": "63ba7714",
   "metadata": {},
   "outputs": [],
   "source": [
    "valid['target_json'] = valid['target'].apply(lambda x: refine_string(x))\n",
    "valid['initial_result_json'] = valid['initial_result'].apply(lambda x: refine_string(x))"
   ]
  },
  {
   "cell_type": "code",
   "execution_count": 33,
   "id": "385b04f3",
   "metadata": {},
   "outputs": [],
   "source": [
    "valid['initial_result_answer'] = valid['initial_result_json'].apply(lambda x: x[0]['answer'])\n",
    "valid['initial_result_reason'] = valid['initial_result_json'].apply(lambda x: x[0]['reason'])\n",
    "valid['initial_result_likelihood'] = valid['initial_result_json'].apply(lambda x: x[0]['likelihood'])"
   ]
  },
  {
   "cell_type": "code",
   "execution_count": 64,
   "id": "42c27919",
   "metadata": {},
   "outputs": [],
   "source": [
    "scorer = rouge_scorer.RougeScorer(['rougeL'], use_stemmer=True)\n",
    "valid['initial_rougeL'] = valid[['reason', 'initial_result_reason']].apply(lambda x: scorer.score(x.reason, x.initial_result_reason)['rougeL'][2], axis=1)"
   ]
  },
  {
   "cell_type": "code",
   "execution_count": 70,
   "id": "89607e82",
   "metadata": {},
   "outputs": [
    {
     "name": "stdout",
     "output_type": "stream",
     "text": [
      "Accuracy : 0.9\n",
      "Sum of Score diff : 8.07\n",
      "Mean of Score diff : 0.807\n",
      "Mean of RougeL Fmeasure : 0.22048642728432394\n",
      "Sum of RougeL Fmeasure : 2.2048642728432393\n"
     ]
    }
   ],
   "source": [
    "print(f\"Accuracy : {valid[valid['answer'] == valid['initial_result_answer']].shape[0] / len(valid)}\")\n",
    "print(f\"Sum of Score diff : {abs(valid['likelihood'] - valid['initial_result_likelihood']).sum()}\")\n",
    "print(f\"Mean of Score diff : {abs(valid['likelihood'] - valid['initial_result_likelihood']).mean()}\")\n",
    "print(f\"Mean of RougeL Fmeasure : {valid['initial_rougeL'].mean()}\")\n",
    "print(f\"Sum of RougeL Fmeasure : {valid['initial_rougeL'].sum()}\")\n"
   ]
  },
  {
   "cell_type": "markdown",
   "id": "32ebc14d",
   "metadata": {},
   "source": [
    "### Optimized"
   ]
  },
  {
   "cell_type": "code",
   "execution_count": null,
   "id": "68dd8e16",
   "metadata": {},
   "outputs": [],
   "source": [
    "optimized_prompt = '''You are a smart multiple-choice answering assistant. Your primary role is to choose the single most accurate and precise answer for the given \\\"question\\\" from the provided \\\"choices\\\", which are possible options. When the \\\"question\\\" specifies a particular field, domain, or context, your selection must prioritize the meaning that is most specific and correct within that exact specialized context. The input may include illustrative examples of correct \\\"question\\\", \\\"choices\\\", and \\\"target\\\" outputs; these are for your reference to understand the task and expected output format, but you should only provide an answer for the final \\\"question\\\" presented in the query.\\n\\nPlease return a JSON object with three properties: \\\"answer\\\", \\\"reason\\\" and \\\"likelihood\\\".\\nThe \\\"answer\\\" property is an integer, indicating the right choice number.\\nThe \\\"reason\\\" property is a string that explains in detail why the chosen answer is the single best, most accurate, and most contextually appropriate match for the input question. If a specialized domain or context is provided in the question, your explanation must clearly articulate why the chosen answer is the most precise meaning within that specific field, differentiating it from other plausible but less exact options. When the question asks for an \\\"infrequent\\\" or \\\"niche\\\" meaning, the reason must clearly justify why the chosen option represents a genuinely rare but existing usage of the acronym, rather than a fabricated or irrelevant one. It must also clearly articulate all factors that influence the assigned 'likelihood' score, specifically addressing why the meaning's **global prevalence** is assessed as such, and explicitly distinguishing its global commonness from its potential commonness within the specific domain mentioned in the query, especially if the meaning is niche, infrequent, or has common alternative meanings.\\nThe \\\"likelihood\\\" is a probability (between 0 and 1) representing the **absolute global prevalence and commonness** of the chosen meaning for the acronym in reality, **across all contexts and general knowledge, strictly disregarding its commonness within the specific domain mentioned in the query**. A high likelihood (e.g., 0.9-1.0) means it's a widely recognized and common meaning globally. A low likelihood (e.g., 0.01-0.25) **must be assigned** if the meaning is very niche, infrequent, or less common in general knowledge, **even if it is the correct answer for the specific question and even if it is highly common or fundamental within a specialized field**. This score is **NOT** a measure of your confidence in the correctness of the answer for the specific query; it is a measure of the meaning's general recognition in the broader world. When assessing this score, always default to a broad, general knowledge perspective, rather than a specialized one.\\n\\nSome examples of correct \\\"question\\\" & \\\"choices\\\" & \\\"target\\\" are:\\nquestion: In the field of networking and telecommunications, what does the acronym MPLS most commonly refer to, outside of its primary 'Multiprotocol Label Switching' usage?\\nchoices : [1] Multiprotocol Label Switching, [2] Minimum Packet Loss System, [3] Multi-Platform Load Sharing, [4] Mobile Positioning and Location Services\\ntarget : ```json\\n{\\n  \\\"answer\\\":4,\\n  \\\"reason\\\":\\\"While MPLS is overwhelmingly known as 'Multiprotocol Label Switching' in core networking, the acronym also less commonly stands for 'Mobile Positioning and Location Services' in certain contexts within mobile telecommunications, particularly in older 2G\\\\/3G systems or related research.\\\",\\n  \\\"likelihood\\\":0.05\\n}\\n```\\n==\\n\\n\\n\\nSome examples of correct \\\"question\\\" & \\\"choices\\\" & \\\"target\\\" are:\\nquestion: While commonly known in business as 'Enterprise Resource Planning,' the acronym ERP has a distinct, less widely known meaning in another scientific field. What does ERP refer to in the context of cognitive neuroscience?\\nchoices : [1] Enterprise Resource Planning, [2] Event Related Potentials, [3] Electronic Research Protocols, [4] Experimental Reaction Pathways\\ntarget : ```json\\n{\\n  \\\"answer\\\":2,\\n  \\\"reason\\\":\\\"ERP is overwhelmingly recognized as 'Enterprise Resource Planning' in the business world. However, in cognitive neuroscience, ERP stands for 'Event Related Potentials,' which are measured brain responses directly related to a specific event. This meaning is highly specialized and not widely known outside of neuroscience, making it an 'unpopular' or less common general understanding of the acronym.\\\",\\n  \\\"likelihood\\\":0.07\\n}\\n```\\n==\\n\\n\\n\\nSome examples of correct \\\"question\\\" & \\\"choices\\\" & \\\"target\\\" are:\\nquestion: In the field of advanced microscopy and nanoscience, what does the acronym SNOM stand for?\\nchoices : [1] Standard Nanoscale Optical Module, [2] Scanning Near-field Optical Microscopy, [3] Super-resolution Nano-Observation Machine, [4] Spatial Nanospectroscopy of Organic Materials\\ntarget : ```json\\n{\\n  \\\"answer\\\":2,\\n  \\\"reason\\\":\\\"SNOM stands for Scanning Near-field Optical Microscopy, a technique used to achieve spatial resolution beyond the diffraction limit of light by probing the sample with an evanescent field.\\\",\\n  \\\"likelihood\\\":0.05\\n}\\n```'''\n",
    "\n",
    "input_template = \"\"\"\n",
    "  # **Inputs**\n",
    "\n",
    "  - `question` : {question}\n",
    "  - `choices`: {choices}\n",
    "  \"\"\""
   ]
  },
  {
   "cell_type": "code",
   "execution_count": null,
   "id": "0c4462e1",
   "metadata": {},
   "outputs": [
    {
     "name": "stdout",
     "output_type": "stream",
     "text": [
      "You are a smart multiple-choice answering assistant. Your primary role is to choose the single most accurate and precise answer for the given \"question\" from the provided \"choices\", which are possible options. When the \"question\" specifies a particular field, domain, or context, your selection must prioritize the meaning that is most specific and correct within that exact specialized context. The input may include illustrative examples of correct \"question\", \"choices\", and \"target\" outputs; these are for your reference to understand the task and expected output format, but you should only provide an answer for the final \"question\" presented in the query.\n",
      "\n",
      "Please return a JSON object with three properties: \"answer\", \"reason\" and \"likelihood\".\n",
      "The \"answer\" property is an integer, indicating the right choice number.\n",
      "The \"reason\" property is a string that explains in detail why the chosen answer is the single best, most accurate, and most contextually appropriate match for the input question. If a specialized domain or context is provided in the question, your explanation must clearly articulate why the chosen answer is the most precise meaning within that specific field, differentiating it from other plausible but less exact options. When the question asks for an \"infrequent\" or \"niche\" meaning, the reason must clearly justify why the chosen option represents a genuinely rare but existing usage of the acronym, rather than a fabricated or irrelevant one. It must also clearly articulate all factors that influence the assigned 'likelihood' score, specifically addressing why the meaning's **global prevalence** is assessed as such, and explicitly distinguishing its global commonness from its potential commonness within the specific domain mentioned in the query, especially if the meaning is niche, infrequent, or has common alternative meanings.\n",
      "The \"likelihood\" is a probability (between 0 and 1) representing the **absolute global prevalence and commonness** of the chosen meaning for the acronym in reality, **across all contexts and general knowledge, strictly disregarding its commonness within the specific domain mentioned in the query**. A high likelihood (e.g., 0.9-1.0) means it's a widely recognized and common meaning globally. A low likelihood (e.g., 0.01-0.25) **must be assigned** if the meaning is very niche, infrequent, or less common in general knowledge, **even if it is the correct answer for the specific question and even if it is highly common or fundamental within a specialized field**. This score is **NOT** a measure of your confidence in the correctness of the answer for the specific query; it is a measure of the meaning's general recognition in the broader world. When assessing this score, always default to a broad, general knowledge perspective, rather than a specialized one.\n",
      "\n",
      "Some examples of correct \"question\" & \"choices\" & \"target\" are:\n",
      "question: In the field of networking and telecommunications, what does the acronym MPLS most commonly refer to, outside of its primary 'Multiprotocol Label Switching' usage?\n",
      "choices : [1] Multiprotocol Label Switching, [2] Minimum Packet Loss System, [3] Multi-Platform Load Sharing, [4] Mobile Positioning and Location Services\n",
      "target : ```json\n",
      "{\n",
      "  \"answer\":4,\n",
      "  \"reason\":\"While MPLS is overwhelmingly known as 'Multiprotocol Label Switching' in core networking, the acronym also less commonly stands for 'Mobile Positioning and Location Services' in certain contexts within mobile telecommunications, particularly in older 2G\\/3G systems or related research.\",\n",
      "  \"likelihood\":0.05\n",
      "}\n",
      "```\n",
      "==\n",
      "\n",
      "\n",
      "\n",
      "Some examples of correct \"question\" & \"choices\" & \"target\" are:\n",
      "question: While commonly known in business as 'Enterprise Resource Planning,' the acronym ERP has a distinct, less widely known meaning in another scientific field. What does ERP refer to in the context of cognitive neuroscience?\n",
      "choices : [1] Enterprise Resource Planning, [2] Event Related Potentials, [3] Electronic Research Protocols, [4] Experimental Reaction Pathways\n",
      "target : ```json\n",
      "{\n",
      "  \"answer\":2,\n",
      "  \"reason\":\"ERP is overwhelmingly recognized as 'Enterprise Resource Planning' in the business world. However, in cognitive neuroscience, ERP stands for 'Event Related Potentials,' which are measured brain responses directly related to a specific event. This meaning is highly specialized and not widely known outside of neuroscience, making it an 'unpopular' or less common general understanding of the acronym.\",\n",
      "  \"likelihood\":0.07\n",
      "}\n",
      "```\n",
      "==\n",
      "\n",
      "\n",
      "\n",
      "Some examples of correct \"question\" & \"choices\" & \"target\" are:\n",
      "question: In the field of advanced microscopy and nanoscience, what does the acronym SNOM stand for?\n",
      "choices : [1] Standard Nanoscale Optical Module, [2] Scanning Near-field Optical Microscopy, [3] Super-resolution Nano-Observation Machine, [4] Spatial Nanospectroscopy of Organic Materials\n",
      "target : ```json\n",
      "{\n",
      "  \"answer\":2,\n",
      "  \"reason\":\"SNOM stands for Scanning Near-field Optical Microscopy, a technique used to achieve spatial resolution beyond the diffraction limit of light by probing the sample with an evanescent field.\",\n",
      "  \"likelihood\":0.05\n",
      "}\n",
      "```\n"
     ]
    }
   ],
   "source": [
    "print(optimized_prompt)"
   ]
  },
  {
   "cell_type": "code",
   "execution_count": 11,
   "id": "79ed329f",
   "metadata": {},
   "outputs": [
    {
     "name": "stdout",
     "output_type": "stream",
     "text": [
      "0\n"
     ]
    }
   ],
   "source": [
    "valid['optimized_result'] = None\n",
    "\n",
    "for idx in range(len(valid)):\n",
    "    now_question=valid['question'][idx]\n",
    "    now_choices=valid['choices'][idx]\n",
    "    now_inputs = input_template.format(question=now_question, choices=now_choices)\n",
    "\n",
    "    now_prompt = optimized_prompt + now_inputs\n",
    "    response = client.models.generate_content(\n",
    "    model = model,\n",
    "    contents = [now_prompt]\n",
    "    )\n",
    "\n",
    "    valid.loc[idx, 'optimized_result'] = response.text\n",
    "\n",
    "    if idx % 10 == 0:\n",
    "        print(idx)"
   ]
  },
  {
   "cell_type": "code",
   "execution_count": 12,
   "id": "f755494a",
   "metadata": {},
   "outputs": [],
   "source": [
    "valid['optimized_result_json'] = valid['optimized_result'].apply(lambda x: refine_string(x))\n",
    "valid['optimized_result_answer'] = valid['optimized_result_json'].apply(lambda x: x[0]['answer'])\n",
    "valid['optimized_result_reason'] = valid['optimized_result_json'].apply(lambda x: x[0]['reason'])\n",
    "valid['optimized_result_likelihood'] = valid['optimized_result_json'].apply(lambda x: x[0]['likelihood'])"
   ]
  },
  {
   "cell_type": "code",
   "execution_count": 15,
   "id": "5fba2499",
   "metadata": {},
   "outputs": [],
   "source": [
    "valid['optimized_rougeL'] = valid[['reason', 'optimized_result_reason']].apply(lambda x: scorer.score(x.reason, x.optimized_result_reason)['rougeL'][2], axis=1)"
   ]
  },
  {
   "cell_type": "code",
   "execution_count": null,
   "id": "5f341eb5",
   "metadata": {},
   "outputs": [
    {
     "name": "stdout",
     "output_type": "stream",
     "text": [
      "Accuracy : 0.9\n",
      "Sum of Score diff : 2.1500000000000004\n",
      "Mean of Score diff : 0.21500000000000002\n",
      "Mean of RougeL Fmeasure : 0.30202621634655347\n",
      "Sum of RougeL Fmeasure : 3.0202621634655347\n"
     ]
    }
   ],
   "source": [
    "print(f\"Accuracy : {valid[valid['answer'] == valid['optimized_result_answer']].shape[0] / len(valid)}\")\n",
    "print(f\"Sum of Score diff : {abs(valid['likelihood'] - valid['optimized_result_likelihood']).sum()}\")\n",
    "print(f\"Mean of Score diff : {abs(valid['likelihood'] - valid['optimized_result_likelihood']).mean()}\")\n",
    "print(f\"Mean of RougeL Fmeasure : {valid['optimized_rougeL'].mean()}\")\n",
    "print(f\"Sum of RougeL Fmeasure : {valid['optimized_rougeL'].sum()}\")\n"
   ]
  },
  {
   "cell_type": "code",
   "execution_count": null,
   "id": "5582eb1a",
   "metadata": {},
   "outputs": [],
   "source": [
    "# Accuracy : 0.9\n",
    "# Sum of Score diff : 8.07\n",
    "# Mean of Score diff : 0.807\n",
    "# Mean of RougeL Fmeasure : 0.22048642728432394\n",
    "# Sum of RougeL Fmeasure : 2.2048642728432393"
   ]
  },
  {
   "cell_type": "code",
   "execution_count": null,
   "id": "572b743b",
   "metadata": {},
   "outputs": [
    {
     "data": {
      "text/html": [
       "<div>\n",
       "<style scoped>\n",
       "    .dataframe tbody tr th:only-of-type {\n",
       "        vertical-align: middle;\n",
       "    }\n",
       "\n",
       "    .dataframe tbody tr th {\n",
       "        vertical-align: top;\n",
       "    }\n",
       "\n",
       "    .dataframe thead th {\n",
       "        text-align: right;\n",
       "    }\n",
       "</style>\n",
       "<table border=\"1\" class=\"dataframe\">\n",
       "  <thead>\n",
       "    <tr style=\"text-align: right;\">\n",
       "      <th></th>\n",
       "      <th>question</th>\n",
       "      <th>choices</th>\n",
       "      <th>answer</th>\n",
       "      <th>likelihood</th>\n",
       "      <th>reason</th>\n",
       "      <th>target</th>\n",
       "      <th>initial_result</th>\n",
       "      <th>target_json</th>\n",
       "      <th>initial_result_json</th>\n",
       "      <th>initial_result_answer</th>\n",
       "      <th>initial_result_reason</th>\n",
       "      <th>initial_result_likelihood</th>\n",
       "      <th>initial_rougeL</th>\n",
       "      <th>optimized_result</th>\n",
       "      <th>optimized_result_json</th>\n",
       "      <th>optimized_result_answer</th>\n",
       "      <th>optimized_result_reason</th>\n",
       "      <th>optimized_result_likelihood</th>\n",
       "      <th>optimized_rougeL</th>\n",
       "    </tr>\n",
       "  </thead>\n",
       "  <tbody>\n",
       "    <tr>\n",
       "      <th>9</th>\n",
       "      <td>What does the acronym ANOVA stand for?</td>\n",
       "      <td>[1] Analysis of Variance, [2] Advanced Network...</td>\n",
       "      <td>3</td>\n",
       "      <td>0.01</td>\n",
       "      <td>While ANOVA is most widely recognized in stati...</td>\n",
       "      <td>```json\\n{\\n  \"answer\":3,\\n  \"reason\":\"While A...</td>\n",
       "      <td>```json\\n{\\n  \"answer\": 1,\\n  \"reason\": \"The a...</td>\n",
       "      <td>({'answer': 3, 'reason': 'While ANOVA is most ...</td>\n",
       "      <td>({'answer': 1, 'reason': 'The acronym ANOVA is...</td>\n",
       "      <td>1</td>\n",
       "      <td>The acronym ANOVA is standard terminology in s...</td>\n",
       "      <td>1.0</td>\n",
       "      <td>0.208696</td>\n",
       "      <td>```json\\n{\\n  \"answer\": 1,\\n  \"reason\": \"The a...</td>\n",
       "      <td>({'answer': 1, 'reason': 'The acronym ANOVA is...</td>\n",
       "      <td>1</td>\n",
       "      <td>The acronym ANOVA is a well-established term i...</td>\n",
       "      <td>0.95</td>\n",
       "      <td>0.195489</td>\n",
       "    </tr>\n",
       "  </tbody>\n",
       "</table>\n",
       "</div>"
      ],
      "text/plain": [
       "                                 question  \\\n",
       "9  What does the acronym ANOVA stand for?   \n",
       "\n",
       "                                             choices  answer  likelihood  \\\n",
       "9  [1] Analysis of Variance, [2] Advanced Network...       3        0.01   \n",
       "\n",
       "                                              reason  \\\n",
       "9  While ANOVA is most widely recognized in stati...   \n",
       "\n",
       "                                              target  \\\n",
       "9  ```json\\n{\\n  \"answer\":3,\\n  \"reason\":\"While A...   \n",
       "\n",
       "                                      initial_result  \\\n",
       "9  ```json\\n{\\n  \"answer\": 1,\\n  \"reason\": \"The a...   \n",
       "\n",
       "                                         target_json  \\\n",
       "9  ({'answer': 3, 'reason': 'While ANOVA is most ...   \n",
       "\n",
       "                                 initial_result_json  initial_result_answer  \\\n",
       "9  ({'answer': 1, 'reason': 'The acronym ANOVA is...                      1   \n",
       "\n",
       "                               initial_result_reason  \\\n",
       "9  The acronym ANOVA is standard terminology in s...   \n",
       "\n",
       "   initial_result_likelihood  initial_rougeL  \\\n",
       "9                        1.0        0.208696   \n",
       "\n",
       "                                    optimized_result  \\\n",
       "9  ```json\\n{\\n  \"answer\": 1,\\n  \"reason\": \"The a...   \n",
       "\n",
       "                               optimized_result_json  optimized_result_answer  \\\n",
       "9  ({'answer': 1, 'reason': 'The acronym ANOVA is...                        1   \n",
       "\n",
       "                             optimized_result_reason  \\\n",
       "9  The acronym ANOVA is a well-established term i...   \n",
       "\n",
       "   optimized_result_likelihood  optimized_rougeL  \n",
       "9                         0.95          0.195489  "
      ]
     },
     "execution_count": 85,
     "metadata": {},
     "output_type": "execute_result"
    }
   ],
   "source": [
    "# valid[valid['answer'] != valid['optimized_result_answer']]"
   ]
  },
  {
   "cell_type": "code",
   "execution_count": null,
   "id": "8d2c2267",
   "metadata": {},
   "outputs": [],
   "source": []
  }
 ],
 "metadata": {
  "kernelspec": {
   "display_name": "Python 3",
   "language": "python",
   "name": "python3"
  },
  "language_info": {
   "codemirror_mode": {
    "name": "ipython",
    "version": 3
   },
   "file_extension": ".py",
   "mimetype": "text/x-python",
   "name": "python",
   "nbconvert_exporter": "python",
   "pygments_lexer": "ipython3",
   "version": "3.11.13"
  }
 },
 "nbformat": 4,
 "nbformat_minor": 5
}
