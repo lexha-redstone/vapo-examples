{
 "cells": [
  {
   "cell_type": "code",
   "execution_count": null,
   "id": "e20ae580",
   "metadata": {},
   "outputs": [],
   "source": [
    "# import sys\n",
    "# !{sys.executable} -m pip install datasets==3.6.0\n",
    "# !{sys.executable} -m pip install librosa soundfile\n",
    "\n",
    "import scipy.io.wavfile as wavfile\n",
    "import tempfile\n",
    "from datasets import load_dataset\n",
    "import pandas as pd\n",
    "from google.cloud import storage"
   ]
  },
  {
   "cell_type": "code",
   "execution_count": null,
   "id": "c171ff4c",
   "metadata": {},
   "outputs": [],
   "source": [
    "# Load fleurs dataset\n",
    "fleurs_valid_en = load_dataset(\"google/fleurs\", \"en_us\", split=\"validation\")\n",
    "fleurs_test_en = load_dataset(\"google/fleurs\", \"en_us\", split=\"test\")\n",
    "\n",
    "fleurs_valid_cmn = load_dataset(\"google/fleurs\", \"cmn_hans_cn\", split=\"validation\")\n",
    "fleurs_test_cmn = load_dataset(\"google/fleurs\", \"cmn_hans_cn\", split=\"test\")\n",
    "\n",
    "fleurs_valid_kr = load_dataset(\"google/fleurs\", \"ko_kr\", split=\"validation\")\n",
    "fleurs_test_kr = load_dataset(\"google/fleurs\", \"ko_kr\", split=\"test\")"
   ]
  },
  {
   "cell_type": "code",
   "execution_count": null,
   "id": "e424fe6c",
   "metadata": {},
   "outputs": [],
   "source": [
    "train_size = 30\n",
    "test_size = 20"
   ]
  },
  {
   "cell_type": "code",
   "execution_count": null,
   "id": "5d419b18",
   "metadata": {},
   "outputs": [],
   "source": [
    "local_file_names_en = [f'./sample-audio/en-{str(idx)}.wav' for idx in range(train_size)]\n",
    "local_file_names_cmn = [f'./sample-audio/cmn-{str(idx)}.wav' for idx in range(train_size)]\n",
    "local_file_names_kr = [f'./sample-audio/kr-{str(idx)}.wav' for idx in range(train_size)]\n",
    "\n",
    "local_file_names_test_en = [f'./sample-audio/test-en-{str(idx)}.wav' for idx in range(test_size)]\n",
    "local_file_names_test_cmn = [f'./sample-audio/test-cmn-{str(idx)}.wav' for idx in range(test_size)]\n",
    "local_file_names_test_kr = [f'./sample-audio/test-kr-{str(idx)}.wav' for idx in range(test_size)]"
   ]
  },
  {
   "cell_type": "code",
   "execution_count": null,
   "id": "c4aeb648",
   "metadata": {},
   "outputs": [],
   "source": [
    "# Save at Local\n",
    "for idx in range(train_size):\n",
    "    now_sampling_rate_en = fleurs_valid_en['audio'][idx][\"sampling_rate\"]\n",
    "    now_array_en = fleurs_valid_en['audio'][idx][\"array\"]\n",
    "\n",
    "    now_sampling_rate_cmn = fleurs_valid_cmn['audio'][idx][\"sampling_rate\"]\n",
    "    now_array_cmn = fleurs_valid_cmn['audio'][idx][\"array\"]\n",
    "\n",
    "    now_sampling_rate = fleurs_valid_kr['audio'][idx][\"sampling_rate\"]\n",
    "    now_array = fleurs_valid_kr['audio'][idx][\"array\"]\n",
    "\n",
    "    with tempfile.NamedTemporaryFile(suffix=\".wav\", delete=False) as temp_wav:\n",
    "        wavfile.write(local_file_names_en[idx], now_sampling_rate_en, now_array_en)\n",
    "    \n",
    "    with tempfile.NamedTemporaryFile(suffix=\".wav\", delete=False) as temp_wav:\n",
    "        wavfile.write(local_file_names_cmn[idx], now_sampling_rate_cmn, now_array_cmn)\n",
    "\n",
    "    with tempfile.NamedTemporaryFile(suffix=\".wav\", delete=False) as temp_wav:\n",
    "        wavfile.write(local_file_names_kr[idx], now_sampling_rate, now_array)\n"
   ]
  },
  {
   "cell_type": "code",
   "execution_count": null,
   "id": "eef8391e",
   "metadata": {},
   "outputs": [],
   "source": [
    "# Save at Local : Test data\n",
    "for idx in range(test_size):\n",
    "    now_sampling_rate_en = fleurs_test_en['audio'][idx][\"sampling_rate\"]\n",
    "    now_array_en = fleurs_test_en['audio'][idx][\"array\"]\n",
    "\n",
    "    now_sampling_rate_cmn = fleurs_test_cmn['audio'][idx][\"sampling_rate\"]\n",
    "    now_array_cmn = fleurs_test_cmn['audio'][idx][\"array\"]\n",
    "\n",
    "    now_sampling_rate = fleurs_test_kr['audio'][idx][\"sampling_rate\"]\n",
    "    now_array = fleurs_test_kr['audio'][idx][\"array\"]\n",
    "\n",
    "\n",
    "    with tempfile.NamedTemporaryFile(suffix=\".wav\", delete=False) as temp_wav:\n",
    "        wavfile.write(local_file_names_test_en[idx], now_sampling_rate_en, now_array_en)\n",
    "    \n",
    "    with tempfile.NamedTemporaryFile(suffix=\".wav\", delete=False) as temp_wav:\n",
    "        wavfile.write(local_file_names_test_cmn[idx], now_sampling_rate_cmn, now_array_cmn)\n",
    "\n",
    "    with tempfile.NamedTemporaryFile(suffix=\".wav\", delete=False) as temp_wav:\n",
    "        wavfile.write(local_file_names_test_kr[idx], now_sampling_rate, now_array)\n"
   ]
  },
  {
   "cell_type": "code",
   "execution_count": null,
   "id": "0e69cd80",
   "metadata": {},
   "outputs": [],
   "source": [
    "# Saving test dataset, locally\n",
    "\n",
    "df_test_en = pd.DataFrame(fleurs_test_en['transcription'], columns=['target']).iloc[:test_size]\n",
    "df_test_en['audio'] = local_file_names_test_en\n",
    "df_test_en.to_csv('./test-en.csv', index=False)\n",
    "\n",
    "df_test_cmn = pd.DataFrame(fleurs_test_cmn['transcription'], columns=['target']).iloc[:test_size]\n",
    "df_test_cmn['audio'] = local_file_names_test_cmn\n",
    "df_test_cmn.to_csv('./test-cmn.csv', index=False)"
   ]
  },
  {
   "cell_type": "code",
   "execution_count": null,
   "id": "1246d13c",
   "metadata": {},
   "outputs": [],
   "source": [
    "df_test_kr = pd.DataFrame(fleurs_test_kr['transcription'], columns=['target']).iloc[:test_size]\n",
    "df_test_kr['audio'] = local_file_names_test_kr"
   ]
  },
  {
   "cell_type": "code",
   "execution_count": null,
   "id": "f118a6af",
   "metadata": {},
   "outputs": [],
   "source": [
    "# Process dataset, to prevent wrong evaluation\n",
    "df_test_kr.loc[6, 'target'] = \"1940년 8월 15일 연합군은 프랑스 남부를 침략했고 이 침략은 드래군 작전이라 불렸다\"\n",
    "df_test_kr.loc[12, 'target'] = \"사건 발생 이후 깁슨은 병원으로 이송되었으나 얼마 후 숨을 거뒀다\"\n",
    "df_test_kr.loc[13, 'target'] = \"기술 결정론에 대한 대부분의 해석은 두 가지 개념을 갖습니다 기술 개발 자체가 문화나 정치 이상의 영향력을 보인다는 것과 기술은 사회적으로 통제되는 것이 아니라 오히려 사회에 본질적인 영향을 미칩니다\"\n",
    "\n",
    "df_test_kr.to_csv('./test-kr.csv', index=False)"
   ]
  },
  {
   "cell_type": "code",
   "execution_count": null,
   "id": "0b775e5b",
   "metadata": {},
   "outputs": [],
   "source": [
    "# !gcloud auth application-default login"
   ]
  },
  {
   "cell_type": "code",
   "execution_count": null,
   "id": "337ea70a",
   "metadata": {},
   "outputs": [],
   "source": [
    "# Upload to GCS\n",
    "def upload_wav_to_gcs(bucket_name, source_file_name, destination_blob_name, verbose=False):\n",
    "    try:\n",
    "        storage_client = storage.Client()\n",
    "    except Exception as e:\n",
    "        print(f\"Error: {e}\")\n",
    "        return\n",
    "\n",
    "    bucket = storage_client.bucket(bucket_name)\n",
    "    blob = bucket.blob(destination_blob_name)\n",
    "\n",
    "    if verbose:\n",
    "        print(f\"File upload started: '{source_file_name}' -> 'gs://{bucket_name}/{destination_blob_name}'\")\n",
    "\n",
    "    try:\n",
    "        blob.upload_from_filename(source_file_name, content_type='audio/wav')\n",
    "\n",
    "        if verbose:    \n",
    "            print(f\"File '{source_file_name}' Uploaded to '{destination_blob_name}'\")\n",
    "        \n",
    "    except Exception as e:\n",
    "        print(f\"Error when Uploading: {e}\")"
   ]
  },
  {
   "cell_type": "code",
   "execution_count": null,
   "id": "7de07806",
   "metadata": {},
   "outputs": [],
   "source": [
    "# Upload to GCS bucket\n",
    "BUCKET_NAME = '$YOUR_BUCKET_NAME'\n",
    "\n",
    "for idx in range(train_size):\n",
    "    file_name = 'inputs/audio/' +local_file_names_en[idx].split('/')[-1]\n",
    "    local_wav_file = local_file_names_en[idx]\n",
    "    upload_wav_to_gcs(BUCKET_NAME, local_wav_file, file_name, verbose=True)\n",
    "\n",
    "    file_name = 'inputs/audio/' + local_file_names_cmn[idx].split('/')[-1]\n",
    "    local_wav_file = local_file_names_cmn[idx]\n",
    "    upload_wav_to_gcs(BUCKET_NAME, local_wav_file, file_name, verbose=True)\n",
    "\n",
    "    file_name = 'inputs/audio/' + local_file_names_kr[idx].split('/')[-1]\n",
    "    local_wav_file = local_file_names_kr[idx]\n",
    "    upload_wav_to_gcs(BUCKET_NAME, local_wav_file, file_name, verbose=True)\n",
    "\n"
   ]
  },
  {
   "cell_type": "code",
   "execution_count": null,
   "id": "fe72ca27",
   "metadata": {},
   "outputs": [],
   "source": [
    "gcs_file_names_en = [f'gs://{BUCKET_NAME}/inputs/audio/en-{str(idx)}.wav' for idx in range(train_size)]\n",
    "gcs_file_names_cmn = [f'gs://{BUCKET_NAME}/inputs/audio/cmn-{str(idx)}.wav' for idx in range(train_size)]\n",
    "gcs_file_names_kr = [f'gs://{BUCKET_NAME}/inputs/audio/kr-{str(idx)}.wav' for idx in range(train_size)]"
   ]
  },
  {
   "cell_type": "code",
   "execution_count": null,
   "id": "85e5c248",
   "metadata": {},
   "outputs": [],
   "source": [
    "df_train_en = pd.DataFrame(fleurs_valid_en['transcription'], columns=['target']).iloc[:train_size]\n",
    "df_train_en['audio'] = gcs_file_names_en\n",
    "\n",
    "df_train_cmn = pd.DataFrame(fleurs_valid_cmn['transcription'], columns=['target']).iloc[:train_size]\n",
    "df_train_cmn['audio'] = gcs_file_names_cmn\n",
    "\n",
    "df_train_kr = pd.DataFrame(fleurs_valid_kr['transcription'], columns=['target']).iloc[:train_size]\n",
    "df_train_kr['audio'] = gcs_file_names_kr"
   ]
  },
  {
   "cell_type": "code",
   "execution_count": null,
   "id": "75799dc7",
   "metadata": {},
   "outputs": [],
   "source": [
    "# Process dataset, to prevent wrong training\n",
    "df_train_kr.loc[4, 'target'] = \"폴란드 남자 시각 장애인 스키 선수 마키 크레젤과 가이드 안나 오가진스카가 슈퍼대회전에서 13위로 경기를 마쳤다 한국의 박종석은 남자 좌식스키 슈퍼대회전에서 24위를 차지했다\"\n",
    "df_train_kr.loc[6, 'target'] = \"스키여행은 스키광 스키범 이라고 불리는 애호가들이 즐기는 여행 방식이다 그 사람들은 휴가 일정을 어느 한 특정 장소에서 줄곧 스키를 타는 시간으로 계획한다\"\n",
    "df_train_kr.loc[11, 'target'] = \"몰 박사는 일부 환자가 병원에서 질병에 감염되었을 수 있다고 생각하며 그중 적어도 2명은 건강한 병원 근로자였을 것으로 생각했습니다\"\n",
    "df_train_kr.loc[15, 'target'] = \"대부분의 경우 해외 갭 이어 코스에 등록하면 실제로 고국에서 고등 교육에 진학할 가능성을 높일 수 있습니다\"\n",
    "df_train_kr.loc[22, 'target'] = \"108 접시의 춰펀 버헝 힌두교에서는 신에게 바치는 단것 과일 견과류 요리 등 56가지 다른 먹을거리들가 바바시함 에게 차려졌습니다\""
   ]
  },
  {
   "cell_type": "code",
   "execution_count": null,
   "id": "fb36ecbd",
   "metadata": {},
   "outputs": [],
   "source": [
    "def upload_df_to_gcs_as_jsonl(df: pd.DataFrame, bucket_name: str, destination_blob_name: str):\n",
    "    jsonl_string = df.to_json(orient='records', lines=True, force_ascii=False)\n",
    "    storage_client = storage.Client()\n",
    "    bucket = storage_client.bucket(bucket_name)\n",
    "    blob = bucket.blob(destination_blob_name)\n",
    "    blob.upload_from_string(jsonl_string, content_type='application/json')\n",
    "\n",
    "    print(f\"Uploaded : {bucket_name} / {destination_blob_name}\")"
   ]
  },
  {
   "cell_type": "code",
   "execution_count": null,
   "id": "d91ec4e5",
   "metadata": {},
   "outputs": [],
   "source": [
    "train_data_path_en = 'inputs/train_audio_en.jsonl'\n",
    "upload_df_to_gcs_as_jsonl(df_train_en, BUCKET_NAME, train_data_path_en)\n",
    "\n",
    "train_data_path_cmn = 'inputs/train_audio_cmn.jsonl'\n",
    "upload_df_to_gcs_as_jsonl(df_train_cmn, BUCKET_NAME, train_data_path_cmn)\n",
    "\n",
    "train_data_path = 'inputs/train_audio_kr.jsonl'\n",
    "upload_df_to_gcs_as_jsonl(df_train_kr, BUCKET_NAME, train_data_path)"
   ]
  },
  {
   "cell_type": "code",
   "execution_count": null,
   "id": "3011ef96",
   "metadata": {},
   "outputs": [],
   "source": []
  }
 ],
 "metadata": {
  "kernelspec": {
   "display_name": "Python 3",
   "language": "python",
   "name": "python3"
  },
  "language_info": {
   "codemirror_mode": {
    "name": "ipython",
    "version": 3
   },
   "file_extension": ".py",
   "mimetype": "text/x-python",
   "name": "python",
   "nbconvert_exporter": "python",
   "pygments_lexer": "ipython3",
   "version": "3.11.13"
  }
 },
 "nbformat": 4,
 "nbformat_minor": 5
}
