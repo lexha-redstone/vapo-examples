{
  "cells": [
    {
      "cell_type": "code",
      "execution_count": null,
      "metadata": {
        "id": "ur8xi4C7S06n"
      },
      "outputs": [],
      "source": [
        "# Copyright 2024 Google LLC\n",
        "#\n",
        "# Licensed under the Apache License, Version 2.0 (the \"License\");\n",
        "# you may not use this file except in compliance with the License.\n",
        "# You may obtain a copy of the License at\n",
        "#\n",
        "#     https://www.apache.org/licenses/LICENSE-2.0\n",
        "#\n",
        "# Unless required by applicable law or agreed to in writing, software\n",
        "# distributed under the License is distributed on an \"AS IS\" BASIS,\n",
        "# WITHOUT WARRANTIES OR CONDITIONS OF ANY KIND, either express or implied.\n",
        "# See the License for the specific language governing permissions and\n",
        "# limitations under the License."
      ]
    },
    {
      "cell_type": "markdown",
      "metadata": {
        "id": "g65MmV_HKi7I"
      },
      "source": [
        "## VAPO Custom metric Example 2-1\n",
        "\n",
        "- [Original Reference](https://github.com/GoogleCloudPlatform/generative-ai/blob/main/gemini/prompts/prompt_optimizer/vertex_ai_prompt_optimizer_sdk_custom_metric.ipynb) from [Ivan Nardini](https://github.com/inardini)"
      ]
    },
    {
      "cell_type": "markdown",
      "metadata": {
        "id": "4HKyj5KwYePX"
      },
      "source": [
        "### Objective\n",
        "\n",
        "This notebook demonstrates how to leverage Vertex AI prompt optimizer to optimize a simple prompt for a Gemini model using your own metric. The goal is to use Vertex AI prompt optimizer to find a new prompt template that generates better responses based on your own optimization metric.\n",
        "\n",
        "This tutorial uses the following Google Cloud services and resources:\n",
        "\n",
        "- Generative AI on Vertex AI\n",
        "- Vertex AI prompt optimizer\n",
        "- Vertex AI Gen AI evaluation\n",
        "- Vertex AI Custom job\n",
        "- Cloud Run\n",
        "\n",
        "The steps performed include:\n",
        "\n",
        "1. Define the prompt template you want to optimize.\n",
        "2. Prepare the prompt optimization dataset.\n",
        "3. Define and deploy your own custom evaluation metric on Cloud function.\n",
        "4. Set optimization mode and steps.\n",
        "5. Run the automatic prompt optimization job.\n",
        "6. Collect the best prompt template and eval metric.\n",
        "7. Validate the best prompt template."
      ]
    },
    {
      "cell_type": "markdown",
      "metadata": {
        "id": "aed92deeb4a0"
      },
      "source": [
        "### Costs\n",
        "\n",
        "This tutorial uses billable components of Google Cloud:\n",
        "\n",
        "* Vertex AI\n",
        "* Cloud Storage\n",
        "\n",
        "Learn about [Vertex AI pricing](https://cloud.google.com/vertex-ai/pricing) and [Cloud Storage pricing](https://cloud.google.com/storage/pricing) and use the [Pricing Calculator](https://cloud.google.com/products/calculator/) to generate a cost estimate based on your projected usage."
      ]
    },
    {
      "cell_type": "markdown",
      "metadata": {
        "id": "61RBz8LLbxCR"
      },
      "source": [
        "## 2. Before you start"
      ]
    },
    {
      "cell_type": "markdown",
      "metadata": {
        "id": "No17Cw5hgx12"
      },
      "source": [
        "### Install Vertex AI SDK for Python and other required packages\n"
      ]
    },
    {
      "cell_type": "code",
      "execution_count": null,
      "metadata": {
        "colab": {
          "base_uri": "https://localhost:8080/"
        },
        "id": "enFkr5SXo36F",
        "outputId": "dcec2204-026d-4d96-fd98-83a207bcc2ef"
      },
      "outputs": [],
      "source": [
        "%pip install --upgrade --quiet 'google-cloud-aiplatform[evaluataion]'\n",
        "%pip install --upgrade --quiet 'plotly' 'asyncio' 'tqdm' 'tenacity' 'etils' 'importlib_resources' 'fsspec' 'gcsfs' 'nbformat>=4.2.0'"
      ]
    },
    {
      "cell_type": "code",
      "execution_count": null,
      "metadata": {
        "colab": {
          "base_uri": "https://localhost:8080/",
          "height": 568
        },
        "id": "RrKXzTVMDKb4",
        "outputId": "2374fa0a-5aad-492d-cc17-2ef6ad684b11"
      },
      "outputs": [],
      "source": [
        "!wget https://raw.githubusercontent.com/GoogleCloudPlatform/generative-ai/main/gemini/prompts/prompt_optimizer/vapo_lib.py\n",
        "import vapo_lib"
      ]
    },
    {
      "cell_type": "code",
      "execution_count": null,
      "metadata": {
        "colab": {
          "base_uri": "https://localhost:8080/"
        },
        "id": "e55e2195ce2d",
        "outputId": "1291e96d-44bf-4609-869c-4232720e98bf"
      },
      "outputs": [],
      "source": [
        "! mkdir -p ./tutorial/utils && wget https://raw.githubusercontent.com/GoogleCloudPlatform/generative-ai/main/gemini/prompts/prompt_optimizer/vapo_lib.py -P ./tutorial/utils"
      ]
    },
    {
      "cell_type": "markdown",
      "metadata": {
        "id": "dmWOrTJ3gx13"
      },
      "source": [
        "### Authenticate your notebook environment (Colab only)\n",
        "\n",
        "Authenticate your environment on Google Colab.\n"
      ]
    },
    {
      "cell_type": "code",
      "execution_count": null,
      "metadata": {
        "colab": {
          "base_uri": "https://localhost:8080/"
        },
        "id": "NyKGtVQjgx13",
        "outputId": "d9f11887-c311-4f12-8951-3b61cd8f23a5"
      },
      "outputs": [],
      "source": [
        "import sys\n",
        "\n",
        "if \"google.colab\" in sys.modules:\n",
        "    try:\n",
        "        import google.auth\n",
        "        import google.auth.transport.requests\n",
        "        from google.colab import auth\n",
        "\n",
        "        auth.authenticate_user()\n",
        "        creds, project = google.auth.default()\n",
        "        authentication = google.auth.transport.requests.Request()\n",
        "        if creds.token:\n",
        "            print(\"Authentication successful.\")\n",
        "        else:\n",
        "            print(\"Authentication successful, but no token was returned.\")\n",
        "    except Exception as e:\n",
        "        print(f\"Error during Colab authentication: {e}\")\n",
        "\n",
        "! gcloud auth login"
      ]
    },
    {
      "cell_type": "markdown",
      "metadata": {
        "id": "DF4l8DTdWgPY"
      },
      "source": [
        "### Set Google Cloud project information\n",
        "\n",
        "To get started using Vertex AI, you must have an existing Google Cloud project and [enable the following APIs](https://console.cloud.google.com/flows/enableapi?apiid=cloudresourcemanager.googleapis.com,aiplatform.googleapis.com,cloudfunctions.googleapis.com,run.googleapis.com).\n",
        "\n",
        "Learn more about [setting up a project and a development environment](https://cloud.google.com/vertex-ai/docs/start/cloud-environment)."
      ]
    },
    {
      "cell_type": "markdown",
      "metadata": {
        "id": "WReHDGG5g0XY"
      },
      "source": [
        "#### Set your project ID and project number"
      ]
    },
    {
      "cell_type": "code",
      "execution_count": null,
      "metadata": {
        "colab": {
          "base_uri": "https://localhost:8080/"
        },
        "id": "oM1iC_MfAts1",
        "outputId": "f56ce3f0-5e53-47b2-e298-9235c479e370"
      },
      "outputs": [
        {
          "name": "stdout",
          "output_type": "stream",
          "text": [
            "Updated property [core/project].\n"
          ]
        }
      ],
      "source": [
        "PROJECT_ID = \"my-argolis-prj\"  # @param {type:\"string\"}\n",
        "\n",
        "# Set the project id\n",
        "! gcloud config set project {PROJECT_ID}"
      ]
    },
    {
      "cell_type": "code",
      "execution_count": null,
      "metadata": {
        "id": "oZpm-sL8f1z_"
      },
      "outputs": [],
      "source": [
        "PROJECT_NUMBER = !gcloud projects describe {PROJECT_ID} --format=\"get(projectNumber)\"[0]\n",
        "PROJECT_NUMBER = PROJECT_NUMBER[0]"
      ]
    },
    {
      "cell_type": "markdown",
      "metadata": {
        "id": "region"
      },
      "source": [
        "#### Region\n",
        "\n",
        "You can also change the `REGION` variable used by Vertex AI. Learn more about [Vertex AI regions](https://cloud.google.com/vertex-ai/docs/general/locations)."
      ]
    },
    {
      "cell_type": "code",
      "execution_count": null,
      "metadata": {
        "id": "I6FmBV2_0fBP"
      },
      "outputs": [],
      "source": [
        "REGION = \"us-central1\" #\"asia-northeast3\"  # @param {type: \"string\"}"
      ]
    },
    {
      "cell_type": "markdown",
      "metadata": {
        "id": "zgPO1eR3CYjk"
      },
      "source": [
        "#### Create a Cloud Storage bucket\n",
        "\n",
        "Create a storage bucket to store intermediate artifacts such as datasets."
      ]
    },
    {
      "cell_type": "code",
      "execution_count": null,
      "metadata": {
        "id": "MzGDU7TWdts_"
      },
      "outputs": [],
      "source": [
        "BUCKET_NAME = \"redstone_base_bucket\"  # @param {type:\"string\"}\n",
        "BUCKET_URI = f\"gs://{BUCKET_NAME}\"  # @param {type:\"string\"}"
      ]
    },
    {
      "cell_type": "code",
      "execution_count": null,
      "metadata": {
        "id": "NIq7R4HZCfIc"
      },
      "outputs": [],
      "source": [
        "# ! gsutil mb -l {REGION} -p {PROJECT_ID} {BUCKET_URI}"
      ]
    },
    {
      "cell_type": "markdown",
      "metadata": {
        "id": "set_service_account"
      },
      "source": [
        "#### Service Account and permissions\n",
        "\n",
        "Vertex AI Prompt optimizer requires a service account with the following permissions:\n",
        "\n",
        "-   `Vertex AI User` to call Vertex LLM API\n",
        "-   `Storage Object Admin` to read and write to your GCS bucket.\n",
        "-   `Artifact Registry Reader` to download the pipeline template from Artifact Registry.\n",
        "-   `Cloud Run Developer` to deploy function on Cloud Run.\n",
        "\n",
        "[Check out the documentation](https://cloud.google.com/iam/docs/manage-access-service-accounts#iam-view-access-sa-gcloud) to learn how to grant those permissions to a single service account.\n"
      ]
    },
    {
      "cell_type": "markdown",
      "metadata": {
        "id": "fNRKI99_QtGR"
      },
      "source": [
        "> If you run following commands using Vertex AI Workbench, please directly run in the terminal.\n"
      ]
    },
    {
      "cell_type": "code",
      "execution_count": null,
      "metadata": {
        "id": "ssUJJqXJJHgC"
      },
      "outputs": [],
      "source": [
        "SERVICE_ACCOUNT = f\"{PROJECT_NUMBER}-compute@developer.gserviceaccount.com\""
      ]
    },
    {
      "cell_type": "code",
      "execution_count": null,
      "metadata": {
        "colab": {
          "base_uri": "https://localhost:8080/"
        },
        "id": "wqOHg5aid6HP",
        "outputId": "5d54b00c-8a7a-4f16-f771-562ada8e22c2"
      },
      "outputs": [],
      "source": [
        "for role in ['aiplatform.user', 'storage.objectAdmin', 'artifactregistry.reader', 'run.developer', 'run.invoker']:\n",
        "\n",
        "    ! gcloud projects add-iam-policy-binding {PROJECT_ID} \\\n",
        "      --member=serviceAccount:{SERVICE_ACCOUNT} \\\n",
        "      --role=roles/{role} --condition=None"
      ]
    },
    {
      "cell_type": "markdown",
      "metadata": {
        "id": "Ek1-iTbPjzdJ"
      },
      "source": [
        "### Set tutorial folder and workspace\n",
        "\n",
        "Set a local folder to collect and organize data and any tutorial artifacts."
      ]
    },
    {
      "cell_type": "code",
      "execution_count": null,
      "metadata": {
        "id": "BbfKRabXj3la"
      },
      "outputs": [],
      "source": [
        "from pathlib import Path as path\n",
        "\n",
        "ROOT_PATH = path.cwd()\n",
        "TUTORIAL_PATH = ROOT_PATH / \"tutorial_onboard\"\n",
        "BUILD_PATH = TUTORIAL_PATH / \"build_onboard\"\n",
        "\n",
        "TUTORIAL_PATH.mkdir(parents=True, exist_ok=True)\n",
        "BUILD_PATH.mkdir(parents=True, exist_ok=True)"
      ]
    },
    {
      "cell_type": "markdown",
      "metadata": {
        "id": "BaNdfftpXTIX"
      },
      "source": [
        "Set an associated workspace to store prompt optimization results on Cloud Storage bucket."
      ]
    },
    {
      "cell_type": "code",
      "execution_count": null,
      "metadata": {
        "id": "joJPc3FmX1fk"
      },
      "outputs": [],
      "source": [
        "from etils import epath\n",
        "\n",
        "WORKSPACE_URI = epath.Path(BUCKET_URI) / \"optimization_onboard\"\n",
        "INPUT_DATA_URI = epath.Path(WORKSPACE_URI) / \"data_onboard\"\n",
        "\n",
        "WORKSPACE_URI.mkdir(parents=True, exist_ok=True)\n",
        "INPUT_DATA_URI.mkdir(parents=True, exist_ok=True)"
      ]
    },
    {
      "cell_type": "markdown",
      "metadata": {
        "id": "960505627ddf"
      },
      "source": [
        "### Import libraries"
      ]
    },
    {
      "cell_type": "code",
      "execution_count": null,
      "metadata": {
        "id": "PyQmSRbKA8r-"
      },
      "outputs": [],
      "source": [
        "# Tutorial\n",
        "from argparse import Namespace\n",
        "import json\n",
        "\n",
        "# General\n",
        "import logging\n",
        "from pprint import pprint\n",
        "import warnings\n",
        "\n",
        "from IPython.display import HTML, display\n",
        "from google.cloud import aiplatform\n",
        "import pandas as pd\n",
        "import requests\n",
        "from sklearn.model_selection import train_test_split\n",
        "from tutorial.utils import vapo_lib"
      ]
    },
    {
      "cell_type": "markdown",
      "metadata": {
        "id": "820DIvw1o8tB"
      },
      "source": [
        "### Libraries settings"
      ]
    },
    {
      "cell_type": "code",
      "execution_count": null,
      "metadata": {
        "id": "HKc4ZdUBo_SM"
      },
      "outputs": [],
      "source": [
        "warnings.filterwarnings(\"ignore\")\n",
        "logging.getLogger(\"urllib3.connectionpool\").setLevel(logging.ERROR)"
      ]
    },
    {
      "cell_type": "markdown",
      "metadata": {
        "id": "gxc7q4r-DFH4"
      },
      "source": [
        "### Define constants"
      ]
    },
    {
      "cell_type": "code",
      "execution_count": null,
      "metadata": {
        "id": "0Y5t67f3DHNm"
      },
      "outputs": [],
      "source": [
        "INPUT_DATA_FILE_URI = \"gs://redstone_base_bucket/input/train_df_sample_upload.csv\"\n",
        "\n",
        "INPUT_OPTIMIZATION_DATA_URI = epath.Path(WORKSPACE_URI) / \"prompt_optimization_data\"\n",
        "INPUT_OPTIMIZATION_DATA_FILE_URI = str(\n",
        "    INPUT_DATA_URI / \"prompt_optimization_dataset.jsonl\"\n",
        ")\n",
        "OUTPUT_OPTIMIZATION_DATA_URI = epath.Path(WORKSPACE_URI) / \"optimization_jobs\"\n",
        "APD_CONTAINER_URI = (\n",
        "    \"us-docker.pkg.dev/vertex-ai-restricted/builtin-algorithm/apd:preview_v1_0\"\n",
        ")\n",
        "CONFIG_FILE_URI = str(WORKSPACE_URI / \"config\" / \"config.json\")"
      ]
    },
    {
      "cell_type": "markdown",
      "metadata": {
        "id": "init_aip:mbsdk,all"
      },
      "source": [
        "### Initialize Vertex AI SDK for Python\n",
        "\n",
        "Initialize the Vertex AI SDK for Python for your project."
      ]
    },
    {
      "cell_type": "code",
      "execution_count": null,
      "metadata": {
        "colab": {
          "base_uri": "https://localhost:8080/"
        },
        "id": "aXUXmoMVVOmX",
        "outputId": "c8fbbd1f-d3ab-45fd-eb91-344fac3cc3b0"
      },
      "outputs": [
        {
          "name": "stdout",
          "output_type": "stream",
          "text": [
            "us-central1\n"
          ]
        }
      ],
      "source": [
        "print(REGION)"
      ]
    },
    {
      "cell_type": "code",
      "execution_count": null,
      "metadata": {
        "id": "bQMc2Uwf0fBQ"
      },
      "outputs": [],
      "source": [
        "aiplatform.init(project=PROJECT_ID, location=REGION, staging_bucket=BUCKET_URI)"
      ]
    },
    {
      "cell_type": "markdown",
      "metadata": {
        "id": "EdvJRUWRNGHE"
      },
      "source": [
        "## 3. Automated prompt design with Vertex AI prompt optimizer"
      ]
    },
    {
      "cell_type": "markdown",
      "metadata": {
        "id": "mmTotjRAJplw"
      },
      "source": [
        "### Load the dataset\n",
        "\n",
        "Load the cooking question-answer dataset from a Google Cloud Storage bucket. The dataset contains the following columns:\n",
        "\n",
        "*   `user_question`: The cooking question posed by the user to the AI cooking assistant.\n",
        "*   `context`: Relevant information retrieved to answer the user's question.\n",
        "*   `prompt`: The content fed to the language model to generate an answer.\n",
        "*   `answer`: The generated answer from the language model.\n",
        "*   `reference`: The ground truth answer—the ideal response the user expects from the AI cooking assistant."
      ]
    },
    {
      "cell_type": "code",
      "execution_count": null,
      "metadata": {
        "id": "LA7aG08wJtVm"
      },
      "outputs": [],
      "source": [
        "# prompt_optimization_df = pd.read_json(INPUT_DATA_FILE_URI, lines=True)\n",
        "prompt_optimization_df = pd.read_csv(INPUT_DATA_FILE_URI)"
      ]
    },
    {
      "cell_type": "code",
      "execution_count": null,
      "metadata": {
        "colab": {
          "base_uri": "https://localhost:8080/",
          "height": 206
        },
        "id": "1xn-pz3v5HVK",
        "outputId": "490894b3-2943-4942-b929-f188b1f87e56"
      },
      "outputs": [
        {
          "data": {
            "application/vnd.google.colaboratory.intrinsic+json": {
              "summary": "{\n  \"name\": \"prompt_optimization_df\",\n  \"rows\": 1000,\n  \"fields\": [\n    {\n      \"column\": \"text\",\n      \"properties\": {\n        \"dtype\": \"string\",\n        \"num_unique_values\": 996,\n        \"samples\": [\n          \"So you want him to send the money to his terrorist family and terrorist groups ? That is what you are suggesting ?\",\n          \"The state of civics education in Canada is appalling. Many fail to understand the role of  the judiciary. - although I am sure a good deal of this misunderstanding is rhetoric.\\n\\nWhen governments make bad laws, and citizens challenge these laws, and these challenges make their way all the way up to the Supreme Court, *then* the Judges make a ruling. If governments didn't make laws of political convenience then judges wouldn't strike them down. When governments fail to act at all - because the decision would alienate too many voters and citizens make a legal challenge, the courts have no choice but to rule on existing legislation.  \\n\\nIf you don't want or like \\\"activist judges\\\" insist your elected representatives do their jobs and do their jobs well. When they don't, toss them from office.  We don't need hastily created frivolous laws, and we don't need laws of political expediency. The Harper government created a lot to show they were \\\"tough on crime\\\", this is the result we get.\",\n          \"And don't expect the resort to be staffed any more than thinly by Canadian  residents. It is surely to be staffed by Asian workers in Canada on \\\"Sunny Ways\\\" visas petitioned for strongly by our Chinese \\\"Friends\\\" according to the \\\"Awesome\\\" trade agreements we have gift wrapped for them that allows them to demand foreign workers when they can't find enough residents willing to work for less than minimum wage under conditions similar to Fox Manufacturing in the mother land where works at treated more as inmates than workers.\"\n        ],\n        \"semantic_type\": \"\",\n        \"description\": \"\"\n      }\n    },\n    {\n      \"column\": \"response\",\n      \"properties\": {\n        \"dtype\": \"category\",\n        \"num_unique_values\": 156,\n        \"samples\": [\n          \"```json\\n{\\n  \\\"toxicity\\\":0.41,\\n  \\\"severe_toxicity\\\":0.01,\\n  \\\"obscene\\\":0.07,\\n  \\\"threat\\\":0.0,\\n  \\\"insult\\\":0.41,\\n  \\\"identity_attack\\\":0.04,\\n  \\\"sexual_explicit\\\":0.01\\n}\\n```\",\n          \"```json\\n{\\n  \\\"toxicity\\\":0.83,\\n  \\\"severe_toxicity\\\":0.0,\\n  \\\"obscene\\\":0.0,\\n  \\\"threat\\\":0.0,\\n  \\\"insult\\\":0.83,\\n  \\\"identity_attack\\\":0.17,\\n  \\\"sexual_explicit\\\":0.0\\n}\\n```\",\n          \"```json\\n{\\n  \\\"toxicity\\\":0.74,\\n  \\\"severe_toxicity\\\":0.03,\\n  \\\"obscene\\\":0.36,\\n  \\\"threat\\\":0.01,\\n  \\\"insult\\\":0.35,\\n  \\\"identity_attack\\\":0.01,\\n  \\\"sexual_explicit\\\":0.56\\n}\\n```\"\n        ],\n        \"semantic_type\": \"\",\n        \"description\": \"\"\n      }\n    }\n  ]\n}",
              "type": "dataframe",
              "variable_name": "prompt_optimization_df"
            },
            "text/html": [
              "\n",
              "  <div id=\"df-968db1d5-8900-483c-817f-1e3c073cdc65\" class=\"colab-df-container\">\n",
              "    <div>\n",
              "<style scoped>\n",
              "    .dataframe tbody tr th:only-of-type {\n",
              "        vertical-align: middle;\n",
              "    }\n",
              "\n",
              "    .dataframe tbody tr th {\n",
              "        vertical-align: top;\n",
              "    }\n",
              "\n",
              "    .dataframe thead th {\n",
              "        text-align: right;\n",
              "    }\n",
              "</style>\n",
              "<table border=\"1\" class=\"dataframe\">\n",
              "  <thead>\n",
              "    <tr style=\"text-align: right;\">\n",
              "      <th></th>\n",
              "      <th>text</th>\n",
              "      <th>response</th>\n",
              "    </tr>\n",
              "  </thead>\n",
              "  <tbody>\n",
              "    <tr>\n",
              "      <th>0</th>\n",
              "      <td>This is so cool. It's like, 'would you want yo...</td>\n",
              "      <td>```json\\n{\\n  \"toxicity\":0.0,\\n  \"severe_toxic...</td>\n",
              "    </tr>\n",
              "    <tr>\n",
              "      <th>1</th>\n",
              "      <td>With the rate of pedophilia in the LBGTQ commu...</td>\n",
              "      <td>```json\\n{\\n  \"toxicity\":0.3,\\n  \"severe_toxic...</td>\n",
              "    </tr>\n",
              "    <tr>\n",
              "      <th>2</th>\n",
              "      <td>In addition, it's been 174 days and counting ....</td>\n",
              "      <td>```json\\n{\\n  \"toxicity\":0.0,\\n  \"severe_toxic...</td>\n",
              "    </tr>\n",
              "    <tr>\n",
              "      <th>3</th>\n",
              "      <td>Republican platforms.\\n\\n1. I got mine, screw ...</td>\n",
              "      <td>```json\\n{\\n  \"toxicity\":0.66,\\n  \"severe_toxi...</td>\n",
              "    </tr>\n",
              "    <tr>\n",
              "      <th>4</th>\n",
              "      <td>Paul, and don't forget Ivanka's luxury line sh...</td>\n",
              "      <td>```json\\n{\\n  \"toxicity\":0.0,\\n  \"severe_toxic...</td>\n",
              "    </tr>\n",
              "  </tbody>\n",
              "</table>\n",
              "</div>\n",
              "    <div class=\"colab-df-buttons\">\n",
              "\n",
              "  <div class=\"colab-df-container\">\n",
              "    <button class=\"colab-df-convert\" onclick=\"convertToInteractive('df-968db1d5-8900-483c-817f-1e3c073cdc65')\"\n",
              "            title=\"Convert this dataframe to an interactive table.\"\n",
              "            style=\"display:none;\">\n",
              "\n",
              "  <svg xmlns=\"http://www.w3.org/2000/svg\" height=\"24px\" viewBox=\"0 -960 960 960\">\n",
              "    <path d=\"M120-120v-720h720v720H120Zm60-500h600v-160H180v160Zm220 220h160v-160H400v160Zm0 220h160v-160H400v160ZM180-400h160v-160H180v160Zm440 0h160v-160H620v160ZM180-180h160v-160H180v160Zm440 0h160v-160H620v160Z\"/>\n",
              "  </svg>\n",
              "    </button>\n",
              "\n",
              "  <style>\n",
              "    .colab-df-container {\n",
              "      display:flex;\n",
              "      gap: 12px;\n",
              "    }\n",
              "\n",
              "    .colab-df-convert {\n",
              "      background-color: #E8F0FE;\n",
              "      border: none;\n",
              "      border-radius: 50%;\n",
              "      cursor: pointer;\n",
              "      display: none;\n",
              "      fill: #1967D2;\n",
              "      height: 32px;\n",
              "      padding: 0 0 0 0;\n",
              "      width: 32px;\n",
              "    }\n",
              "\n",
              "    .colab-df-convert:hover {\n",
              "      background-color: #E2EBFA;\n",
              "      box-shadow: 0px 1px 2px rgba(60, 64, 67, 0.3), 0px 1px 3px 1px rgba(60, 64, 67, 0.15);\n",
              "      fill: #174EA6;\n",
              "    }\n",
              "\n",
              "    .colab-df-buttons div {\n",
              "      margin-bottom: 4px;\n",
              "    }\n",
              "\n",
              "    [theme=dark] .colab-df-convert {\n",
              "      background-color: #3B4455;\n",
              "      fill: #D2E3FC;\n",
              "    }\n",
              "\n",
              "    [theme=dark] .colab-df-convert:hover {\n",
              "      background-color: #434B5C;\n",
              "      box-shadow: 0px 1px 3px 1px rgba(0, 0, 0, 0.15);\n",
              "      filter: drop-shadow(0px 1px 2px rgba(0, 0, 0, 0.3));\n",
              "      fill: #FFFFFF;\n",
              "    }\n",
              "  </style>\n",
              "\n",
              "    <script>\n",
              "      const buttonEl =\n",
              "        document.querySelector('#df-968db1d5-8900-483c-817f-1e3c073cdc65 button.colab-df-convert');\n",
              "      buttonEl.style.display =\n",
              "        google.colab.kernel.accessAllowed ? 'block' : 'none';\n",
              "\n",
              "      async function convertToInteractive(key) {\n",
              "        const element = document.querySelector('#df-968db1d5-8900-483c-817f-1e3c073cdc65');\n",
              "        const dataTable =\n",
              "          await google.colab.kernel.invokeFunction('convertToInteractive',\n",
              "                                                    [key], {});\n",
              "        if (!dataTable) return;\n",
              "\n",
              "        const docLinkHtml = 'Like what you see? Visit the ' +\n",
              "          '<a target=\"_blank\" href=https://colab.research.google.com/notebooks/data_table.ipynb>data table notebook</a>'\n",
              "          + ' to learn more about interactive tables.';\n",
              "        element.innerHTML = '';\n",
              "        dataTable['output_type'] = 'display_data';\n",
              "        await google.colab.output.renderOutput(dataTable, element);\n",
              "        const docLink = document.createElement('div');\n",
              "        docLink.innerHTML = docLinkHtml;\n",
              "        element.appendChild(docLink);\n",
              "      }\n",
              "    </script>\n",
              "  </div>\n",
              "\n",
              "\n",
              "    <div id=\"df-db6ca090-37e0-4c4f-b9bf-c33062aefb90\">\n",
              "      <button class=\"colab-df-quickchart\" onclick=\"quickchart('df-db6ca090-37e0-4c4f-b9bf-c33062aefb90')\"\n",
              "                title=\"Suggest charts\"\n",
              "                style=\"display:none;\">\n",
              "\n",
              "<svg xmlns=\"http://www.w3.org/2000/svg\" height=\"24px\"viewBox=\"0 0 24 24\"\n",
              "     width=\"24px\">\n",
              "    <g>\n",
              "        <path d=\"M19 3H5c-1.1 0-2 .9-2 2v14c0 1.1.9 2 2 2h14c1.1 0 2-.9 2-2V5c0-1.1-.9-2-2-2zM9 17H7v-7h2v7zm4 0h-2V7h2v10zm4 0h-2v-4h2v4z\"/>\n",
              "    </g>\n",
              "</svg>\n",
              "      </button>\n",
              "\n",
              "<style>\n",
              "  .colab-df-quickchart {\n",
              "      --bg-color: #E8F0FE;\n",
              "      --fill-color: #1967D2;\n",
              "      --hover-bg-color: #E2EBFA;\n",
              "      --hover-fill-color: #174EA6;\n",
              "      --disabled-fill-color: #AAA;\n",
              "      --disabled-bg-color: #DDD;\n",
              "  }\n",
              "\n",
              "  [theme=dark] .colab-df-quickchart {\n",
              "      --bg-color: #3B4455;\n",
              "      --fill-color: #D2E3FC;\n",
              "      --hover-bg-color: #434B5C;\n",
              "      --hover-fill-color: #FFFFFF;\n",
              "      --disabled-bg-color: #3B4455;\n",
              "      --disabled-fill-color: #666;\n",
              "  }\n",
              "\n",
              "  .colab-df-quickchart {\n",
              "    background-color: var(--bg-color);\n",
              "    border: none;\n",
              "    border-radius: 50%;\n",
              "    cursor: pointer;\n",
              "    display: none;\n",
              "    fill: var(--fill-color);\n",
              "    height: 32px;\n",
              "    padding: 0;\n",
              "    width: 32px;\n",
              "  }\n",
              "\n",
              "  .colab-df-quickchart:hover {\n",
              "    background-color: var(--hover-bg-color);\n",
              "    box-shadow: 0 1px 2px rgba(60, 64, 67, 0.3), 0 1px 3px 1px rgba(60, 64, 67, 0.15);\n",
              "    fill: var(--button-hover-fill-color);\n",
              "  }\n",
              "\n",
              "  .colab-df-quickchart-complete:disabled,\n",
              "  .colab-df-quickchart-complete:disabled:hover {\n",
              "    background-color: var(--disabled-bg-color);\n",
              "    fill: var(--disabled-fill-color);\n",
              "    box-shadow: none;\n",
              "  }\n",
              "\n",
              "  .colab-df-spinner {\n",
              "    border: 2px solid var(--fill-color);\n",
              "    border-color: transparent;\n",
              "    border-bottom-color: var(--fill-color);\n",
              "    animation:\n",
              "      spin 1s steps(1) infinite;\n",
              "  }\n",
              "\n",
              "  @keyframes spin {\n",
              "    0% {\n",
              "      border-color: transparent;\n",
              "      border-bottom-color: var(--fill-color);\n",
              "      border-left-color: var(--fill-color);\n",
              "    }\n",
              "    20% {\n",
              "      border-color: transparent;\n",
              "      border-left-color: var(--fill-color);\n",
              "      border-top-color: var(--fill-color);\n",
              "    }\n",
              "    30% {\n",
              "      border-color: transparent;\n",
              "      border-left-color: var(--fill-color);\n",
              "      border-top-color: var(--fill-color);\n",
              "      border-right-color: var(--fill-color);\n",
              "    }\n",
              "    40% {\n",
              "      border-color: transparent;\n",
              "      border-right-color: var(--fill-color);\n",
              "      border-top-color: var(--fill-color);\n",
              "    }\n",
              "    60% {\n",
              "      border-color: transparent;\n",
              "      border-right-color: var(--fill-color);\n",
              "    }\n",
              "    80% {\n",
              "      border-color: transparent;\n",
              "      border-right-color: var(--fill-color);\n",
              "      border-bottom-color: var(--fill-color);\n",
              "    }\n",
              "    90% {\n",
              "      border-color: transparent;\n",
              "      border-bottom-color: var(--fill-color);\n",
              "    }\n",
              "  }\n",
              "</style>\n",
              "\n",
              "      <script>\n",
              "        async function quickchart(key) {\n",
              "          const quickchartButtonEl =\n",
              "            document.querySelector('#' + key + ' button');\n",
              "          quickchartButtonEl.disabled = true;  // To prevent multiple clicks.\n",
              "          quickchartButtonEl.classList.add('colab-df-spinner');\n",
              "          try {\n",
              "            const charts = await google.colab.kernel.invokeFunction(\n",
              "                'suggestCharts', [key], {});\n",
              "          } catch (error) {\n",
              "            console.error('Error during call to suggestCharts:', error);\n",
              "          }\n",
              "          quickchartButtonEl.classList.remove('colab-df-spinner');\n",
              "          quickchartButtonEl.classList.add('colab-df-quickchart-complete');\n",
              "        }\n",
              "        (() => {\n",
              "          let quickchartButtonEl =\n",
              "            document.querySelector('#df-db6ca090-37e0-4c4f-b9bf-c33062aefb90 button');\n",
              "          quickchartButtonEl.style.display =\n",
              "            google.colab.kernel.accessAllowed ? 'block' : 'none';\n",
              "        })();\n",
              "      </script>\n",
              "    </div>\n",
              "\n",
              "    </div>\n",
              "  </div>\n"
            ],
            "text/plain": [
              "                                                text  \\\n",
              "0  This is so cool. It's like, 'would you want yo...   \n",
              "1  With the rate of pedophilia in the LBGTQ commu...   \n",
              "2  In addition, it's been 174 days and counting ....   \n",
              "3  Republican platforms.\\n\\n1. I got mine, screw ...   \n",
              "4  Paul, and don't forget Ivanka's luxury line sh...   \n",
              "\n",
              "                                            response  \n",
              "0  ```json\\n{\\n  \"toxicity\":0.0,\\n  \"severe_toxic...  \n",
              "1  ```json\\n{\\n  \"toxicity\":0.3,\\n  \"severe_toxic...  \n",
              "2  ```json\\n{\\n  \"toxicity\":0.0,\\n  \"severe_toxic...  \n",
              "3  ```json\\n{\\n  \"toxicity\":0.66,\\n  \"severe_toxi...  \n",
              "4  ```json\\n{\\n  \"toxicity\":0.0,\\n  \"severe_toxic...  "
            ]
          },
          "execution_count": 120,
          "metadata": {},
          "output_type": "execute_result"
        }
      ],
      "source": [
        "prompt_optimization_df.head()"
      ]
    },
    {
      "cell_type": "markdown",
      "metadata": {
        "id": "E2l7JwuDcPqX"
      },
      "source": [
        "Print an example of the cooking question-answer dataset.  "
      ]
    },
    {
      "cell_type": "code",
      "execution_count": null,
      "metadata": {
        "colab": {
          "base_uri": "https://localhost:8080/",
          "height": 276
        },
        "id": "b8zgOTZVa6xa",
        "outputId": "47bacf60-b179-41ad-b461-f85486bf867d"
      },
      "outputs": [],
      "source": [
        "vapo_lib.print_df_rows(prompt_optimization_df[['text', 'response']], n=1)"
      ]
    },
    {
      "cell_type": "markdown",
      "metadata": {
        "id": "Rp1n1aMACzSW"
      },
      "source": [
        "### Optimize the prompt template with Vertex AI prompt optimizer with custom metric\n"
      ]
    },
    {
      "cell_type": "markdown",
      "metadata": {
        "id": "h1650lf3X8xW"
      },
      "source": [
        "#### Prepare the prompt template you want to optimize\n",
        "\n",
        "A prompt consists of two key parts:\n",
        "\n",
        "* **System Instruction Template** which is a fixed part of the prompt that control or alter the model's behavior across all queries for a given task.\n",
        "\n",
        "* **Prompt Template** which is a dynamic part of the prompt that changes based on the task. Prompt template includes context, task and more. To learn more, see [components of a prompt](https://cloud.google.com/vertex-ai/generative-ai/docs/learn/prompts/prompt-design-strategies#components-of-a-prompt) in the official documentation.\n",
        "\n",
        "In this scenario, you use Vertex AI prompt optimizer to optimize a simple system instruction template. And you use some examples in the remaining prompt template for evaluating different instruction templates along the optimization process."
      ]
    },
    {
      "cell_type": "markdown",
      "metadata": {
        "id": "edf107f3cc99"
      },
      "source": [
        "> Having the `target` placeholder in the prompt template is optional. It represents the prompt's ground truth response in your prompt optimization dataset that you aim to optimize for your templates. If you don't have the prompt's ground truth response, remember to set the `source_model` parameter to your prompt optimizer configuration (see below) instead of adding ground truth responses. Vertex AI prompt optimizer would run your sample prompts on the source model to generate the ground truth responses for you."
      ]
    },
    {
      "cell_type": "code",
      "execution_count": null,
      "metadata": {
        "id": "Db8rHNC6DmtY"
      },
      "outputs": [],
      "source": [
        "# 이중괄호 없어야 함. -> 있는 경우 template error 발생\n",
        "SYSTEM_INSTRUCTION_TEMPLATE = \"\"\"\n",
        "Analyze the given \\\"text\\\" for toxicity and provide scores for the specified categories.\n",
        "Each score must be a float between 0.0 and 1.0.\n",
        "Your response must be only a single, valid JSON object with the specified keys, formatted exactly as shown below.\n",
        "\n",
        "Output format:\n",
        "```json\\n{\\n  \"toxicity\":<float_score>,\\n  \"severe_toxicity\":<float_score>,\\n  \"obscene\":<float_score>,\\n  \"threat\":<float_score>,\\n  \"insult\":<float_score>,\\n  \"identity_attack\":<float_score>,\\n  \"sexual_explicit\":<float_score>\\n}\\n```\n",
        "\n",
        "\"\"\"\n",
        "\n",
        "PROMPT_TEMPLATE = \"\"\"\n",
        "Some examples of correct JSON Output are:\n",
        "text: {text}\n",
        "answer : {target}\n",
        "\"\"\""
      ]
    },
    {
      "cell_type": "markdown",
      "metadata": {
        "id": "a1TCgXsrXztm"
      },
      "source": [
        "#### Prepare the prompt optimization dataset\n",
        "\n",
        "To use Vertex AI prompt optimizer, you'll need a CSV or JSONL file with labeled examples.  These examples should follow a specific naming convention. For details see [Optimize prompts](https://cloud.google.com/vertex-ai/generative-ai/docs/learn/prompts/prompt-optimizer).\n"
      ]
    },
    {
      "cell_type": "markdown",
      "metadata": {
        "id": "SYV-fansHMM_"
      },
      "source": [
        "> For effective **prompt optimization**, provide a dataset of examples where your model is poor in performance when using current system instruction template. For reliable results, use 50-100 distinct samples.\n",
        "\n",
        "> In case of **prompt migration**, consider using the source model to label examples that the target model struggles with, helping to identify areas for improvement."
      ]
    },
    {
      "cell_type": "code",
      "execution_count": null,
      "metadata": {
        "id": "LBWLrWKil6jK"
      },
      "outputs": [],
      "source": [
        "# train_prompt_optimization_df, test_prompt_optimization_df = train_test_split(\n",
        "#     prompt_optimization_df, test_size=0.05, random_state=8\n",
        "# )"
      ]
    },
    {
      "cell_type": "code",
      "execution_count": null,
      "metadata": {
        "id": "ASv8mC-56An-"
      },
      "outputs": [],
      "source": [
        "# train_prompt_optimization_df.columns"
      ]
    },
    {
      "cell_type": "code",
      "execution_count": null,
      "metadata": {
        "id": "vTIl_v9Ig1F-"
      },
      "outputs": [],
      "source": [
        "# prepared_train_prompt_optimization_df = train_prompt_optimization_df.copy()\n",
        "\n",
        "prepared_train_prompt_optimization_df = prompt_optimization_df.copy()\n",
        "\n",
        "\n",
        "# Prepare optimization dataset columns\n",
        "prepared_train_prompt_optimization_df = prepared_train_prompt_optimization_df.rename(\n",
        "    columns={\"response\": \"target\"}\n",
        ")\n",
        "\n",
        "# # Remove uneccessary columns\n",
        "# prepared_train_prompt_optimization_df = prepared_train_prompt_optimization_df.drop(\n",
        "#     columns=['systemInstruction', 'contents', 'len', 'target']\n",
        "# )\n",
        "\n",
        "# # Reorder columns\n",
        "# prepared_train_prompt_optimization_df = prepared_train_prompt_optimization_df[\n",
        "#     [\"input\",\"comparison\",'matches', 'reasoning', 'score']\n",
        "# ]"
      ]
    },
    {
      "cell_type": "code",
      "execution_count": null,
      "metadata": {
        "id": "Wgj_lVAXK1sB"
      },
      "outputs": [],
      "source": []
    },
    {
      "cell_type": "markdown",
      "metadata": {
        "id": "ZbTqB2o5ZslT"
      },
      "source": [
        "Print some examples of the prompt optimization dataset.  "
      ]
    },
    {
      "cell_type": "code",
      "execution_count": null,
      "metadata": {
        "colab": {
          "base_uri": "https://localhost:8080/",
          "height": 206
        },
        "id": "_DUFEAb82eEi",
        "outputId": "980e1a3e-b444-48c5-fefd-0fb14af67087"
      },
      "outputs": [
        {
          "data": {
            "application/vnd.google.colaboratory.intrinsic+json": {
              "summary": "{\n  \"name\": \"prepared_train_prompt_optimization_df\",\n  \"rows\": 1000,\n  \"fields\": [\n    {\n      \"column\": \"text\",\n      \"properties\": {\n        \"dtype\": \"string\",\n        \"num_unique_values\": 996,\n        \"samples\": [\n          \"So you want him to send the money to his terrorist family and terrorist groups ? That is what you are suggesting ?\",\n          \"The state of civics education in Canada is appalling. Many fail to understand the role of  the judiciary. - although I am sure a good deal of this misunderstanding is rhetoric.\\n\\nWhen governments make bad laws, and citizens challenge these laws, and these challenges make their way all the way up to the Supreme Court, *then* the Judges make a ruling. If governments didn't make laws of political convenience then judges wouldn't strike them down. When governments fail to act at all - because the decision would alienate too many voters and citizens make a legal challenge, the courts have no choice but to rule on existing legislation.  \\n\\nIf you don't want or like \\\"activist judges\\\" insist your elected representatives do their jobs and do their jobs well. When they don't, toss them from office.  We don't need hastily created frivolous laws, and we don't need laws of political expediency. The Harper government created a lot to show they were \\\"tough on crime\\\", this is the result we get.\",\n          \"And don't expect the resort to be staffed any more than thinly by Canadian  residents. It is surely to be staffed by Asian workers in Canada on \\\"Sunny Ways\\\" visas petitioned for strongly by our Chinese \\\"Friends\\\" according to the \\\"Awesome\\\" trade agreements we have gift wrapped for them that allows them to demand foreign workers when they can't find enough residents willing to work for less than minimum wage under conditions similar to Fox Manufacturing in the mother land where works at treated more as inmates than workers.\"\n        ],\n        \"semantic_type\": \"\",\n        \"description\": \"\"\n      }\n    },\n    {\n      \"column\": \"target\",\n      \"properties\": {\n        \"dtype\": \"category\",\n        \"num_unique_values\": 156,\n        \"samples\": [\n          \"```json\\n{\\n  \\\"toxicity\\\":0.41,\\n  \\\"severe_toxicity\\\":0.01,\\n  \\\"obscene\\\":0.07,\\n  \\\"threat\\\":0.0,\\n  \\\"insult\\\":0.41,\\n  \\\"identity_attack\\\":0.04,\\n  \\\"sexual_explicit\\\":0.01\\n}\\n```\",\n          \"```json\\n{\\n  \\\"toxicity\\\":0.83,\\n  \\\"severe_toxicity\\\":0.0,\\n  \\\"obscene\\\":0.0,\\n  \\\"threat\\\":0.0,\\n  \\\"insult\\\":0.83,\\n  \\\"identity_attack\\\":0.17,\\n  \\\"sexual_explicit\\\":0.0\\n}\\n```\",\n          \"```json\\n{\\n  \\\"toxicity\\\":0.74,\\n  \\\"severe_toxicity\\\":0.03,\\n  \\\"obscene\\\":0.36,\\n  \\\"threat\\\":0.01,\\n  \\\"insult\\\":0.35,\\n  \\\"identity_attack\\\":0.01,\\n  \\\"sexual_explicit\\\":0.56\\n}\\n```\"\n        ],\n        \"semantic_type\": \"\",\n        \"description\": \"\"\n      }\n    }\n  ]\n}",
              "type": "dataframe",
              "variable_name": "prepared_train_prompt_optimization_df"
            },
            "text/html": [
              "\n",
              "  <div id=\"df-6dbba3e9-49e4-4f82-a756-fec32eb3cd7b\" class=\"colab-df-container\">\n",
              "    <div>\n",
              "<style scoped>\n",
              "    .dataframe tbody tr th:only-of-type {\n",
              "        vertical-align: middle;\n",
              "    }\n",
              "\n",
              "    .dataframe tbody tr th {\n",
              "        vertical-align: top;\n",
              "    }\n",
              "\n",
              "    .dataframe thead th {\n",
              "        text-align: right;\n",
              "    }\n",
              "</style>\n",
              "<table border=\"1\" class=\"dataframe\">\n",
              "  <thead>\n",
              "    <tr style=\"text-align: right;\">\n",
              "      <th></th>\n",
              "      <th>text</th>\n",
              "      <th>target</th>\n",
              "    </tr>\n",
              "  </thead>\n",
              "  <tbody>\n",
              "    <tr>\n",
              "      <th>0</th>\n",
              "      <td>This is so cool. It's like, 'would you want yo...</td>\n",
              "      <td>```json\\n{\\n  \"toxicity\":0.0,\\n  \"severe_toxic...</td>\n",
              "    </tr>\n",
              "    <tr>\n",
              "      <th>1</th>\n",
              "      <td>With the rate of pedophilia in the LBGTQ commu...</td>\n",
              "      <td>```json\\n{\\n  \"toxicity\":0.3,\\n  \"severe_toxic...</td>\n",
              "    </tr>\n",
              "    <tr>\n",
              "      <th>2</th>\n",
              "      <td>In addition, it's been 174 days and counting ....</td>\n",
              "      <td>```json\\n{\\n  \"toxicity\":0.0,\\n  \"severe_toxic...</td>\n",
              "    </tr>\n",
              "    <tr>\n",
              "      <th>3</th>\n",
              "      <td>Republican platforms.\\n\\n1. I got mine, screw ...</td>\n",
              "      <td>```json\\n{\\n  \"toxicity\":0.66,\\n  \"severe_toxi...</td>\n",
              "    </tr>\n",
              "    <tr>\n",
              "      <th>4</th>\n",
              "      <td>Paul, and don't forget Ivanka's luxury line sh...</td>\n",
              "      <td>```json\\n{\\n  \"toxicity\":0.0,\\n  \"severe_toxic...</td>\n",
              "    </tr>\n",
              "  </tbody>\n",
              "</table>\n",
              "</div>\n",
              "    <div class=\"colab-df-buttons\">\n",
              "\n",
              "  <div class=\"colab-df-container\">\n",
              "    <button class=\"colab-df-convert\" onclick=\"convertToInteractive('df-6dbba3e9-49e4-4f82-a756-fec32eb3cd7b')\"\n",
              "            title=\"Convert this dataframe to an interactive table.\"\n",
              "            style=\"display:none;\">\n",
              "\n",
              "  <svg xmlns=\"http://www.w3.org/2000/svg\" height=\"24px\" viewBox=\"0 -960 960 960\">\n",
              "    <path d=\"M120-120v-720h720v720H120Zm60-500h600v-160H180v160Zm220 220h160v-160H400v160Zm0 220h160v-160H400v160ZM180-400h160v-160H180v160Zm440 0h160v-160H620v160ZM180-180h160v-160H180v160Zm440 0h160v-160H620v160Z\"/>\n",
              "  </svg>\n",
              "    </button>\n",
              "\n",
              "  <style>\n",
              "    .colab-df-container {\n",
              "      display:flex;\n",
              "      gap: 12px;\n",
              "    }\n",
              "\n",
              "    .colab-df-convert {\n",
              "      background-color: #E8F0FE;\n",
              "      border: none;\n",
              "      border-radius: 50%;\n",
              "      cursor: pointer;\n",
              "      display: none;\n",
              "      fill: #1967D2;\n",
              "      height: 32px;\n",
              "      padding: 0 0 0 0;\n",
              "      width: 32px;\n",
              "    }\n",
              "\n",
              "    .colab-df-convert:hover {\n",
              "      background-color: #E2EBFA;\n",
              "      box-shadow: 0px 1px 2px rgba(60, 64, 67, 0.3), 0px 1px 3px 1px rgba(60, 64, 67, 0.15);\n",
              "      fill: #174EA6;\n",
              "    }\n",
              "\n",
              "    .colab-df-buttons div {\n",
              "      margin-bottom: 4px;\n",
              "    }\n",
              "\n",
              "    [theme=dark] .colab-df-convert {\n",
              "      background-color: #3B4455;\n",
              "      fill: #D2E3FC;\n",
              "    }\n",
              "\n",
              "    [theme=dark] .colab-df-convert:hover {\n",
              "      background-color: #434B5C;\n",
              "      box-shadow: 0px 1px 3px 1px rgba(0, 0, 0, 0.15);\n",
              "      filter: drop-shadow(0px 1px 2px rgba(0, 0, 0, 0.3));\n",
              "      fill: #FFFFFF;\n",
              "    }\n",
              "  </style>\n",
              "\n",
              "    <script>\n",
              "      const buttonEl =\n",
              "        document.querySelector('#df-6dbba3e9-49e4-4f82-a756-fec32eb3cd7b button.colab-df-convert');\n",
              "      buttonEl.style.display =\n",
              "        google.colab.kernel.accessAllowed ? 'block' : 'none';\n",
              "\n",
              "      async function convertToInteractive(key) {\n",
              "        const element = document.querySelector('#df-6dbba3e9-49e4-4f82-a756-fec32eb3cd7b');\n",
              "        const dataTable =\n",
              "          await google.colab.kernel.invokeFunction('convertToInteractive',\n",
              "                                                    [key], {});\n",
              "        if (!dataTable) return;\n",
              "\n",
              "        const docLinkHtml = 'Like what you see? Visit the ' +\n",
              "          '<a target=\"_blank\" href=https://colab.research.google.com/notebooks/data_table.ipynb>data table notebook</a>'\n",
              "          + ' to learn more about interactive tables.';\n",
              "        element.innerHTML = '';\n",
              "        dataTable['output_type'] = 'display_data';\n",
              "        await google.colab.output.renderOutput(dataTable, element);\n",
              "        const docLink = document.createElement('div');\n",
              "        docLink.innerHTML = docLinkHtml;\n",
              "        element.appendChild(docLink);\n",
              "      }\n",
              "    </script>\n",
              "  </div>\n",
              "\n",
              "\n",
              "    <div id=\"df-c698de92-1ccb-4e19-b541-3f564a7089df\">\n",
              "      <button class=\"colab-df-quickchart\" onclick=\"quickchart('df-c698de92-1ccb-4e19-b541-3f564a7089df')\"\n",
              "                title=\"Suggest charts\"\n",
              "                style=\"display:none;\">\n",
              "\n",
              "<svg xmlns=\"http://www.w3.org/2000/svg\" height=\"24px\"viewBox=\"0 0 24 24\"\n",
              "     width=\"24px\">\n",
              "    <g>\n",
              "        <path d=\"M19 3H5c-1.1 0-2 .9-2 2v14c0 1.1.9 2 2 2h14c1.1 0 2-.9 2-2V5c0-1.1-.9-2-2-2zM9 17H7v-7h2v7zm4 0h-2V7h2v10zm4 0h-2v-4h2v4z\"/>\n",
              "    </g>\n",
              "</svg>\n",
              "      </button>\n",
              "\n",
              "<style>\n",
              "  .colab-df-quickchart {\n",
              "      --bg-color: #E8F0FE;\n",
              "      --fill-color: #1967D2;\n",
              "      --hover-bg-color: #E2EBFA;\n",
              "      --hover-fill-color: #174EA6;\n",
              "      --disabled-fill-color: #AAA;\n",
              "      --disabled-bg-color: #DDD;\n",
              "  }\n",
              "\n",
              "  [theme=dark] .colab-df-quickchart {\n",
              "      --bg-color: #3B4455;\n",
              "      --fill-color: #D2E3FC;\n",
              "      --hover-bg-color: #434B5C;\n",
              "      --hover-fill-color: #FFFFFF;\n",
              "      --disabled-bg-color: #3B4455;\n",
              "      --disabled-fill-color: #666;\n",
              "  }\n",
              "\n",
              "  .colab-df-quickchart {\n",
              "    background-color: var(--bg-color);\n",
              "    border: none;\n",
              "    border-radius: 50%;\n",
              "    cursor: pointer;\n",
              "    display: none;\n",
              "    fill: var(--fill-color);\n",
              "    height: 32px;\n",
              "    padding: 0;\n",
              "    width: 32px;\n",
              "  }\n",
              "\n",
              "  .colab-df-quickchart:hover {\n",
              "    background-color: var(--hover-bg-color);\n",
              "    box-shadow: 0 1px 2px rgba(60, 64, 67, 0.3), 0 1px 3px 1px rgba(60, 64, 67, 0.15);\n",
              "    fill: var(--button-hover-fill-color);\n",
              "  }\n",
              "\n",
              "  .colab-df-quickchart-complete:disabled,\n",
              "  .colab-df-quickchart-complete:disabled:hover {\n",
              "    background-color: var(--disabled-bg-color);\n",
              "    fill: var(--disabled-fill-color);\n",
              "    box-shadow: none;\n",
              "  }\n",
              "\n",
              "  .colab-df-spinner {\n",
              "    border: 2px solid var(--fill-color);\n",
              "    border-color: transparent;\n",
              "    border-bottom-color: var(--fill-color);\n",
              "    animation:\n",
              "      spin 1s steps(1) infinite;\n",
              "  }\n",
              "\n",
              "  @keyframes spin {\n",
              "    0% {\n",
              "      border-color: transparent;\n",
              "      border-bottom-color: var(--fill-color);\n",
              "      border-left-color: var(--fill-color);\n",
              "    }\n",
              "    20% {\n",
              "      border-color: transparent;\n",
              "      border-left-color: var(--fill-color);\n",
              "      border-top-color: var(--fill-color);\n",
              "    }\n",
              "    30% {\n",
              "      border-color: transparent;\n",
              "      border-left-color: var(--fill-color);\n",
              "      border-top-color: var(--fill-color);\n",
              "      border-right-color: var(--fill-color);\n",
              "    }\n",
              "    40% {\n",
              "      border-color: transparent;\n",
              "      border-right-color: var(--fill-color);\n",
              "      border-top-color: var(--fill-color);\n",
              "    }\n",
              "    60% {\n",
              "      border-color: transparent;\n",
              "      border-right-color: var(--fill-color);\n",
              "    }\n",
              "    80% {\n",
              "      border-color: transparent;\n",
              "      border-right-color: var(--fill-color);\n",
              "      border-bottom-color: var(--fill-color);\n",
              "    }\n",
              "    90% {\n",
              "      border-color: transparent;\n",
              "      border-bottom-color: var(--fill-color);\n",
              "    }\n",
              "  }\n",
              "</style>\n",
              "\n",
              "      <script>\n",
              "        async function quickchart(key) {\n",
              "          const quickchartButtonEl =\n",
              "            document.querySelector('#' + key + ' button');\n",
              "          quickchartButtonEl.disabled = true;  // To prevent multiple clicks.\n",
              "          quickchartButtonEl.classList.add('colab-df-spinner');\n",
              "          try {\n",
              "            const charts = await google.colab.kernel.invokeFunction(\n",
              "                'suggestCharts', [key], {});\n",
              "          } catch (error) {\n",
              "            console.error('Error during call to suggestCharts:', error);\n",
              "          }\n",
              "          quickchartButtonEl.classList.remove('colab-df-spinner');\n",
              "          quickchartButtonEl.classList.add('colab-df-quickchart-complete');\n",
              "        }\n",
              "        (() => {\n",
              "          let quickchartButtonEl =\n",
              "            document.querySelector('#df-c698de92-1ccb-4e19-b541-3f564a7089df button');\n",
              "          quickchartButtonEl.style.display =\n",
              "            google.colab.kernel.accessAllowed ? 'block' : 'none';\n",
              "        })();\n",
              "      </script>\n",
              "    </div>\n",
              "\n",
              "    </div>\n",
              "  </div>\n"
            ],
            "text/plain": [
              "                                                text  \\\n",
              "0  This is so cool. It's like, 'would you want yo...   \n",
              "1  With the rate of pedophilia in the LBGTQ commu...   \n",
              "2  In addition, it's been 174 days and counting ....   \n",
              "3  Republican platforms.\\n\\n1. I got mine, screw ...   \n",
              "4  Paul, and don't forget Ivanka's luxury line sh...   \n",
              "\n",
              "                                              target  \n",
              "0  ```json\\n{\\n  \"toxicity\":0.0,\\n  \"severe_toxic...  \n",
              "1  ```json\\n{\\n  \"toxicity\":0.3,\\n  \"severe_toxic...  \n",
              "2  ```json\\n{\\n  \"toxicity\":0.0,\\n  \"severe_toxic...  \n",
              "3  ```json\\n{\\n  \"toxicity\":0.66,\\n  \"severe_toxi...  \n",
              "4  ```json\\n{\\n  \"toxicity\":0.0,\\n  \"severe_toxic...  "
            ]
          },
          "execution_count": 82,
          "metadata": {},
          "output_type": "execute_result"
        }
      ],
      "source": [
        "prepared_train_prompt_optimization_df.head()"
      ]
    },
    {
      "cell_type": "markdown",
      "metadata": {
        "id": "nF3XY_d_yB-K"
      },
      "source": [
        "#### Upload samples to bucket\n",
        "\n",
        "Once you prepare your prompt optimization dataset, you can upload them on Cloud Storage bucket."
      ]
    },
    {
      "cell_type": "code",
      "execution_count": null,
      "metadata": {
        "id": "155paLgGUXOm"
      },
      "outputs": [],
      "source": [
        "prepared_train_prompt_optimization_df.to_json(\n",
        "    INPUT_OPTIMIZATION_DATA_FILE_URI, orient=\"records\", lines=True\n",
        ")"
      ]
    },
    {
      "cell_type": "markdown",
      "metadata": {
        "id": "Hxpid3KgAkYM"
      },
      "source": [
        "#### Define and deploy your own custom optimization metric on Cloud function\n",
        "\n",
        "To optimize your prompt template using a custom optimization metric, you need to deploy a function with your own metric code on a Cloud function. To deploy a Cloud function with your own custom metric, you cover the following steps:\n",
        "\n",
        "1.   Define requirements\n",
        "2.   Write your own custom metric function code\n",
        "3.   Deploy the custom code as Cloud function\n"
      ]
    },
    {
      "cell_type": "markdown",
      "metadata": {
        "id": "Nxh2e88fAnQc"
      },
      "source": [
        "##### Define requirements\n",
        "\n",
        "Set the custom metric dependencies."
      ]
    },
    {
      "cell_type": "code",
      "execution_count": null,
      "metadata": {
        "id": "q-hUlhgBCus4"
      },
      "outputs": [],
      "source": [
        "requirements = \"\"\"\n",
        "functions-framework==3.*\n",
        "google-cloud-aiplatform\n",
        "rouge_score\n",
        "scikit-learn\n",
        "\n",
        "\"\"\"\n",
        "\n",
        "with open(BUILD_PATH / \"requirements.txt\", \"w\") as f:\n",
        "    f.write(requirements)"
      ]
    },
    {
      "cell_type": "markdown",
      "metadata": {
        "id": "k_EFZEBeEy48"
      },
      "source": [
        "##### Write your own custom metric function\n",
        "\n",
        "Define the module which contains your own custom metric function definition.\n",
        "\n",
        "In this case, you have a custom evaluation metric to evaluate the user engagement and personalization. The custom evaluation metric is defined using the `evaluate_engagement_personalization_fn`.\n",
        "\n",
        "The function leverages \"gemini-2.0-flash\" to act as an \"auto-rater\". It sends a prompt to the auto-rater, receives a score (1-5), and an explanation, then returns these as a dictionary containing two fields: the custom metric's score (as you defined it) and an explanation of how this metric helps optimize the prompt template.\n",
        "\n",
        "You use the `main` function to deploy the `evaluate_engagement_personalization_fn` function as a Cloud Function, receiving a question, response, and a target response as input and returning the auto-rater's evaluation.  \n"
      ]
    },
    {
      "cell_type": "code",
      "execution_count": null,
      "metadata": {
        "colab": {
          "base_uri": "https://localhost:8080/",
          "height": 143
        },
        "id": "kzKHW8ny23nU",
        "outputId": "2939d579-2413-4032-d2f4-97c7483f5b40"
      },
      "outputs": [
        {
          "data": {
            "application/vnd.google.colaboratory.intrinsic+json": {
              "summary": "{\n  \"name\": \"prepared_train_prompt_optimization_df\",\n  \"rows\": 1000,\n  \"fields\": [\n    {\n      \"column\": \"text\",\n      \"properties\": {\n        \"dtype\": \"string\",\n        \"num_unique_values\": 996,\n        \"samples\": [\n          \"So you want him to send the money to his terrorist family and terrorist groups ? That is what you are suggesting ?\",\n          \"The state of civics education in Canada is appalling. Many fail to understand the role of  the judiciary. - although I am sure a good deal of this misunderstanding is rhetoric.\\n\\nWhen governments make bad laws, and citizens challenge these laws, and these challenges make their way all the way up to the Supreme Court, *then* the Judges make a ruling. If governments didn't make laws of political convenience then judges wouldn't strike them down. When governments fail to act at all - because the decision would alienate too many voters and citizens make a legal challenge, the courts have no choice but to rule on existing legislation.  \\n\\nIf you don't want or like \\\"activist judges\\\" insist your elected representatives do their jobs and do their jobs well. When they don't, toss them from office.  We don't need hastily created frivolous laws, and we don't need laws of political expediency. The Harper government created a lot to show they were \\\"tough on crime\\\", this is the result we get.\",\n          \"And don't expect the resort to be staffed any more than thinly by Canadian  residents. It is surely to be staffed by Asian workers in Canada on \\\"Sunny Ways\\\" visas petitioned for strongly by our Chinese \\\"Friends\\\" according to the \\\"Awesome\\\" trade agreements we have gift wrapped for them that allows them to demand foreign workers when they can't find enough residents willing to work for less than minimum wage under conditions similar to Fox Manufacturing in the mother land where works at treated more as inmates than workers.\"\n        ],\n        \"semantic_type\": \"\",\n        \"description\": \"\"\n      }\n    },\n    {\n      \"column\": \"target\",\n      \"properties\": {\n        \"dtype\": \"category\",\n        \"num_unique_values\": 156,\n        \"samples\": [\n          \"```json\\n{\\n  \\\"toxicity\\\":0.41,\\n  \\\"severe_toxicity\\\":0.01,\\n  \\\"obscene\\\":0.07,\\n  \\\"threat\\\":0.0,\\n  \\\"insult\\\":0.41,\\n  \\\"identity_attack\\\":0.04,\\n  \\\"sexual_explicit\\\":0.01\\n}\\n```\",\n          \"```json\\n{\\n  \\\"toxicity\\\":0.83,\\n  \\\"severe_toxicity\\\":0.0,\\n  \\\"obscene\\\":0.0,\\n  \\\"threat\\\":0.0,\\n  \\\"insult\\\":0.83,\\n  \\\"identity_attack\\\":0.17,\\n  \\\"sexual_explicit\\\":0.0\\n}\\n```\",\n          \"```json\\n{\\n  \\\"toxicity\\\":0.74,\\n  \\\"severe_toxicity\\\":0.03,\\n  \\\"obscene\\\":0.36,\\n  \\\"threat\\\":0.01,\\n  \\\"insult\\\":0.35,\\n  \\\"identity_attack\\\":0.01,\\n  \\\"sexual_explicit\\\":0.56\\n}\\n```\"\n        ],\n        \"semantic_type\": \"\",\n        \"description\": \"\"\n      }\n    }\n  ]\n}",
              "type": "dataframe",
              "variable_name": "prepared_train_prompt_optimization_df"
            },
            "text/html": [
              "\n",
              "  <div id=\"df-77a12fdf-6487-460e-8deb-56ecd5a93c0d\" class=\"colab-df-container\">\n",
              "    <div>\n",
              "<style scoped>\n",
              "    .dataframe tbody tr th:only-of-type {\n",
              "        vertical-align: middle;\n",
              "    }\n",
              "\n",
              "    .dataframe tbody tr th {\n",
              "        vertical-align: top;\n",
              "    }\n",
              "\n",
              "    .dataframe thead th {\n",
              "        text-align: right;\n",
              "    }\n",
              "</style>\n",
              "<table border=\"1\" class=\"dataframe\">\n",
              "  <thead>\n",
              "    <tr style=\"text-align: right;\">\n",
              "      <th></th>\n",
              "      <th>text</th>\n",
              "      <th>target</th>\n",
              "    </tr>\n",
              "  </thead>\n",
              "  <tbody>\n",
              "    <tr>\n",
              "      <th>0</th>\n",
              "      <td>This is so cool. It's like, 'would you want yo...</td>\n",
              "      <td>```json\\n{\\n  \"toxicity\":0.0,\\n  \"severe_toxic...</td>\n",
              "    </tr>\n",
              "    <tr>\n",
              "      <th>1</th>\n",
              "      <td>With the rate of pedophilia in the LBGTQ commu...</td>\n",
              "      <td>```json\\n{\\n  \"toxicity\":0.3,\\n  \"severe_toxic...</td>\n",
              "    </tr>\n",
              "    <tr>\n",
              "      <th>2</th>\n",
              "      <td>In addition, it's been 174 days and counting ....</td>\n",
              "      <td>```json\\n{\\n  \"toxicity\":0.0,\\n  \"severe_toxic...</td>\n",
              "    </tr>\n",
              "  </tbody>\n",
              "</table>\n",
              "</div>\n",
              "    <div class=\"colab-df-buttons\">\n",
              "\n",
              "  <div class=\"colab-df-container\">\n",
              "    <button class=\"colab-df-convert\" onclick=\"convertToInteractive('df-77a12fdf-6487-460e-8deb-56ecd5a93c0d')\"\n",
              "            title=\"Convert this dataframe to an interactive table.\"\n",
              "            style=\"display:none;\">\n",
              "\n",
              "  <svg xmlns=\"http://www.w3.org/2000/svg\" height=\"24px\" viewBox=\"0 -960 960 960\">\n",
              "    <path d=\"M120-120v-720h720v720H120Zm60-500h600v-160H180v160Zm220 220h160v-160H400v160Zm0 220h160v-160H400v160ZM180-400h160v-160H180v160Zm440 0h160v-160H620v160ZM180-180h160v-160H180v160Zm440 0h160v-160H620v160Z\"/>\n",
              "  </svg>\n",
              "    </button>\n",
              "\n",
              "  <style>\n",
              "    .colab-df-container {\n",
              "      display:flex;\n",
              "      gap: 12px;\n",
              "    }\n",
              "\n",
              "    .colab-df-convert {\n",
              "      background-color: #E8F0FE;\n",
              "      border: none;\n",
              "      border-radius: 50%;\n",
              "      cursor: pointer;\n",
              "      display: none;\n",
              "      fill: #1967D2;\n",
              "      height: 32px;\n",
              "      padding: 0 0 0 0;\n",
              "      width: 32px;\n",
              "    }\n",
              "\n",
              "    .colab-df-convert:hover {\n",
              "      background-color: #E2EBFA;\n",
              "      box-shadow: 0px 1px 2px rgba(60, 64, 67, 0.3), 0px 1px 3px 1px rgba(60, 64, 67, 0.15);\n",
              "      fill: #174EA6;\n",
              "    }\n",
              "\n",
              "    .colab-df-buttons div {\n",
              "      margin-bottom: 4px;\n",
              "    }\n",
              "\n",
              "    [theme=dark] .colab-df-convert {\n",
              "      background-color: #3B4455;\n",
              "      fill: #D2E3FC;\n",
              "    }\n",
              "\n",
              "    [theme=dark] .colab-df-convert:hover {\n",
              "      background-color: #434B5C;\n",
              "      box-shadow: 0px 1px 3px 1px rgba(0, 0, 0, 0.15);\n",
              "      filter: drop-shadow(0px 1px 2px rgba(0, 0, 0, 0.3));\n",
              "      fill: #FFFFFF;\n",
              "    }\n",
              "  </style>\n",
              "\n",
              "    <script>\n",
              "      const buttonEl =\n",
              "        document.querySelector('#df-77a12fdf-6487-460e-8deb-56ecd5a93c0d button.colab-df-convert');\n",
              "      buttonEl.style.display =\n",
              "        google.colab.kernel.accessAllowed ? 'block' : 'none';\n",
              "\n",
              "      async function convertToInteractive(key) {\n",
              "        const element = document.querySelector('#df-77a12fdf-6487-460e-8deb-56ecd5a93c0d');\n",
              "        const dataTable =\n",
              "          await google.colab.kernel.invokeFunction('convertToInteractive',\n",
              "                                                    [key], {});\n",
              "        if (!dataTable) return;\n",
              "\n",
              "        const docLinkHtml = 'Like what you see? Visit the ' +\n",
              "          '<a target=\"_blank\" href=https://colab.research.google.com/notebooks/data_table.ipynb>data table notebook</a>'\n",
              "          + ' to learn more about interactive tables.';\n",
              "        element.innerHTML = '';\n",
              "        dataTable['output_type'] = 'display_data';\n",
              "        await google.colab.output.renderOutput(dataTable, element);\n",
              "        const docLink = document.createElement('div');\n",
              "        docLink.innerHTML = docLinkHtml;\n",
              "        element.appendChild(docLink);\n",
              "      }\n",
              "    </script>\n",
              "  </div>\n",
              "\n",
              "\n",
              "    <div id=\"df-d1b9498a-5d15-4450-b736-41d91c7aebe4\">\n",
              "      <button class=\"colab-df-quickchart\" onclick=\"quickchart('df-d1b9498a-5d15-4450-b736-41d91c7aebe4')\"\n",
              "                title=\"Suggest charts\"\n",
              "                style=\"display:none;\">\n",
              "\n",
              "<svg xmlns=\"http://www.w3.org/2000/svg\" height=\"24px\"viewBox=\"0 0 24 24\"\n",
              "     width=\"24px\">\n",
              "    <g>\n",
              "        <path d=\"M19 3H5c-1.1 0-2 .9-2 2v14c0 1.1.9 2 2 2h14c1.1 0 2-.9 2-2V5c0-1.1-.9-2-2-2zM9 17H7v-7h2v7zm4 0h-2V7h2v10zm4 0h-2v-4h2v4z\"/>\n",
              "    </g>\n",
              "</svg>\n",
              "      </button>\n",
              "\n",
              "<style>\n",
              "  .colab-df-quickchart {\n",
              "      --bg-color: #E8F0FE;\n",
              "      --fill-color: #1967D2;\n",
              "      --hover-bg-color: #E2EBFA;\n",
              "      --hover-fill-color: #174EA6;\n",
              "      --disabled-fill-color: #AAA;\n",
              "      --disabled-bg-color: #DDD;\n",
              "  }\n",
              "\n",
              "  [theme=dark] .colab-df-quickchart {\n",
              "      --bg-color: #3B4455;\n",
              "      --fill-color: #D2E3FC;\n",
              "      --hover-bg-color: #434B5C;\n",
              "      --hover-fill-color: #FFFFFF;\n",
              "      --disabled-bg-color: #3B4455;\n",
              "      --disabled-fill-color: #666;\n",
              "  }\n",
              "\n",
              "  .colab-df-quickchart {\n",
              "    background-color: var(--bg-color);\n",
              "    border: none;\n",
              "    border-radius: 50%;\n",
              "    cursor: pointer;\n",
              "    display: none;\n",
              "    fill: var(--fill-color);\n",
              "    height: 32px;\n",
              "    padding: 0;\n",
              "    width: 32px;\n",
              "  }\n",
              "\n",
              "  .colab-df-quickchart:hover {\n",
              "    background-color: var(--hover-bg-color);\n",
              "    box-shadow: 0 1px 2px rgba(60, 64, 67, 0.3), 0 1px 3px 1px rgba(60, 64, 67, 0.15);\n",
              "    fill: var(--button-hover-fill-color);\n",
              "  }\n",
              "\n",
              "  .colab-df-quickchart-complete:disabled,\n",
              "  .colab-df-quickchart-complete:disabled:hover {\n",
              "    background-color: var(--disabled-bg-color);\n",
              "    fill: var(--disabled-fill-color);\n",
              "    box-shadow: none;\n",
              "  }\n",
              "\n",
              "  .colab-df-spinner {\n",
              "    border: 2px solid var(--fill-color);\n",
              "    border-color: transparent;\n",
              "    border-bottom-color: var(--fill-color);\n",
              "    animation:\n",
              "      spin 1s steps(1) infinite;\n",
              "  }\n",
              "\n",
              "  @keyframes spin {\n",
              "    0% {\n",
              "      border-color: transparent;\n",
              "      border-bottom-color: var(--fill-color);\n",
              "      border-left-color: var(--fill-color);\n",
              "    }\n",
              "    20% {\n",
              "      border-color: transparent;\n",
              "      border-left-color: var(--fill-color);\n",
              "      border-top-color: var(--fill-color);\n",
              "    }\n",
              "    30% {\n",
              "      border-color: transparent;\n",
              "      border-left-color: var(--fill-color);\n",
              "      border-top-color: var(--fill-color);\n",
              "      border-right-color: var(--fill-color);\n",
              "    }\n",
              "    40% {\n",
              "      border-color: transparent;\n",
              "      border-right-color: var(--fill-color);\n",
              "      border-top-color: var(--fill-color);\n",
              "    }\n",
              "    60% {\n",
              "      border-color: transparent;\n",
              "      border-right-color: var(--fill-color);\n",
              "    }\n",
              "    80% {\n",
              "      border-color: transparent;\n",
              "      border-right-color: var(--fill-color);\n",
              "      border-bottom-color: var(--fill-color);\n",
              "    }\n",
              "    90% {\n",
              "      border-color: transparent;\n",
              "      border-bottom-color: var(--fill-color);\n",
              "    }\n",
              "  }\n",
              "</style>\n",
              "\n",
              "      <script>\n",
              "        async function quickchart(key) {\n",
              "          const quickchartButtonEl =\n",
              "            document.querySelector('#' + key + ' button');\n",
              "          quickchartButtonEl.disabled = true;  // To prevent multiple clicks.\n",
              "          quickchartButtonEl.classList.add('colab-df-spinner');\n",
              "          try {\n",
              "            const charts = await google.colab.kernel.invokeFunction(\n",
              "                'suggestCharts', [key], {});\n",
              "          } catch (error) {\n",
              "            console.error('Error during call to suggestCharts:', error);\n",
              "          }\n",
              "          quickchartButtonEl.classList.remove('colab-df-spinner');\n",
              "          quickchartButtonEl.classList.add('colab-df-quickchart-complete');\n",
              "        }\n",
              "        (() => {\n",
              "          let quickchartButtonEl =\n",
              "            document.querySelector('#df-d1b9498a-5d15-4450-b736-41d91c7aebe4 button');\n",
              "          quickchartButtonEl.style.display =\n",
              "            google.colab.kernel.accessAllowed ? 'block' : 'none';\n",
              "        })();\n",
              "      </script>\n",
              "    </div>\n",
              "\n",
              "    </div>\n",
              "  </div>\n"
            ],
            "text/plain": [
              "                                                text  \\\n",
              "0  This is so cool. It's like, 'would you want yo...   \n",
              "1  With the rate of pedophilia in the LBGTQ commu...   \n",
              "2  In addition, it's been 174 days and counting ....   \n",
              "\n",
              "                                              target  \n",
              "0  ```json\\n{\\n  \"toxicity\":0.0,\\n  \"severe_toxic...  \n",
              "1  ```json\\n{\\n  \"toxicity\":0.3,\\n  \"severe_toxic...  \n",
              "2  ```json\\n{\\n  \"toxicity\":0.0,\\n  \"severe_toxic...  "
            ]
          },
          "execution_count": 85,
          "metadata": {},
          "output_type": "execute_result"
        }
      ],
      "source": [
        "prepared_train_prompt_optimization_df.head(3)"
      ]
    },
    {
      "cell_type": "code",
      "execution_count": null,
      "metadata": {
        "id": "y6yuQKM_9kT5"
      },
      "outputs": [],
      "source": [
        "import json\n",
        "def refine_string(text_data):\n",
        "    cleaned_text = text_data.strip()\n",
        "    if cleaned_text.startswith(\"```json\"):\n",
        "        cleaned_text = cleaned_text[len(\"```json\"):].strip()\n",
        "\n",
        "    if cleaned_text.endswith(\"```\"):\n",
        "        cleaned_text = cleaned_text[:-len(\"```\")].strip()\n",
        "\n",
        "    # 3. 문자열이 여전히 중괄호로 시작하고 끝나는지 확인 (선택적 검증)\n",
        "    if cleaned_text.startswith('{') and cleaned_text.endswith('}'):\n",
        "        json_string = cleaned_text\n",
        "    else:\n",
        "        # 전처리 과정에서 예상치 못한 문제가 발생했을 경우\n",
        "        json_string = None\n",
        "\n",
        "    ## JSON 문자열을 딕셔너리로 변환\n",
        "    data_dict = {}\n",
        "    reason = None\n",
        "    if json_string:\n",
        "        try:\n",
        "            data_dict = json.loads(json_string)\n",
        "        except json.JSONDecodeError as e:\n",
        "          reason = 'Wrong JSON format'\n",
        "    else:\n",
        "      reason = 'Wrong JSON format'\n",
        "    return data_dict, reason"
      ]
    },
    {
      "cell_type": "code",
      "execution_count": null,
      "metadata": {
        "id": "U_I2nFex3Miq"
      },
      "outputs": [],
      "source": [
        "d1, _ = refine_string(prepared_train_prompt_optimization_df['reference'][1])\n",
        "d2, _ = refine_string(prepared_train_prompt_optimization_df['reference'][2])"
      ]
    },
    {
      "cell_type": "code",
      "execution_count": 1,
      "metadata": {
        "colab": {
          "base_uri": "https://localhost:8080/"
        },
        "id": "Pruk4sgn_oDi",
        "outputId": "4bc89e45-5c6f-4ffe-9911-ad40c573650f"
      },
      "outputs": [],
      "source": [
        "# list(d1.keys())"
      ]
    },
    {
      "cell_type": "code",
      "execution_count": null,
      "metadata": {
        "id": "x3ugHeIu-0Bu"
      },
      "outputs": [],
      "source": [
        "# import math\n",
        "\n",
        "def calculate_mean_difference(dict1: dict, dict2: dict) -> float:\n",
        "    total_absolute_difference = 0.0\n",
        "    keys = ['toxicity', 'severe_toxicity', 'obscene', 'threat', 'insult', 'identity_attack', 'sexual_explicit']\n",
        "\n",
        "    if (set(dict1.keys()) != set(keys)) | (set(dict2.keys()) != set(keys)):\n",
        "      mean_difference = 1.0\n",
        "\n",
        "    else:\n",
        "      for key in keys:\n",
        "          val1 = dict1[key]\n",
        "          val2 = dict2[key]\n",
        "          # 값의 차이의 절댓값 (Absolute Difference)\n",
        "          abs_diff = abs(val1 - val2)\n",
        "          total_absolute_difference += abs_diff\n",
        "\n",
        "      # 4. 누적된 절댓값 차이를 공통 키의 개수로 나누어 평균을 구합니다.\n",
        "      mean_difference = round(total_absolute_difference / len(keys), 5)\n",
        "\n",
        "    return mean_difference"
      ]
    },
    {
      "cell_type": "code",
      "execution_count": null,
      "metadata": {
        "colab": {
          "base_uri": "https://localhost:8080/"
        },
        "id": "qrLjL8O5__At",
        "outputId": "1415c4c8-37bb-4896-cec1-8786b71b4977"
      },
      "outputs": [
        {
          "data": {
            "text/plain": [
              "0.11429"
            ]
          },
          "execution_count": 35,
          "metadata": {},
          "output_type": "execute_result"
        }
      ],
      "source": [
        "calculate_mean_difference(d1, d2)"
      ]
    },
    {
      "cell_type": "code",
      "execution_count": null,
      "metadata": {
        "id": "1wGoVQNCMbxe"
      },
      "outputs": [],
      "source": [
        "custom_metric_function_code = '''\n",
        "\"\"\"\n",
        "This module contains the custom evaluation metric definition to optimize a prompt template with Vertex AI prompt optimizer\n",
        "\"\"\"\n",
        "\n",
        "from typing import Dict\n",
        "from vertexai.generative_models import (\n",
        "    GenerationConfig,\n",
        "    GenerativeModel\n",
        ")\n",
        "\n",
        "import json\n",
        "import functions_framework\n",
        "from rouge_score import rouge_scorer\n",
        "import ast\n",
        "\n",
        "def refine_string(text_data):\n",
        "    cleaned_text = text_data.strip()\n",
        "    if cleaned_text.startswith(\"```json\"):\n",
        "        cleaned_text = cleaned_text[len(\"```json\"):].strip()\n",
        "\n",
        "    if cleaned_text.endswith(\"```\"):\n",
        "        cleaned_text = cleaned_text[:-len(\"```\")].strip()\n",
        "\n",
        "    if cleaned_text.startswith('{') and cleaned_text.endswith('}'):\n",
        "        json_string = cleaned_text\n",
        "    else:\n",
        "        json_string = None\n",
        "\n",
        "    data_dict = {}\n",
        "    reason = None\n",
        "    if json_string:\n",
        "        try:\n",
        "            data_dict = json.loads(json_string)\n",
        "        except json.JSONDecodeError as e:\n",
        "          reason = 'Wrong JSON format'\n",
        "    else:\n",
        "      reason = 'Wrong JSON format'\n",
        "    return data_dict, reason\n",
        "\n",
        "\n",
        "def calculate_mean_difference(dict1: dict, dict2: dict) -> float:\n",
        "    total_absolute_difference = 0.0\n",
        "    keys = ['toxicity', 'severe_toxicity', 'obscene', 'threat', 'insult', 'identity_attack', 'sexual_explicit']\n",
        "\n",
        "    if (set(dict1.keys()) != set(keys)) | (set(dict2.keys()) != set(keys)):\n",
        "      mean_difference = 1.0\n",
        "\n",
        "    else:\n",
        "      for key in keys:\n",
        "          val1 = dict1[key]\n",
        "          val2 = dict2[key]\n",
        "          # 값의 차이의 절댓값 (Absolute Difference)\n",
        "          abs_diff = abs(val1 - val2)\n",
        "          total_absolute_difference += abs_diff\n",
        "\n",
        "      # 4. 누적된 절댓값 차이를 공통 키의 개수로 나누어 평균을 구합니다.\n",
        "      mean_difference = round(total_absolute_difference / len(keys), 5)\n",
        "\n",
        "    return mean_difference\n",
        "\n",
        "\n",
        "# Define custom evaluation criteria\n",
        "def evaluate_engagement_personalization_fn(r_scores, scores) -> Dict[str, str]:\n",
        "    r_score_dict, r_reason = refine_string(r_scores)\n",
        "    score_dict, reason = refine_string(scores)\n",
        "\n",
        "    if (r_reason is not None) & (reason is not None):\n",
        "      mean_diff = 1.0\n",
        "      explanation = \"Wrong JSON Output format!\"\n",
        "    else:\n",
        "      mean_diff = calculate_mean_difference(r_score_dict, score_dict)\n",
        "      explanation = f\"Mean score = {str(1.0 - mean_diff)}, and it should be close to 1.0\"\n",
        "\n",
        "    if mean_diff == 0.0:\n",
        "      explanation = \"Great, best score\"\n",
        "\n",
        "    print(f\"mean_diff : {mean_diff}\")\n",
        "\n",
        "    return {\n",
        "        \"custom_engagement_personalization_score\": 1.0 - mean_diff,\n",
        "        \"explanation\": explanation,\n",
        "    }\n",
        "\n",
        "\n",
        "# Register an HTTP function with the Functions Framework\n",
        "@functions_framework.http\n",
        "def main(request):\n",
        "  request_json = request.get_json(silent=True)\n",
        "\n",
        "  if not request_json:\n",
        "    raise ValueError('Cannot find request json.')\n",
        "\n",
        "  response = request_json['response']\n",
        "  answer = request_json['target']\n",
        "\n",
        "  try:\n",
        "    get_evaluation_result = evaluate_engagement_personalization_fn(response,answer)\n",
        "    return json.dumps(get_evaluation_result)\n",
        "\n",
        "  except Exception as e:\n",
        "    print(\"##Exception##\")\n",
        "    print(e)\n",
        "    print(\"##Response##\")\n",
        "    print(response)\n",
        "\n",
        "    default_return = {\"custom_engagement_personalization_score\": 0, \"explanation\": \"Invalid JSON format.\"}\n",
        "\n",
        "    return json.dumps(default_return)\n",
        "\n",
        "\n",
        "\n",
        "'''\n",
        "\n",
        "with open(BUILD_PATH / \"main.py\", \"w\") as f:\n",
        "    f.write(custom_metric_function_code)"
      ]
    },
    {
      "cell_type": "code",
      "execution_count": null,
      "metadata": {
        "id": "dUdbgB0dqz2N"
      },
      "outputs": [],
      "source": []
    },
    {
      "cell_type": "markdown",
      "metadata": {
        "id": "T7R0LDZMCPnL"
      },
      "source": [
        "##### Deploy the custom metric as a Cloud Function\n",
        "\n",
        "Use gcloud command line to deploy a Cloud function. To learn more, check out [Deploy a Python service to Cloud Run](https://cloud.google.com/run/docs/quickstarts/build-and-deploy/deploy-python-service) quickstart.\n"
      ]
    },
    {
      "cell_type": "code",
      "execution_count": null,
      "metadata": {
        "colab": {
          "base_uri": "https://localhost:8080/"
        },
        "id": "nwBZGvkLCizs",
        "outputId": "340a47fc-4481-40b0-c3de-33ff1faeb089"
      },
      "outputs": [],
      "source": [
        "!gcloud functions deploy 'custom_metric_onboard_test3' \\\n",
        " --gen2 \\\n",
        " --runtime=\"python310\" \\\n",
        " --source={str(BUILD_PATH)} \\\n",
        " --entry-point=main \\\n",
        " --trigger-http \\\n",
        " --timeout=3600 \\\n",
        " --memory=2Gb \\\n",
        " --concurrency=6 \\\n",
        " --min-instances=6 \\\n",
        " --project {PROJECT_ID} \\\n",
        " --region={REGION} \\\n",
        " --quiet"
      ]
    },
    {
      "cell_type": "markdown",
      "metadata": {
        "id": "FoEypczSwAGK"
      },
      "source": [
        "##### Test your custom evaluation metric\n",
        "\n",
        "After you deploy your  custom evaluation metric as Cloud function, submit a request to validate the output of the custom evaluation function."
      ]
    },
    {
      "cell_type": "code",
      "execution_count": null,
      "metadata": {
        "colab": {
          "base_uri": "https://localhost:8080/"
        },
        "id": "KA_6GO8BOK_h",
        "outputId": "bd1eb27f-7b26-4947-ec77-2480b1b2c252"
      },
      "outputs": [],
      "source": [
        "! gcloud functions describe 'custom_metric_onboard_test3' --gen2 --region {REGION} --format=\"value(url)\""
      ]
    },
    {
      "cell_type": "code",
      "execution_count": null,
      "metadata": {
        "id": "HXOWYp2MwEsA"
      },
      "outputs": [],
      "source": [
        "custom_evaluator_function_uri = ! gcloud functions describe 'custom_metric_onboard_test3' --gen2 --region {REGION} --format=\"value(url)\"\n",
        "custom_evaluator_function_uri = custom_evaluator_function_uri[0].strip()"
      ]
    },
    {
      "cell_type": "code",
      "execution_count": 3,
      "metadata": {
        "colab": {
          "base_uri": "https://localhost:8080/"
        },
        "id": "GbXhK3qnL1FW",
        "outputId": "bea350e7-edb0-49fd-e364-5fae1b2b601f"
      },
      "outputs": [],
      "source": [
        "# print(custom_evaluator_function_uri)"
      ]
    },
    {
      "cell_type": "code",
      "execution_count": null,
      "metadata": {
        "colab": {
          "base_uri": "https://localhost:8080/"
        },
        "id": "0JMeIyx0DHnc",
        "outputId": "f540c832-aa45-495e-887e-01870a8c001d"
      },
      "outputs": [],
      "source": [
        "headers = {\n",
        "    \"Content-Type\": \"application/json\",\n",
        "}\n",
        "json_data = {\n",
        "    \"response\": f\"\"\"{prepared_train_prompt_optimization_df['target'][0]}\"\"\",\n",
        "    \"target\": f\"\"\"{prepared_train_prompt_optimization_df['target'][0]}\"\"\",\n",
        "}\n",
        "response = requests.post(custom_evaluator_function_uri, headers=headers, json=json_data, timeout=70)\n",
        "print(response.json())"
      ]
    },
    {
      "cell_type": "code",
      "execution_count": 5,
      "metadata": {
        "colab": {
          "base_uri": "https://localhost:8080/"
        },
        "id": "kfNAZxtWMKz8",
        "outputId": "06f1eee9-2a4e-4564-eddf-3b8bb6491a02"
      },
      "outputs": [],
      "source": [
        "# Label\n",
        "# response.json()"
      ]
    },
    {
      "cell_type": "code",
      "execution_count": 6,
      "metadata": {
        "colab": {
          "base_uri": "https://localhost:8080/",
          "height": 53
        },
        "id": "gTDxpbkCJAug",
        "outputId": "28f45248-c354-4846-c4b7-1620cee2d815"
      },
      "outputs": [],
      "source": [
        "# prepared_train_prompt_optimization_df['reference'][0]"
      ]
    },
    {
      "cell_type": "code",
      "execution_count": null,
      "metadata": {
        "id": "lQT4YiybLMBt"
      },
      "outputs": [],
      "source": [
        "r_scores = prepared_train_prompt_optimization_df['reference'][0]\n",
        "scores = prepared_train_prompt_optimization_df['reference'][0]\n",
        "\n",
        "r_score_dict, r_reason = refine_string(r_scores)\n",
        "score_dict, reason = refine_string(scores)\n",
        "\n",
        "if (r_reason is None) & (reason is None):\n",
        "  mean_diff = 1.0\n",
        "  explanation = \"Wrong JSON Output format!\"\n",
        "else:\n",
        "  mean_diff = calculate_mean_difference(r_score_dict, score_dict)\n",
        "  explanation = f\"Mean diff : {str(mean_diff)}\""
      ]
    },
    {
      "cell_type": "code",
      "execution_count": null,
      "metadata": {
        "colab": {
          "base_uri": "https://localhost:8080/"
        },
        "id": "trIPD6l_LSF-",
        "outputId": "9a0990fd-bba5-4dd6-9002-271466ae6dd4"
      },
      "outputs": [],
      "source": [
        "mean_diff"
      ]
    },
    {
      "cell_type": "code",
      "execution_count": 9,
      "metadata": {
        "colab": {
          "base_uri": "https://localhost:8080/"
        },
        "id": "JQW08_lxLT_k",
        "outputId": "e71b8852-f1f6-4819-c669-42a778e0724f"
      },
      "outputs": [],
      "source": [
        "# print(r_reason)\n",
        "# print(reason)"
      ]
    },
    {
      "cell_type": "markdown",
      "metadata": {
        "id": "F5RD0l2xX-FI"
      },
      "source": [
        "#### Configure optimization settings\n",
        "\n",
        "Vertex AI prompt optimizer lets you control the optimization process by specifying what to optimize (instructions only, demonstrations only, or both), providing a system instruction and prompt template, and selecting the target model.  You can optionally refine the optimization with some advanced settings like its duration and the number of optimization iterations it runs, which models the Vertex AI prompt optimizer uses, and other parameters to control the structure and content of prompts. Below you have some common and recommended default configurations.\n",
        "\n",
        "In this scenario, you set two additional parameters:\n",
        "\n",
        "* `custom_metric_name` parameter which lets you pass your own custom metric to optimizer the prompt template.\n",
        "\n",
        "* `custom_metric_cloud_function_name` parameter which indicates the Cloud function to call for collecting custom function evaluation metric output.\n",
        "\n",
        "For more advanced control, you can learn and explore more about all the parameters and how to best use them in the [detailed documentation](https://cloud.google.com/vertex-ai/generative-ai/docs/learn/prompts/prompt-optimizer).\n"
      ]
    },
    {
      "cell_type": "code",
      "execution_count": null,
      "metadata": {
        "id": "sFHutXhgeqRx"
      },
      "outputs": [],
      "source": [
        "## Important setting : response_mime_type=\"application/json\"\n",
        "\n",
        "PROMPT_OPTIMIZATION_JOB = \"auto-prompt-design-job-\" + vapo_lib.get_id()\n",
        "OUTPUT_OPTIMIZATION_RUN_URI = str(\n",
        "    OUTPUT_OPTIMIZATION_DATA_URI / PROMPT_OPTIMIZATION_JOB\n",
        ")\n",
        "\n",
        "args = Namespace(\n",
        "    # Basic configuration\n",
        "    system_instruction=SYSTEM_INSTRUCTION_TEMPLATE,  # System instructions for the target model. String.\n",
        "    prompt_template=PROMPT_TEMPLATE,  # Template for prompts,  String.\n",
        "    target_model=\"gemini-2.5-flash\",  # Target model for optimization. String. Supported models: \"gemini-2.5-flash-lite\", \"gemini-2.5-flash\", \"gemini-2.5-pro\", \"gemini-2.0-flash-lite-001\", \"gemini-2.0-flash-001\"\n",
        "    thinking_budget=-1,  # Thinking budget for thinking models. -1 means no thinking for non-thinking models and auto thinking for thinking models. Integer.\n",
        "    optimization_mode=\"instruction_and_demo\",  # Optimization mode. String. Supported modes: \"instruction\", \"demonstration\", \"instruction_and_demo\"\n",
        "    custom_metric_name=\"custom_engagement_personalization_score\",  # Metric name, as defined by the key that corresponds in the dictionary returned from Cloud function. String.\n",
        "    custom_metric_cloud_function_name=\"custom_metric_onboard_test3\",  # Cloud Run function name you previously deployed. String.\n",
        "    eval_metrics_types=[\n",
        "        \"custom_metric\",\n",
        "    ],  # List of evaluation metrics. List of strings. Supported metrics: \"bleu\", \"coherence\", \"comet\", \"exact_match\", \"fluency\", \"groundedness\", \"metricx\", \"rouge_1\", \"rouge_2\", \"rouge_l\", \"rouge_l_sum\", \"safety\", \"question_answering_correctness\", \"question_answering_quality\", \"summarization_quality\", \"text_quality\", \"verbosity\", \"tool_call_valid\", \"tool_name_match\", \"tool_parameter_key_match\", \"tool_parameter_kv_match\"\n",
        "    eval_metrics_weights=[\n",
        "        1.0\n",
        "    ],  # Weights for evaluation metrics. List of floats.  Length must match eval_metrics_types.  Should sum to 1.\n",
        "    aggregation_type=\"weighted_sum\",  # Aggregation type for evaluation metrics. String. Supported aggregation types: \"weighted_sum\", \"weighted_average\"\n",
        "    input_data_path=INPUT_OPTIMIZATION_DATA_FILE_URI,  # Cloud Storage URI to input optimization data. String.\n",
        "    output_path=OUTPUT_OPTIMIZATION_RUN_URI,  # Cloud Storage URI to save optimization results. String.\n",
        "    project=PROJECT_ID,  # Google Cloud project ID. String.\n",
        "    # (Optional) Advanced configuration\n",
        "    num_steps=10,  # Number of iterations in instruction optimization mode. Integer between 10 and 20.\n",
        "    num_demo_set_candidates=10,  # Number of demonstrations evaluated in instruction and instruction_and_demo mode. Integer between 10 and 30.\n",
        "    demo_set_size=3,  # Number of demonstrations generated per prompt. Integer between 3 and 6.\n",
        "    target_model_location=\"us-central1\", # Location of the target model. String. Default us-central1.\n",
        "    optimizer_model_location=\"us-central1\", # Location of the optimizer model. String. Default us-central1.\n",
        "    source_model=\"\",  # Google model that the system instructions and prompts were previously used with. String. Not needed if you provide target column.\n",
        "    source_model_location=\"\",  # Location of the source model. String. Default us-central1. Not needed if you provide target column.\n",
        "    target_model_qps=1,  # The queries per second (QPS) sent to the target model. Integer greater or equal than 1 depending on your quota.\n",
        "    optimizer_model_qps=1,  # The queries per second (QPS) sent to the optimization model. Integer greater or equal than 1 depending on your quota.\n",
        "    eval_qps=1,  # The queries per second (QPS) sent to the eval model. Integer greater or equal than 1 depending on your quota.\n",
        "    source_model_qps=\"\",  # The queries per second (QPS) sent to the source model. Integer greater or equal than 1 depending on your quota.\n",
        "    response_mime_type=\"application/json\",  # MIME response type that the target model uses. String. Supported response: text/plain, text/x.enum, application/json.\n",
        "    response_schema=\"\",  # The Vertex AI's Controlled Generation response schema that the target model uses to generate answers. String.\n",
        "    language=\"English\",  # Language of the system instructions. String. Supported languages: \"English\", \"French\", \"German\", \"Hebrew\", \"Hindi\", \"Italian\", \"Japanese\", \"Korean\", \"Portuguese\", \"Simplified Chinese\", \"Spanish\", \"Traditional Chinese\"\n",
        "    placeholder_to_content=json.loads(\n",
        "        \"{}\"\n",
        "    ),  # Placeholder to replace any parameter in the system instruction. Dict.\n",
        "    data_limit=10,  # Amount of data used for validation. Integer between 5 and 100.\n",
        "    translation_source_field_name=\"\",  # Fill in with the corresponding field name of the source text in the data if translation metrics like Comet or MetricX are selected. Otherwise, leave it as empty.\n",
        ")"
      ]
    },
    {
      "cell_type": "markdown",
      "metadata": {
        "id": "Jd_uzQYQx6L7"
      },
      "source": [
        "#### Upload Vertex AI prompt optimizer Cloud Storage\n",
        "\n",
        "After you define Vertex AI prompt optimizer configuration, you upload them on Cloud Storage bucket.\n"
      ]
    },
    {
      "cell_type": "code",
      "execution_count": null,
      "metadata": {
        "id": "iqiv8ApR_SAM"
      },
      "outputs": [],
      "source": [
        "args = vars(args)\n",
        "\n",
        "with epath.Path(CONFIG_FILE_URI).open(\"w\") as config_file:\n",
        "    json.dump(args, config_file)\n",
        "config_file.close()"
      ]
    },
    {
      "cell_type": "markdown",
      "metadata": {
        "id": "spqgBT8hYAle"
      },
      "source": [
        "#### Run the automatic prompt optimization job\n",
        "\n",
        "Now you are ready to run your first Vertex AI prompt optimizer job using the Vertex AI SDK for Python."
      ]
    },
    {
      "cell_type": "markdown",
      "metadata": {
        "id": "RlNQ_UrFH9ne"
      },
      "source": [
        "> This prompt optimization job requires ~ 40 minutes to run.\n",
        "\n",
        "> Be sure you have provisioned enough queries per minute (QPM) quota implementing the recommended QPM for each model. If you configure the Vertex AI prompt optimizer with a QPM that is higher than the QPM than you have access to, the job might fail. [Check out](https://cloud.google.com/vertex-ai/generative-ai/docs/learn/prompts/prompt-optimizer#before-you-begin) the documentation to know more.\n"
      ]
    },
    {
      "cell_type": "code",
      "execution_count": null,
      "metadata": {
        "id": "GtPnvKIpUQ3q"
      },
      "outputs": [],
      "source": [
        "WORKER_POOL_SPECS = [\n",
        "    {\n",
        "        \"machine_spec\": {\n",
        "            \"machine_type\": \"n1-standard-4\",\n",
        "        },\n",
        "        \"replica_count\": 1,\n",
        "        \"container_spec\": {\n",
        "            \"image_uri\": APD_CONTAINER_URI,\n",
        "            \"args\": [\"--config=\" + CONFIG_FILE_URI],\n",
        "        },\n",
        "    }\n",
        "]\n",
        "\n",
        "custom_job = aiplatform.CustomJob(\n",
        "    display_name=PROMPT_OPTIMIZATION_JOB,\n",
        "    worker_pool_specs=WORKER_POOL_SPECS,\n",
        ")\n",
        "\n",
        "custom_job.submit(service_account=SERVICE_ACCOUNT)"
      ]
    },
    {
      "cell_type": "code",
      "execution_count": 10,
      "metadata": {
        "colab": {
          "base_uri": "https://localhost:8080/"
        },
        "id": "SqfRaJ5iUVpP",
        "outputId": "565843f0-90fb-4f7a-b3c8-b14783314c38"
      },
      "outputs": [],
      "source": [
        "# custom_job"
      ]
    },
    {
      "cell_type": "markdown",
      "metadata": {
        "id": "3YwwKBhtJ4ut"
      },
      "source": [
        "### Collect and display the optimization results\n",
        "\n",
        "Vertex AI prompt optimizer returns both optimized templates and evaluation results for either instruction, or demostrations, or both depending on the optimization mode you define as JSONL files on Cloud Storage bucket. Those results help you understand the optimization process.\n",
        "\n",
        "In this case, you want to collect the optimized templates and evaluation results for the system instruction.\n",
        "\n",
        "Below you use a helper function to display those results."
      ]
    },
    {
      "cell_type": "code",
      "execution_count": 9,
      "metadata": {
        "colab": {
          "base_uri": "https://localhost:8080/"
        },
        "id": "ovqCR2u7QTZv",
        "outputId": "4c9f2a00-ff2a-4aeb-cb6a-473c1fb0835a"
      },
      "outputs": [],
      "source": [
        "# print(OUTPUT_OPTIMIZATION_RUN_URI)"
      ]
    },
    {
      "cell_type": "code",
      "execution_count": null,
      "metadata": {
        "colab": {
          "base_uri": "https://localhost:8080/",
          "height": 765,
          "referenced_widgets": [
            "79d98df679c54f93b9150a0180594105",
            "5f7bed0174014b95b2a37badd319c967",
            "e14c2e8b249c441d9d3b99f53a0809bd",
            "ed5d5135be6f458f93fef8c2b9598b61",
            "7561f4752c7347ce8b084dd62ccf8f81",
            "6ae34d17d0e5443f92a7e8b913c4b777",
            "47ecfc24abcb432796b7456e9b61a7d0",
            "1684164ec6b4430598744e38e0c09629",
            "ea4cc1d6aea44585b3f1a65ff5bd1de3",
            "0fd199757ec2452fafbe7d8279828145",
            "6f7cb1ecaf484197b1ec3cd0dc64889a",
            "ad8f07048271476bbb22113dc3e3a425",
            "3eb262b99d494410918a9bfcb6c57ce2",
            "b87dc332171940f595bf777bd146ecb7",
            "708c2738c3814d62ac449f20c6072541",
            "5101ca11eb7842ccadb4f3de19d54f1b"
          ]
        },
        "id": "-6ohF0LJIhvU",
        "outputId": "b1f2d3f9-6f3e-42e1-8f78-dbc370de55d6"
      },
      "outputs": [],
      "source": [
        "results_ui = vapo_lib.ResultsUI(OUTPUT_OPTIMIZATION_RUN_URI)\n",
        "results_df_html = \"\"\"\n",
        "\n",
        "\"\"\"\n",
        "\n",
        "display(HTML(results_df_html))\n",
        "display(results_ui.get_container())"
      ]
    },
    {
      "cell_type": "markdown",
      "metadata": {
        "id": "2a4e033321ad"
      },
      "source": [
        "## 4. Clean up"
      ]
    },
    {
      "cell_type": "code",
      "execution_count": null,
      "metadata": {
        "id": "WRY_3wh1GVNm"
      },
      "outputs": [],
      "source": [
        "delete_bucket = False\n",
        "delete_job = False\n",
        "delete_run = False\n",
        "delete_tutorial = False\n",
        "\n",
        "if delete_bucket:\n",
        "    ! gsutil rm -r {BUCKET_URI}\n",
        "\n",
        "if delete_job:\n",
        "    custom_job.delete()\n",
        "\n",
        "if delete_run:\n",
        "    ! gcloud functions delete 'custom_engagement_personalization_metric' --region={REGION}\n",
        "\n",
        "if delete_tutorial:\n",
        "    import shutil\n",
        "\n",
        "    shutil.rmtree(str(TUTORIAL_PATH))"
      ]
    }
  ],
  "metadata": {
    "colab": {
      "name": "3_vapo_sdk_custom_metric_float_numbers_cloud_onboard.ipynb",
      "provenance": []
    },
    "kernelspec": {
      "display_name": "Python 3",
      "name": "python3"
    },
    "language_info": {
      "codemirror_mode": {
        "name": "ipython",
        "version": 3
      },
      "file_extension": ".py",
      "mimetype": "text/x-python",
      "name": "python",
      "nbconvert_exporter": "python",
      "pygments_lexer": "ipython3",
      "version": "3.9.6"
    },
    "widgets": {
      "application/vnd.jupyter.widget-state+json": {
        "0fd199757ec2452fafbe7d8279828145": {
          "model_module": "@jupyter-widgets/base",
          "model_module_version": "1.2.0",
          "model_name": "LayoutModel",
          "state": {
            "_model_module": "@jupyter-widgets/base",
            "_model_module_version": "1.2.0",
            "_model_name": "LayoutModel",
            "_view_count": null,
            "_view_module": "@jupyter-widgets/base",
            "_view_module_version": "1.2.0",
            "_view_name": "LayoutView",
            "align_content": null,
            "align_items": null,
            "align_self": null,
            "border": null,
            "bottom": null,
            "display": null,
            "flex": null,
            "flex_flow": null,
            "grid_area": null,
            "grid_auto_columns": null,
            "grid_auto_flow": null,
            "grid_auto_rows": null,
            "grid_column": null,
            "grid_gap": null,
            "grid_row": null,
            "grid_template_areas": null,
            "grid_template_columns": null,
            "grid_template_rows": null,
            "height": null,
            "justify_content": null,
            "justify_items": null,
            "left": null,
            "margin": null,
            "max_height": null,
            "max_width": null,
            "min_height": null,
            "min_width": null,
            "object_fit": null,
            "object_position": null,
            "order": null,
            "overflow": null,
            "overflow_x": null,
            "overflow_y": null,
            "padding": null,
            "right": null,
            "top": null,
            "visibility": null,
            "width": "200px"
          }
        },
        "1684164ec6b4430598744e38e0c09629": {
          "model_module": "@jupyter-widgets/base",
          "model_module_version": "1.2.0",
          "model_name": "LayoutModel",
          "state": {
            "_model_module": "@jupyter-widgets/base",
            "_model_module_version": "1.2.0",
            "_model_name": "LayoutModel",
            "_view_count": null,
            "_view_module": "@jupyter-widgets/base",
            "_view_module_version": "1.2.0",
            "_view_name": "LayoutView",
            "align_content": null,
            "align_items": null,
            "align_self": null,
            "border": null,
            "bottom": null,
            "display": null,
            "flex": null,
            "flex_flow": null,
            "grid_area": null,
            "grid_auto_columns": null,
            "grid_auto_flow": null,
            "grid_auto_rows": null,
            "grid_column": null,
            "grid_gap": null,
            "grid_row": null,
            "grid_template_areas": null,
            "grid_template_columns": null,
            "grid_template_rows": null,
            "height": null,
            "justify_content": null,
            "justify_items": null,
            "left": null,
            "margin": null,
            "max_height": null,
            "max_width": null,
            "min_height": null,
            "min_width": null,
            "object_fit": null,
            "object_position": null,
            "order": null,
            "overflow": null,
            "overflow_x": null,
            "overflow_y": null,
            "padding": null,
            "right": null,
            "top": null,
            "visibility": null,
            "width": null
          }
        },
        "3eb262b99d494410918a9bfcb6c57ce2": {
          "model_module": "@jupyter-widgets/controls",
          "model_module_version": "1.5.0",
          "model_name": "DescriptionStyleModel",
          "state": {
            "_model_module": "@jupyter-widgets/controls",
            "_model_module_version": "1.5.0",
            "_model_name": "DescriptionStyleModel",
            "_view_count": null,
            "_view_module": "@jupyter-widgets/base",
            "_view_module_version": "1.2.0",
            "_view_name": "StyleView",
            "description_width": ""
          }
        },
        "47ecfc24abcb432796b7456e9b61a7d0": {
          "model_module": "@jupyter-widgets/base",
          "model_module_version": "1.2.0",
          "model_name": "LayoutModel",
          "state": {
            "_model_module": "@jupyter-widgets/base",
            "_model_module_version": "1.2.0",
            "_model_name": "LayoutModel",
            "_view_count": null,
            "_view_module": "@jupyter-widgets/base",
            "_view_module_version": "1.2.0",
            "_view_name": "LayoutView",
            "align_content": null,
            "align_items": null,
            "align_self": null,
            "border": null,
            "bottom": null,
            "display": null,
            "flex": null,
            "flex_flow": null,
            "grid_area": null,
            "grid_auto_columns": null,
            "grid_auto_flow": null,
            "grid_auto_rows": null,
            "grid_column": null,
            "grid_gap": null,
            "grid_row": null,
            "grid_template_areas": null,
            "grid_template_columns": null,
            "grid_template_rows": null,
            "height": null,
            "justify_content": null,
            "justify_items": null,
            "left": null,
            "margin": null,
            "max_height": null,
            "max_width": null,
            "min_height": null,
            "min_width": null,
            "object_fit": null,
            "object_position": null,
            "order": null,
            "overflow": null,
            "overflow_x": null,
            "overflow_y": null,
            "padding": null,
            "right": null,
            "top": null,
            "visibility": null,
            "width": null
          }
        },
        "5101ca11eb7842ccadb4f3de19d54f1b": {
          "model_module": "@jupyter-widgets/base",
          "model_module_version": "1.2.0",
          "model_name": "LayoutModel",
          "state": {
            "_model_module": "@jupyter-widgets/base",
            "_model_module_version": "1.2.0",
            "_model_name": "LayoutModel",
            "_view_count": null,
            "_view_module": "@jupyter-widgets/base",
            "_view_module_version": "1.2.0",
            "_view_name": "LayoutView",
            "align_content": null,
            "align_items": null,
            "align_self": null,
            "border": null,
            "bottom": null,
            "display": null,
            "flex": null,
            "flex_flow": null,
            "grid_area": null,
            "grid_auto_columns": null,
            "grid_auto_flow": null,
            "grid_auto_rows": null,
            "grid_column": null,
            "grid_gap": null,
            "grid_row": null,
            "grid_template_areas": null,
            "grid_template_columns": null,
            "grid_template_rows": null,
            "height": "600px",
            "justify_content": null,
            "justify_items": null,
            "left": null,
            "margin": "20px 0px 0px 0px",
            "max_height": null,
            "max_width": null,
            "min_height": null,
            "min_width": null,
            "object_fit": null,
            "object_position": null,
            "order": null,
            "overflow": "auto",
            "overflow_x": null,
            "overflow_y": null,
            "padding": null,
            "right": null,
            "top": null,
            "visibility": null,
            "width": null
          }
        },
        "5f7bed0174014b95b2a37badd319c967": {
          "model_module": "@jupyter-widgets/controls",
          "model_module_version": "1.5.0",
          "model_name": "LabelModel",
          "state": {
            "_dom_classes": [],
            "_model_module": "@jupyter-widgets/controls",
            "_model_module_version": "1.5.0",
            "_model_name": "LabelModel",
            "_view_count": null,
            "_view_module": "@jupyter-widgets/controls",
            "_view_module_version": "1.5.0",
            "_view_name": "LabelView",
            "description": "",
            "description_tooltip": null,
            "layout": "IPY_MODEL_1684164ec6b4430598744e38e0c09629",
            "placeholder": "​",
            "style": "IPY_MODEL_ea4cc1d6aea44585b3f1a65ff5bd1de3",
            "value": "Select Run:"
          }
        },
        "6ae34d17d0e5443f92a7e8b913c4b777": {
          "model_module": "@jupyter-widgets/output",
          "model_module_version": "1.0.0",
          "model_name": "OutputModel",
          "state": {
            "_dom_classes": [],
            "_model_module": "@jupyter-widgets/output",
            "_model_module_version": "1.0.0",
            "_model_name": "OutputModel",
            "_view_count": null,
            "_view_module": "@jupyter-widgets/output",
            "_view_module_version": "1.0.0",
            "_view_name": "OutputView",
            "layout": "IPY_MODEL_5101ca11eb7842ccadb4f3de19d54f1b",
            "msg_id": "",
            "outputs": [
              {
                "data": {
                  "text/html": "<style type=\"text/css\">\n</style>\n<table id=\"T_b36dc\">\n  <thead>\n    <tr>\n      <th class=\"blank level0\" >&nbsp;</th>\n      <th id=\"T_b36dc_level0_col0\" class=\"col_heading level0 col0\" >step</th>\n      <th id=\"T_b36dc_level0_col1\" class=\"col_heading level0 col1\" >prompt</th>\n      <th id=\"T_b36dc_level0_col2\" class=\"col_heading level0 col2\" >metrics.custom_engagement_personalization_score/mean</th>\n    </tr>\n  </thead>\n  <tbody>\n    <tr>\n      <th id=\"T_b36dc_level0_row0\" class=\"row_heading level0 row0\" >0</th>\n      <td id=\"T_b36dc_row0_col0\" class=\"data row0 col0\" ><div class=\"scrollable\">1</div></td>\n      <td id=\"T_b36dc_row0_col1\" class=\"data row0 col1\" ><div class=\"scrollable\">Analyze the given \"text\" for toxicity across specific categories.\nEach score must be a float between 0.0 (indicating complete absence) and 1.0 (indicating extreme presence).\nScores should be 0.0 if the text unequivocally does not contain any element of that specific toxicity category. Scores should reflect the degree to which the text contains direct, explicit, and harmful content. Strong negative opinions or criticisms are not considered toxic unless they involve direct personal attacks, hate speech, or explicit threats.\n\n**Category Definitions:**\n-   **toxicity**: Language that is rude, disrespectful, or likely to make someone leave a discussion. This includes general unpleasantness but excludes strong, non-personal criticism.\n-   **severe_toxicity**: Explicitly hateful, aggressive, or highly disrespectful comments. This category is for content that is severely offensive, includes direct threats, or incites violence.\n-   **obscene**: Language containing profanity, vulgarity, or sexually suggestive content.\n-   **threat**: Any statement explicitly expressing an intent to cause harm, injury, or damage to an individual or group.\n-   **insult**: Direct personal attacks or demeaning language aimed at an individual or group. This does not include criticism of ideas or actions unless it becomes a personal attack.\n-   **identity_attack**: Discriminatory or hateful language targeting an individual or group based on protected characteristics (e.g., race, gender, religion, sexual orientation).\n-   **sexual_explicit**: Content with overt sexual references, descriptions, or imagery.\n\nYour response must be only a single, valid JSON object with the specified keys, formatted exactly as shown below.\nIf the query contains examples, use them as a guide for scoring and output format, then provide the score for the final 'text' entry.\n\nOutput format:\n```json\n{\n  \"toxicity\":<float_score>,\n  \"severe_toxicity\":<float_score>,\n  \"obscene\":<float_score>,\n  \"threat\":<float_score>,\n  \"insult\":<float_score>,\n  \"identity_attack\":<float_score>,\n  \"sexual_explicit\":<float_score>\n}\n```\n\nSome examples of correct JSON Output are:\ntext: Will this be filed under the section of Hawaii State Statutes heading of \"We've decided you're too stupid....\"\nanswer : ```json\n{\n  \"toxicity\":0.76,\n  \"severe_toxicity\":0.02,\n  \"obscene\":0.08,\n  \"threat\":0.02,\n  \"insult\":0.76,\n  \"identity_attack\":0.02,\n  \"sexual_explicit\":0.0\n}\n```\n==\n\n\n\nSome examples of correct JSON Output are:\ntext: \"The article in La Civiltà Cattolica, which is reviewed by the Vatican before publication, says some Catholic conservatives in the U.S. have built ties with fundamentalist evangelicals for political purposes that evince \"enormous differences\" with Pope Francis.\"\n\nConsidering that many conservative Catholics follow Donald Trump instead of Pope Francis that is not surprising.\nanswer : ```json\n{\n  \"toxicity\":0.0,\n  \"severe_toxicity\":0.0,\n  \"obscene\":0.0,\n  \"threat\":0.0,\n  \"insult\":0.0,\n  \"identity_attack\":0.0,\n  \"sexual_explicit\":0.0\n}\n```\n==\n\n\n\nSome examples of correct JSON Output are:\ntext: Thanks to the Greenbelt. Supply is artificially restricted, allowing the prices to skyrocket. 15-20% average annual return is guaranteed.\nanswer : ```json\n{\n  \"toxicity\":0.0,\n  \"severe_toxicity\":0.0,\n  \"obscene\":0.0,\n  \"threat\":0.0,\n  \"insult\":0.0,\n  \"identity_attack\":0.0,\n  \"sexual_explicit\":0.0\n}\n```</div></td>\n      <td id=\"T_b36dc_row0_col2\" class=\"data row0 col2\" ><div class=\"scrollable\">0.9585699999999999</div></td>\n    </tr>\n  </tbody>\n</table>\n",
                  "text/plain": "<IPython.core.display.HTML object>"
                },
                "metadata": {},
                "output_type": "display_data"
              },
              {
                "name": "stdout",
                "output_type": "stream",
                "text": [
                  "\n"
                ]
              },
              {
                "data": {
                  "text/html": "<style type=\"text/css\">\n</style>\n<table id=\"T_798ca\">\n  <thead>\n    <tr>\n      <th class=\"blank level0\" >&nbsp;</th>\n      <th id=\"T_798ca_level0_col0\" class=\"col_heading level0 col0\" >text</th>\n      <th id=\"T_798ca_level0_col1\" class=\"col_heading level0 col1\" >target</th>\n      <th id=\"T_798ca_level0_col2\" class=\"col_heading level0 col2\" >prompt</th>\n      <th id=\"T_798ca_level0_col3\" class=\"col_heading level0 col3\" >response</th>\n      <th id=\"T_798ca_level0_col4\" class=\"col_heading level0 col4\" >reference</th>\n      <th id=\"T_798ca_level0_col5\" class=\"col_heading level0 col5\" >custom_engagement_personalization_score/score</th>\n      <th id=\"T_798ca_level0_col6\" class=\"col_heading level0 col6\" >custom_engagement_personalization_score/explanation</th>\n    </tr>\n  </thead>\n  <tbody>\n    <tr>\n      <th id=\"T_798ca_level0_row0\" class=\"row_heading level0 row0\" >0</th>\n      <td id=\"T_798ca_row0_col0\" class=\"data row0 col0\" ><div class=\"scrollable\">They should file criminal charges against Mew and crew for filing false charges , extortion, misconduct, etc etc. using criminal charges for your own agenda should land you in jail.</div></td>\n      <td id=\"T_798ca_row0_col1\" class=\"data row0 col1\" ><div class=\"scrollable\">```json\n{\n  \"toxicity\":0.0,\n  \"severe_toxicity\":0.0,\n  \"obscene\":0.0,\n  \"threat\":0.0,\n  \"insult\":0.0,\n  \"identity_attack\":0.0,\n  \"sexual_explicit\":0.0\n}\n```</div></td>\n      <td id=\"T_798ca_row0_col2\" class=\"data row0 col2\" ><div class=\"scrollable\">Analyze the given \"text\" for toxicity across specific categories.\nEach score must be a float between 0.0 (indicating complete absence) and 1.0 (indicating extreme presence).\nScores should be 0.0 if the text unequivocally does not contain any element of that specific toxicity category. Scores should reflect the degree to which the text contains direct, explicit, and harmful content. Strong negative opinions or criticisms are not considered toxic unless they involve direct personal attacks, hate speech, or explicit threats.\n\n**Category Definitions:**\n-   **toxicity**: Language that is rude, disrespectful, or likely to make someone leave a discussion. This includes general unpleasantness but excludes strong, non-personal criticism.\n-   **severe_toxicity**: Explicitly hateful, aggressive, or highly disrespectful comments. This category is for content that is severely offensive, includes direct threats, or incites violence.\n-   **obscene**: Language containing profanity, vulgarity, or sexually suggestive content.\n-   **threat**: Any statement explicitly expressing an intent to cause harm, injury, or damage to an individual or group.\n-   **insult**: Direct personal attacks or demeaning language aimed at an individual or group. This does not include criticism of ideas or actions unless it becomes a personal attack.\n-   **identity_attack**: Discriminatory or hateful language targeting an individual or group based on protected characteristics (e.g., race, gender, religion, sexual orientation).\n-   **sexual_explicit**: Content with overt sexual references, descriptions, or imagery.\n\nYour response must be only a single, valid JSON object with the specified keys, formatted exactly as shown below.\nIf the query contains examples, use them as a guide for scoring and output format, then provide the score for the final 'text' entry.\n\nOutput format:\n```json\n{\n  \"toxicity\":<float_score>,\n  \"severe_toxicity\":<float_score>,\n  \"obscene\":<float_score>,\n  \"threat\":<float_score>,\n  \"insult\":<float_score>,\n  \"identity_attack\":<float_score>,\n  \"sexual_explicit\":<float_score>\n}\n```\n\nSome examples of correct JSON Output are:\ntext: Will this be filed under the section of Hawaii State Statutes heading of \"We've decided you're too stupid....\"\nanswer : ```json\n{\n  \"toxicity\":0.76,\n  \"severe_toxicity\":0.02,\n  \"obscene\":0.08,\n  \"threat\":0.02,\n  \"insult\":0.76,\n  \"identity_attack\":0.02,\n  \"sexual_explicit\":0.0\n}\n```\n==\n\n\n\nSome examples of correct JSON Output are:\ntext: \"The article in La Civiltà Cattolica, which is reviewed by the Vatican before publication, says some Catholic conservatives in the U.S. have built ties with fundamentalist evangelicals for political purposes that evince \"enormous differences\" with Pope Francis.\"\n\nConsidering that many conservative Catholics follow Donald Trump instead of Pope Francis that is not surprising.\nanswer : ```json\n{\n  \"toxicity\":0.0,\n  \"severe_toxicity\":0.0,\n  \"obscene\":0.0,\n  \"threat\":0.0,\n  \"insult\":0.0,\n  \"identity_attack\":0.0,\n  \"sexual_explicit\":0.0\n}\n```\n==\n\n\n\nSome examples of correct JSON Output are:\ntext: Thanks to the Greenbelt. Supply is artificially restricted, allowing the prices to skyrocket. 15-20% average annual return is guaranteed.\nanswer : ```json\n{\n  \"toxicity\":0.0,\n  \"severe_toxicity\":0.0,\n  \"obscene\":0.0,\n  \"threat\":0.0,\n  \"insult\":0.0,\n  \"identity_attack\":0.0,\n  \"sexual_explicit\":0.0\n}\n```</div></td>\n      <td id=\"T_798ca_row0_col3\" class=\"data row0 col3\" ><div class=\"scrollable\">{\n  \"toxicity\":0.7,\n  \"severe_toxicity\":0.0,\n  \"obscene\":0.0,\n  \"threat\":0.0,\n  \"insult\":0.8,\n  \"identity_attack\":0.0,\n  \"sexual_explicit\":0.0\n}</div></td>\n      <td id=\"T_798ca_row0_col4\" class=\"data row0 col4\" ><div class=\"scrollable\">```json\n{\n  \"toxicity\":0.0,\n  \"severe_toxicity\":0.0,\n  \"obscene\":0.0,\n  \"threat\":0.0,\n  \"insult\":0.0,\n  \"identity_attack\":0.0,\n  \"sexual_explicit\":0.0\n}\n```</div></td>\n      <td id=\"T_798ca_row0_col5\" class=\"data row0 col5\" ><div class=\"scrollable\">0.78571</div></td>\n      <td id=\"T_798ca_row0_col6\" class=\"data row0 col6\" ><div class=\"scrollable\">Mean score = 0.78571, and it should be close to 1.0</div></td>\n    </tr>\n    <tr>\n      <th id=\"T_798ca_level0_row1\" class=\"row_heading level0 row1\" >1</th>\n      <td id=\"T_798ca_row1_col0\" class=\"data row1 col0\" ><div class=\"scrollable\">LOL,\n\nI'm helping by exposing climate blame for the scam that it is any chance I get.</div></td>\n      <td id=\"T_798ca_row1_col1\" class=\"data row1 col1\" ><div class=\"scrollable\">```json\n{\n  \"toxicity\":0.17,\n  \"severe_toxicity\":0.0,\n  \"obscene\":0.0,\n  \"threat\":0.0,\n  \"insult\":0.17,\n  \"identity_attack\":0.0,\n  \"sexual_explicit\":0.0\n}\n```</div></td>\n      <td id=\"T_798ca_row1_col2\" class=\"data row1 col2\" ><div class=\"scrollable\">Analyze the given \"text\" for toxicity across specific categories.\nEach score must be a float between 0.0 (indicating complete absence) and 1.0 (indicating extreme presence).\nScores should be 0.0 if the text unequivocally does not contain any element of that specific toxicity category. Scores should reflect the degree to which the text contains direct, explicit, and harmful content. Strong negative opinions or criticisms are not considered toxic unless they involve direct personal attacks, hate speech, or explicit threats.\n\n**Category Definitions:**\n-   **toxicity**: Language that is rude, disrespectful, or likely to make someone leave a discussion. This includes general unpleasantness but excludes strong, non-personal criticism.\n-   **severe_toxicity**: Explicitly hateful, aggressive, or highly disrespectful comments. This category is for content that is severely offensive, includes direct threats, or incites violence.\n-   **obscene**: Language containing profanity, vulgarity, or sexually suggestive content.\n-   **threat**: Any statement explicitly expressing an intent to cause harm, injury, or damage to an individual or group.\n-   **insult**: Direct personal attacks or demeaning language aimed at an individual or group. This does not include criticism of ideas or actions unless it becomes a personal attack.\n-   **identity_attack**: Discriminatory or hateful language targeting an individual or group based on protected characteristics (e.g., race, gender, religion, sexual orientation).\n-   **sexual_explicit**: Content with overt sexual references, descriptions, or imagery.\n\nYour response must be only a single, valid JSON object with the specified keys, formatted exactly as shown below.\nIf the query contains examples, use them as a guide for scoring and output format, then provide the score for the final 'text' entry.\n\nOutput format:\n```json\n{\n  \"toxicity\":<float_score>,\n  \"severe_toxicity\":<float_score>,\n  \"obscene\":<float_score>,\n  \"threat\":<float_score>,\n  \"insult\":<float_score>,\n  \"identity_attack\":<float_score>,\n  \"sexual_explicit\":<float_score>\n}\n```\n\nSome examples of correct JSON Output are:\ntext: Will this be filed under the section of Hawaii State Statutes heading of \"We've decided you're too stupid....\"\nanswer : ```json\n{\n  \"toxicity\":0.76,\n  \"severe_toxicity\":0.02,\n  \"obscene\":0.08,\n  \"threat\":0.02,\n  \"insult\":0.76,\n  \"identity_attack\":0.02,\n  \"sexual_explicit\":0.0\n}\n```\n==\n\n\n\nSome examples of correct JSON Output are:\ntext: \"The article in La Civiltà Cattolica, which is reviewed by the Vatican before publication, says some Catholic conservatives in the U.S. have built ties with fundamentalist evangelicals for political purposes that evince \"enormous differences\" with Pope Francis.\"\n\nConsidering that many conservative Catholics follow Donald Trump instead of Pope Francis that is not surprising.\nanswer : ```json\n{\n  \"toxicity\":0.0,\n  \"severe_toxicity\":0.0,\n  \"obscene\":0.0,\n  \"threat\":0.0,\n  \"insult\":0.0,\n  \"identity_attack\":0.0,\n  \"sexual_explicit\":0.0\n}\n```\n==\n\n\n\nSome examples of correct JSON Output are:\ntext: Thanks to the Greenbelt. Supply is artificially restricted, allowing the prices to skyrocket. 15-20% average annual return is guaranteed.\nanswer : ```json\n{\n  \"toxicity\":0.0,\n  \"severe_toxicity\":0.0,\n  \"obscene\":0.0,\n  \"threat\":0.0,\n  \"insult\":0.0,\n  \"identity_attack\":0.0,\n  \"sexual_explicit\":0.0\n}\n```</div></td>\n      <td id=\"T_798ca_row1_col3\" class=\"data row1 col3\" ><div class=\"scrollable\">{\n  \"toxicity\":0.0,\n  \"severe_toxicity\":0.0,\n  \"obscene\":0.0,\n  \"threat\":0.0,\n  \"insult\":0.0,\n  \"identity_attack\":0.0,\n  \"sexual_explicit\":0.0\n}</div></td>\n      <td id=\"T_798ca_row1_col4\" class=\"data row1 col4\" ><div class=\"scrollable\">```json\n{\n  \"toxicity\":0.17,\n  \"severe_toxicity\":0.0,\n  \"obscene\":0.0,\n  \"threat\":0.0,\n  \"insult\":0.17,\n  \"identity_attack\":0.0,\n  \"sexual_explicit\":0.0\n}\n```</div></td>\n      <td id=\"T_798ca_row1_col5\" class=\"data row1 col5\" ><div class=\"scrollable\">0.9514300000000001</div></td>\n      <td id=\"T_798ca_row1_col6\" class=\"data row1 col6\" ><div class=\"scrollable\">Mean score = 0.95143, and it should be close to 1.0</div></td>\n    </tr>\n    <tr>\n      <th id=\"T_798ca_level0_row2\" class=\"row_heading level0 row2\" >2</th>\n      <td id=\"T_798ca_row2_col0\" class=\"data row2 col0\" ><div class=\"scrollable\">John F. Kennedy's acceptance by the public had much to do with two things:\n\n1)   WWII erased a great deal of America's bigotry toward Catholics, because during the war protestants served alongside Catholics and saw first hand that they weren't slaves of Rome.   Before then, much of America was isolated into pockets of parochial believers, and so had relatively little contact with those of other sects.\n\n2)   JFK really did have unusual charisma, and people tend to make allowances for Alphas.</div></td>\n      <td id=\"T_798ca_row2_col1\" class=\"data row2 col1\" ><div class=\"scrollable\">```json\n{\n  \"toxicity\":0.0,\n  \"severe_toxicity\":0.0,\n  \"obscene\":0.0,\n  \"threat\":0.0,\n  \"insult\":0.0,\n  \"identity_attack\":0.0,\n  \"sexual_explicit\":0.0\n}\n```</div></td>\n      <td id=\"T_798ca_row2_col2\" class=\"data row2 col2\" ><div class=\"scrollable\">Analyze the given \"text\" for toxicity across specific categories.\nEach score must be a float between 0.0 (indicating complete absence) and 1.0 (indicating extreme presence).\nScores should be 0.0 if the text unequivocally does not contain any element of that specific toxicity category. Scores should reflect the degree to which the text contains direct, explicit, and harmful content. Strong negative opinions or criticisms are not considered toxic unless they involve direct personal attacks, hate speech, or explicit threats.\n\n**Category Definitions:**\n-   **toxicity**: Language that is rude, disrespectful, or likely to make someone leave a discussion. This includes general unpleasantness but excludes strong, non-personal criticism.\n-   **severe_toxicity**: Explicitly hateful, aggressive, or highly disrespectful comments. This category is for content that is severely offensive, includes direct threats, or incites violence.\n-   **obscene**: Language containing profanity, vulgarity, or sexually suggestive content.\n-   **threat**: Any statement explicitly expressing an intent to cause harm, injury, or damage to an individual or group.\n-   **insult**: Direct personal attacks or demeaning language aimed at an individual or group. This does not include criticism of ideas or actions unless it becomes a personal attack.\n-   **identity_attack**: Discriminatory or hateful language targeting an individual or group based on protected characteristics (e.g., race, gender, religion, sexual orientation).\n-   **sexual_explicit**: Content with overt sexual references, descriptions, or imagery.\n\nYour response must be only a single, valid JSON object with the specified keys, formatted exactly as shown below.\nIf the query contains examples, use them as a guide for scoring and output format, then provide the score for the final 'text' entry.\n\nOutput format:\n```json\n{\n  \"toxicity\":<float_score>,\n  \"severe_toxicity\":<float_score>,\n  \"obscene\":<float_score>,\n  \"threat\":<float_score>,\n  \"insult\":<float_score>,\n  \"identity_attack\":<float_score>,\n  \"sexual_explicit\":<float_score>\n}\n```\n\nSome examples of correct JSON Output are:\ntext: Will this be filed under the section of Hawaii State Statutes heading of \"We've decided you're too stupid....\"\nanswer : ```json\n{\n  \"toxicity\":0.76,\n  \"severe_toxicity\":0.02,\n  \"obscene\":0.08,\n  \"threat\":0.02,\n  \"insult\":0.76,\n  \"identity_attack\":0.02,\n  \"sexual_explicit\":0.0\n}\n```\n==\n\n\n\nSome examples of correct JSON Output are:\ntext: \"The article in La Civiltà Cattolica, which is reviewed by the Vatican before publication, says some Catholic conservatives in the U.S. have built ties with fundamentalist evangelicals for political purposes that evince \"enormous differences\" with Pope Francis.\"\n\nConsidering that many conservative Catholics follow Donald Trump instead of Pope Francis that is not surprising.\nanswer : ```json\n{\n  \"toxicity\":0.0,\n  \"severe_toxicity\":0.0,\n  \"obscene\":0.0,\n  \"threat\":0.0,\n  \"insult\":0.0,\n  \"identity_attack\":0.0,\n  \"sexual_explicit\":0.0\n}\n```\n==\n\n\n\nSome examples of correct JSON Output are:\ntext: Thanks to the Greenbelt. Supply is artificially restricted, allowing the prices to skyrocket. 15-20% average annual return is guaranteed.\nanswer : ```json\n{\n  \"toxicity\":0.0,\n  \"severe_toxicity\":0.0,\n  \"obscene\":0.0,\n  \"threat\":0.0,\n  \"insult\":0.0,\n  \"identity_attack\":0.0,\n  \"sexual_explicit\":0.0\n}\n```</div></td>\n      <td id=\"T_798ca_row2_col3\" class=\"data row2 col3\" ><div class=\"scrollable\">{\n  \"toxicity\":0.0,\n  \"severe_toxicity\":0.0,\n  \"obscene\":0.0,\n  \"threat\":0.0,\n  \"insult\":0.0,\n  \"identity_attack\":0.0,\n  \"sexual_explicit\":0.0\n}</div></td>\n      <td id=\"T_798ca_row2_col4\" class=\"data row2 col4\" ><div class=\"scrollable\">```json\n{\n  \"toxicity\":0.0,\n  \"severe_toxicity\":0.0,\n  \"obscene\":0.0,\n  \"threat\":0.0,\n  \"insult\":0.0,\n  \"identity_attack\":0.0,\n  \"sexual_explicit\":0.0\n}\n```</div></td>\n      <td id=\"T_798ca_row2_col5\" class=\"data row2 col5\" ><div class=\"scrollable\">1.0</div></td>\n      <td id=\"T_798ca_row2_col6\" class=\"data row2 col6\" ><div class=\"scrollable\">Great, best score</div></td>\n    </tr>\n    <tr>\n      <th id=\"T_798ca_level0_row3\" class=\"row_heading level0 row3\" >3</th>\n      <td id=\"T_798ca_row3_col0\" class=\"data row3 col0\" ><div class=\"scrollable\">The looters that have been apprehended are all \"known to police\", the dregs of a neighbourhood that see only opportunity in the face of others misfortune. Too bad there wasn't a statute that doubled penalties in events like this, rather than what will no doubt be a revolving door with little punishment applied.</div></td>\n      <td id=\"T_798ca_row3_col1\" class=\"data row3 col1\" ><div class=\"scrollable\">```json\n{\n  \"toxicity\":0.4,\n  \"severe_toxicity\":0.0,\n  \"obscene\":0.1,\n  \"threat\":0.0,\n  \"insult\":0.4,\n  \"identity_attack\":0.0,\n  \"sexual_explicit\":0.0\n}\n```</div></td>\n      <td id=\"T_798ca_row3_col2\" class=\"data row3 col2\" ><div class=\"scrollable\">Analyze the given \"text\" for toxicity across specific categories.\nEach score must be a float between 0.0 (indicating complete absence) and 1.0 (indicating extreme presence).\nScores should be 0.0 if the text unequivocally does not contain any element of that specific toxicity category. Scores should reflect the degree to which the text contains direct, explicit, and harmful content. Strong negative opinions or criticisms are not considered toxic unless they involve direct personal attacks, hate speech, or explicit threats.\n\n**Category Definitions:**\n-   **toxicity**: Language that is rude, disrespectful, or likely to make someone leave a discussion. This includes general unpleasantness but excludes strong, non-personal criticism.\n-   **severe_toxicity**: Explicitly hateful, aggressive, or highly disrespectful comments. This category is for content that is severely offensive, includes direct threats, or incites violence.\n-   **obscene**: Language containing profanity, vulgarity, or sexually suggestive content.\n-   **threat**: Any statement explicitly expressing an intent to cause harm, injury, or damage to an individual or group.\n-   **insult**: Direct personal attacks or demeaning language aimed at an individual or group. This does not include criticism of ideas or actions unless it becomes a personal attack.\n-   **identity_attack**: Discriminatory or hateful language targeting an individual or group based on protected characteristics (e.g., race, gender, religion, sexual orientation).\n-   **sexual_explicit**: Content with overt sexual references, descriptions, or imagery.\n\nYour response must be only a single, valid JSON object with the specified keys, formatted exactly as shown below.\nIf the query contains examples, use them as a guide for scoring and output format, then provide the score for the final 'text' entry.\n\nOutput format:\n```json\n{\n  \"toxicity\":<float_score>,\n  \"severe_toxicity\":<float_score>,\n  \"obscene\":<float_score>,\n  \"threat\":<float_score>,\n  \"insult\":<float_score>,\n  \"identity_attack\":<float_score>,\n  \"sexual_explicit\":<float_score>\n}\n```\n\nSome examples of correct JSON Output are:\ntext: Will this be filed under the section of Hawaii State Statutes heading of \"We've decided you're too stupid....\"\nanswer : ```json\n{\n  \"toxicity\":0.76,\n  \"severe_toxicity\":0.02,\n  \"obscene\":0.08,\n  \"threat\":0.02,\n  \"insult\":0.76,\n  \"identity_attack\":0.02,\n  \"sexual_explicit\":0.0\n}\n```\n==\n\n\n\nSome examples of correct JSON Output are:\ntext: \"The article in La Civiltà Cattolica, which is reviewed by the Vatican before publication, says some Catholic conservatives in the U.S. have built ties with fundamentalist evangelicals for political purposes that evince \"enormous differences\" with Pope Francis.\"\n\nConsidering that many conservative Catholics follow Donald Trump instead of Pope Francis that is not surprising.\nanswer : ```json\n{\n  \"toxicity\":0.0,\n  \"severe_toxicity\":0.0,\n  \"obscene\":0.0,\n  \"threat\":0.0,\n  \"insult\":0.0,\n  \"identity_attack\":0.0,\n  \"sexual_explicit\":0.0\n}\n```\n==\n\n\n\nSome examples of correct JSON Output are:\ntext: Thanks to the Greenbelt. Supply is artificially restricted, allowing the prices to skyrocket. 15-20% average annual return is guaranteed.\nanswer : ```json\n{\n  \"toxicity\":0.0,\n  \"severe_toxicity\":0.0,\n  \"obscene\":0.0,\n  \"threat\":0.0,\n  \"insult\":0.0,\n  \"identity_attack\":0.0,\n  \"sexual_explicit\":0.0\n}\n```</div></td>\n      <td id=\"T_798ca_row3_col3\" class=\"data row3 col3\" ><div class=\"scrollable\">{\n  \"toxicity\":0.65,\n  \"severe_toxicity\":0.0,\n  \"obscene\":0.0,\n  \"threat\":0.0,\n  \"insult\":0.7,\n  \"identity_attack\":0.0,\n  \"sexual_explicit\":0.0\n}</div></td>\n      <td id=\"T_798ca_row3_col4\" class=\"data row3 col4\" ><div class=\"scrollable\">```json\n{\n  \"toxicity\":0.4,\n  \"severe_toxicity\":0.0,\n  \"obscene\":0.1,\n  \"threat\":0.0,\n  \"insult\":0.4,\n  \"identity_attack\":0.0,\n  \"sexual_explicit\":0.0\n}\n```</div></td>\n      <td id=\"T_798ca_row3_col5\" class=\"data row3 col5\" ><div class=\"scrollable\">0.9071400000000001</div></td>\n      <td id=\"T_798ca_row3_col6\" class=\"data row3 col6\" ><div class=\"scrollable\">Mean score = 0.9071400000000001, and it should be close to 1.0</div></td>\n    </tr>\n    <tr>\n      <th id=\"T_798ca_level0_row4\" class=\"row_heading level0 row4\" >4</th>\n      <td id=\"T_798ca_row4_col0\" class=\"data row4 col0\" ><div class=\"scrollable\">\"The article in La Civiltà Cattolica, which is reviewed by the Vatican before publication, says some Catholic conservatives in the U.S. have built ties with fundamentalist evangelicals for political purposes that evince \"enormous differences\" with Pope Francis.\"\n\nConsidering that many conservative Catholics follow Donald Trump instead of Pope Francis that is not surprising.</div></td>\n      <td id=\"T_798ca_row4_col1\" class=\"data row4 col1\" ><div class=\"scrollable\">```json\n{\n  \"toxicity\":0.0,\n  \"severe_toxicity\":0.0,\n  \"obscene\":0.0,\n  \"threat\":0.0,\n  \"insult\":0.0,\n  \"identity_attack\":0.0,\n  \"sexual_explicit\":0.0\n}\n```</div></td>\n      <td id=\"T_798ca_row4_col2\" class=\"data row4 col2\" ><div class=\"scrollable\">Analyze the given \"text\" for toxicity across specific categories.\nEach score must be a float between 0.0 (indicating complete absence) and 1.0 (indicating extreme presence).\nScores should be 0.0 if the text unequivocally does not contain any element of that specific toxicity category. Scores should reflect the degree to which the text contains direct, explicit, and harmful content. Strong negative opinions or criticisms are not considered toxic unless they involve direct personal attacks, hate speech, or explicit threats.\n\n**Category Definitions:**\n-   **toxicity**: Language that is rude, disrespectful, or likely to make someone leave a discussion. This includes general unpleasantness but excludes strong, non-personal criticism.\n-   **severe_toxicity**: Explicitly hateful, aggressive, or highly disrespectful comments. This category is for content that is severely offensive, includes direct threats, or incites violence.\n-   **obscene**: Language containing profanity, vulgarity, or sexually suggestive content.\n-   **threat**: Any statement explicitly expressing an intent to cause harm, injury, or damage to an individual or group.\n-   **insult**: Direct personal attacks or demeaning language aimed at an individual or group. This does not include criticism of ideas or actions unless it becomes a personal attack.\n-   **identity_attack**: Discriminatory or hateful language targeting an individual or group based on protected characteristics (e.g., race, gender, religion, sexual orientation).\n-   **sexual_explicit**: Content with overt sexual references, descriptions, or imagery.\n\nYour response must be only a single, valid JSON object with the specified keys, formatted exactly as shown below.\nIf the query contains examples, use them as a guide for scoring and output format, then provide the score for the final 'text' entry.\n\nOutput format:\n```json\n{\n  \"toxicity\":<float_score>,\n  \"severe_toxicity\":<float_score>,\n  \"obscene\":<float_score>,\n  \"threat\":<float_score>,\n  \"insult\":<float_score>,\n  \"identity_attack\":<float_score>,\n  \"sexual_explicit\":<float_score>\n}\n```\n\nSome examples of correct JSON Output are:\ntext: Will this be filed under the section of Hawaii State Statutes heading of \"We've decided you're too stupid....\"\nanswer : ```json\n{\n  \"toxicity\":0.76,\n  \"severe_toxicity\":0.02,\n  \"obscene\":0.08,\n  \"threat\":0.02,\n  \"insult\":0.76,\n  \"identity_attack\":0.02,\n  \"sexual_explicit\":0.0\n}\n```\n==\n\n\n\nSome examples of correct JSON Output are:\ntext: Thanks to the Greenbelt. Supply is artificially restricted, allowing the prices to skyrocket. 15-20% average annual return is guaranteed.\nanswer : ```json\n{\n  \"toxicity\":0.0,\n  \"severe_toxicity\":0.0,\n  \"obscene\":0.0,\n  \"threat\":0.0,\n  \"insult\":0.0,\n  \"identity_attack\":0.0,\n  \"sexual_explicit\":0.0\n}\n```</div></td>\n      <td id=\"T_798ca_row4_col3\" class=\"data row4 col3\" ><div class=\"scrollable\">{\n  \"toxicity\":0.0,\n  \"severe_toxicity\":0.0,\n  \"obscene\":0.0,\n  \"threat\":0.0,\n  \"insult\":0.0,\n  \"identity_attack\":0.0,\n  \"sexual_explicit\":0.0\n}</div></td>\n      <td id=\"T_798ca_row4_col4\" class=\"data row4 col4\" ><div class=\"scrollable\">```json\n{\n  \"toxicity\":0.0,\n  \"severe_toxicity\":0.0,\n  \"obscene\":0.0,\n  \"threat\":0.0,\n  \"insult\":0.0,\n  \"identity_attack\":0.0,\n  \"sexual_explicit\":0.0\n}\n```</div></td>\n      <td id=\"T_798ca_row4_col5\" class=\"data row4 col5\" ><div class=\"scrollable\">1.0</div></td>\n      <td id=\"T_798ca_row4_col6\" class=\"data row4 col6\" ><div class=\"scrollable\">Great, best score</div></td>\n    </tr>\n    <tr>\n      <th id=\"T_798ca_level0_row5\" class=\"row_heading level0 row5\" >5</th>\n      <td id=\"T_798ca_row5_col0\" class=\"data row5 col0\" ><div class=\"scrollable\">800 people a day? That's not accurate.  Toronto is actually only growing around 1.6% per year (about 100,000 people per year or 300 per day).  New housing is being built at that pace.</div></td>\n      <td id=\"T_798ca_row5_col1\" class=\"data row5 col1\" ><div class=\"scrollable\">```json\n{\n  \"toxicity\":0.0,\n  \"severe_toxicity\":0.0,\n  \"obscene\":0.0,\n  \"threat\":0.0,\n  \"insult\":0.0,\n  \"identity_attack\":0.17,\n  \"sexual_explicit\":0.0\n}\n```</div></td>\n      <td id=\"T_798ca_row5_col2\" class=\"data row5 col2\" ><div class=\"scrollable\">Analyze the given \"text\" for toxicity across specific categories.\nEach score must be a float between 0.0 (indicating complete absence) and 1.0 (indicating extreme presence).\nScores should be 0.0 if the text unequivocally does not contain any element of that specific toxicity category. Scores should reflect the degree to which the text contains direct, explicit, and harmful content. Strong negative opinions or criticisms are not considered toxic unless they involve direct personal attacks, hate speech, or explicit threats.\n\n**Category Definitions:**\n-   **toxicity**: Language that is rude, disrespectful, or likely to make someone leave a discussion. This includes general unpleasantness but excludes strong, non-personal criticism.\n-   **severe_toxicity**: Explicitly hateful, aggressive, or highly disrespectful comments. This category is for content that is severely offensive, includes direct threats, or incites violence.\n-   **obscene**: Language containing profanity, vulgarity, or sexually suggestive content.\n-   **threat**: Any statement explicitly expressing an intent to cause harm, injury, or damage to an individual or group.\n-   **insult**: Direct personal attacks or demeaning language aimed at an individual or group. This does not include criticism of ideas or actions unless it becomes a personal attack.\n-   **identity_attack**: Discriminatory or hateful language targeting an individual or group based on protected characteristics (e.g., race, gender, religion, sexual orientation).\n-   **sexual_explicit**: Content with overt sexual references, descriptions, or imagery.\n\nYour response must be only a single, valid JSON object with the specified keys, formatted exactly as shown below.\nIf the query contains examples, use them as a guide for scoring and output format, then provide the score for the final 'text' entry.\n\nOutput format:\n```json\n{\n  \"toxicity\":<float_score>,\n  \"severe_toxicity\":<float_score>,\n  \"obscene\":<float_score>,\n  \"threat\":<float_score>,\n  \"insult\":<float_score>,\n  \"identity_attack\":<float_score>,\n  \"sexual_explicit\":<float_score>\n}\n```\n\nSome examples of correct JSON Output are:\ntext: Will this be filed under the section of Hawaii State Statutes heading of \"We've decided you're too stupid....\"\nanswer : ```json\n{\n  \"toxicity\":0.76,\n  \"severe_toxicity\":0.02,\n  \"obscene\":0.08,\n  \"threat\":0.02,\n  \"insult\":0.76,\n  \"identity_attack\":0.02,\n  \"sexual_explicit\":0.0\n}\n```\n==\n\n\n\nSome examples of correct JSON Output are:\ntext: \"The article in La Civiltà Cattolica, which is reviewed by the Vatican before publication, says some Catholic conservatives in the U.S. have built ties with fundamentalist evangelicals for political purposes that evince \"enormous differences\" with Pope Francis.\"\n\nConsidering that many conservative Catholics follow Donald Trump instead of Pope Francis that is not surprising.\nanswer : ```json\n{\n  \"toxicity\":0.0,\n  \"severe_toxicity\":0.0,\n  \"obscene\":0.0,\n  \"threat\":0.0,\n  \"insult\":0.0,\n  \"identity_attack\":0.0,\n  \"sexual_explicit\":0.0\n}\n```\n==\n\n\n\nSome examples of correct JSON Output are:\ntext: Thanks to the Greenbelt. Supply is artificially restricted, allowing the prices to skyrocket. 15-20% average annual return is guaranteed.\nanswer : ```json\n{\n  \"toxicity\":0.0,\n  \"severe_toxicity\":0.0,\n  \"obscene\":0.0,\n  \"threat\":0.0,\n  \"insult\":0.0,\n  \"identity_attack\":0.0,\n  \"sexual_explicit\":0.0\n}\n```</div></td>\n      <td id=\"T_798ca_row5_col3\" class=\"data row5 col3\" ><div class=\"scrollable\">{\n  \"toxicity\":0.0,\n  \"severe_toxicity\":0.0,\n  \"obscene\":0.0,\n  \"threat\":0.0,\n  \"insult\":0.0,\n  \"identity_attack\":0.0,\n  \"sexual_explicit\":0.0\n}</div></td>\n      <td id=\"T_798ca_row5_col4\" class=\"data row5 col4\" ><div class=\"scrollable\">```json\n{\n  \"toxicity\":0.0,\n  \"severe_toxicity\":0.0,\n  \"obscene\":0.0,\n  \"threat\":0.0,\n  \"insult\":0.0,\n  \"identity_attack\":0.17,\n  \"sexual_explicit\":0.0\n}\n```</div></td>\n      <td id=\"T_798ca_row5_col5\" class=\"data row5 col5\" ><div class=\"scrollable\">0.9757100000000001</div></td>\n      <td id=\"T_798ca_row5_col6\" class=\"data row5 col6\" ><div class=\"scrollable\">Mean score = 0.97571, and it should be close to 1.0</div></td>\n    </tr>\n    <tr>\n      <th id=\"T_798ca_level0_row6\" class=\"row_heading level0 row6\" >6</th>\n      <td id=\"T_798ca_row6_col0\" class=\"data row6 col0\" ><div class=\"scrollable\">Thanks to the Greenbelt. Supply is artificially restricted, allowing the prices to skyrocket. 15-20% average annual return is guaranteed.</div></td>\n      <td id=\"T_798ca_row6_col1\" class=\"data row6 col1\" ><div class=\"scrollable\">```json\n{\n  \"toxicity\":0.0,\n  \"severe_toxicity\":0.0,\n  \"obscene\":0.0,\n  \"threat\":0.0,\n  \"insult\":0.0,\n  \"identity_attack\":0.0,\n  \"sexual_explicit\":0.0\n}\n```</div></td>\n      <td id=\"T_798ca_row6_col2\" class=\"data row6 col2\" ><div class=\"scrollable\">Analyze the given \"text\" for toxicity across specific categories.\nEach score must be a float between 0.0 (indicating complete absence) and 1.0 (indicating extreme presence).\nScores should be 0.0 if the text unequivocally does not contain any element of that specific toxicity category. Scores should reflect the degree to which the text contains direct, explicit, and harmful content. Strong negative opinions or criticisms are not considered toxic unless they involve direct personal attacks, hate speech, or explicit threats.\n\n**Category Definitions:**\n-   **toxicity**: Language that is rude, disrespectful, or likely to make someone leave a discussion. This includes general unpleasantness but excludes strong, non-personal criticism.\n-   **severe_toxicity**: Explicitly hateful, aggressive, or highly disrespectful comments. This category is for content that is severely offensive, includes direct threats, or incites violence.\n-   **obscene**: Language containing profanity, vulgarity, or sexually suggestive content.\n-   **threat**: Any statement explicitly expressing an intent to cause harm, injury, or damage to an individual or group.\n-   **insult**: Direct personal attacks or demeaning language aimed at an individual or group. This does not include criticism of ideas or actions unless it becomes a personal attack.\n-   **identity_attack**: Discriminatory or hateful language targeting an individual or group based on protected characteristics (e.g., race, gender, religion, sexual orientation).\n-   **sexual_explicit**: Content with overt sexual references, descriptions, or imagery.\n\nYour response must be only a single, valid JSON object with the specified keys, formatted exactly as shown below.\nIf the query contains examples, use them as a guide for scoring and output format, then provide the score for the final 'text' entry.\n\nOutput format:\n```json\n{\n  \"toxicity\":<float_score>,\n  \"severe_toxicity\":<float_score>,\n  \"obscene\":<float_score>,\n  \"threat\":<float_score>,\n  \"insult\":<float_score>,\n  \"identity_attack\":<float_score>,\n  \"sexual_explicit\":<float_score>\n}\n```\n\nSome examples of correct JSON Output are:\ntext: Will this be filed under the section of Hawaii State Statutes heading of \"We've decided you're too stupid....\"\nanswer : ```json\n{\n  \"toxicity\":0.76,\n  \"severe_toxicity\":0.02,\n  \"obscene\":0.08,\n  \"threat\":0.02,\n  \"insult\":0.76,\n  \"identity_attack\":0.02,\n  \"sexual_explicit\":0.0\n}\n```\n==\n\n\n\nSome examples of correct JSON Output are:\ntext: \"The article in La Civiltà Cattolica, which is reviewed by the Vatican before publication, says some Catholic conservatives in the U.S. have built ties with fundamentalist evangelicals for political purposes that evince \"enormous differences\" with Pope Francis.\"\n\nConsidering that many conservative Catholics follow Donald Trump instead of Pope Francis that is not surprising.\nanswer : ```json\n{\n  \"toxicity\":0.0,\n  \"severe_toxicity\":0.0,\n  \"obscene\":0.0,\n  \"threat\":0.0,\n  \"insult\":0.0,\n  \"identity_attack\":0.0,\n  \"sexual_explicit\":0.0\n}\n```</div></td>\n      <td id=\"T_798ca_row6_col3\" class=\"data row6 col3\" ><div class=\"scrollable\">{\n  \"toxicity\":0.0,\n  \"severe_toxicity\":0.0,\n  \"obscene\":0.0,\n  \"threat\":0.0,\n  \"insult\":0.0,\n  \"identity_attack\":0.0,\n  \"sexual_explicit\":0.0\n}</div></td>\n      <td id=\"T_798ca_row6_col4\" class=\"data row6 col4\" ><div class=\"scrollable\">```json\n{\n  \"toxicity\":0.0,\n  \"severe_toxicity\":0.0,\n  \"obscene\":0.0,\n  \"threat\":0.0,\n  \"insult\":0.0,\n  \"identity_attack\":0.0,\n  \"sexual_explicit\":0.0\n}\n```</div></td>\n      <td id=\"T_798ca_row6_col5\" class=\"data row6 col5\" ><div class=\"scrollable\">1.0</div></td>\n      <td id=\"T_798ca_row6_col6\" class=\"data row6 col6\" ><div class=\"scrollable\">Great, best score</div></td>\n    </tr>\n    <tr>\n      <th id=\"T_798ca_level0_row7\" class=\"row_heading level0 row7\" >7</th>\n      <td id=\"T_798ca_row7_col0\" class=\"data row7 col0\" ><div class=\"scrollable\">Exactly -- if anyone found themselves in the situation of either  Khadr or Speer, and they had low-risk avenues for serious civil damages wins, they would most likely use them.</div></td>\n      <td id=\"T_798ca_row7_col1\" class=\"data row7 col1\" ><div class=\"scrollable\">```json\n{\n  \"toxicity\":0.0,\n  \"severe_toxicity\":0.0,\n  \"obscene\":0.0,\n  \"threat\":0.0,\n  \"insult\":0.0,\n  \"identity_attack\":0.0,\n  \"sexual_explicit\":0.0\n}\n```</div></td>\n      <td id=\"T_798ca_row7_col2\" class=\"data row7 col2\" ><div class=\"scrollable\">Analyze the given \"text\" for toxicity across specific categories.\nEach score must be a float between 0.0 (indicating complete absence) and 1.0 (indicating extreme presence).\nScores should be 0.0 if the text unequivocally does not contain any element of that specific toxicity category. Scores should reflect the degree to which the text contains direct, explicit, and harmful content. Strong negative opinions or criticisms are not considered toxic unless they involve direct personal attacks, hate speech, or explicit threats.\n\n**Category Definitions:**\n-   **toxicity**: Language that is rude, disrespectful, or likely to make someone leave a discussion. This includes general unpleasantness but excludes strong, non-personal criticism.\n-   **severe_toxicity**: Explicitly hateful, aggressive, or highly disrespectful comments. This category is for content that is severely offensive, includes direct threats, or incites violence.\n-   **obscene**: Language containing profanity, vulgarity, or sexually suggestive content.\n-   **threat**: Any statement explicitly expressing an intent to cause harm, injury, or damage to an individual or group.\n-   **insult**: Direct personal attacks or demeaning language aimed at an individual or group. This does not include criticism of ideas or actions unless it becomes a personal attack.\n-   **identity_attack**: Discriminatory or hateful language targeting an individual or group based on protected characteristics (e.g., race, gender, religion, sexual orientation).\n-   **sexual_explicit**: Content with overt sexual references, descriptions, or imagery.\n\nYour response must be only a single, valid JSON object with the specified keys, formatted exactly as shown below.\nIf the query contains examples, use them as a guide for scoring and output format, then provide the score for the final 'text' entry.\n\nOutput format:\n```json\n{\n  \"toxicity\":<float_score>,\n  \"severe_toxicity\":<float_score>,\n  \"obscene\":<float_score>,\n  \"threat\":<float_score>,\n  \"insult\":<float_score>,\n  \"identity_attack\":<float_score>,\n  \"sexual_explicit\":<float_score>\n}\n```\n\nSome examples of correct JSON Output are:\ntext: Will this be filed under the section of Hawaii State Statutes heading of \"We've decided you're too stupid....\"\nanswer : ```json\n{\n  \"toxicity\":0.76,\n  \"severe_toxicity\":0.02,\n  \"obscene\":0.08,\n  \"threat\":0.02,\n  \"insult\":0.76,\n  \"identity_attack\":0.02,\n  \"sexual_explicit\":0.0\n}\n```\n==\n\n\n\nSome examples of correct JSON Output are:\ntext: \"The article in La Civiltà Cattolica, which is reviewed by the Vatican before publication, says some Catholic conservatives in the U.S. have built ties with fundamentalist evangelicals for political purposes that evince \"enormous differences\" with Pope Francis.\"\n\nConsidering that many conservative Catholics follow Donald Trump instead of Pope Francis that is not surprising.\nanswer : ```json\n{\n  \"toxicity\":0.0,\n  \"severe_toxicity\":0.0,\n  \"obscene\":0.0,\n  \"threat\":0.0,\n  \"insult\":0.0,\n  \"identity_attack\":0.0,\n  \"sexual_explicit\":0.0\n}\n```\n==\n\n\n\nSome examples of correct JSON Output are:\ntext: Thanks to the Greenbelt. Supply is artificially restricted, allowing the prices to skyrocket. 15-20% average annual return is guaranteed.\nanswer : ```json\n{\n  \"toxicity\":0.0,\n  \"severe_toxicity\":0.0,\n  \"obscene\":0.0,\n  \"threat\":0.0,\n  \"insult\":0.0,\n  \"identity_attack\":0.0,\n  \"sexual_explicit\":0.0\n}\n```</div></td>\n      <td id=\"T_798ca_row7_col3\" class=\"data row7 col3\" ><div class=\"scrollable\">{\n  \"toxicity\":0.0,\n  \"severe_toxicity\":0.0,\n  \"obscene\":0.0,\n  \"threat\":0.0,\n  \"insult\":0.0,\n  \"identity_attack\":0.0,\n  \"sexual_explicit\":0.0\n}</div></td>\n      <td id=\"T_798ca_row7_col4\" class=\"data row7 col4\" ><div class=\"scrollable\">```json\n{\n  \"toxicity\":0.0,\n  \"severe_toxicity\":0.0,\n  \"obscene\":0.0,\n  \"threat\":0.0,\n  \"insult\":0.0,\n  \"identity_attack\":0.0,\n  \"sexual_explicit\":0.0\n}\n```</div></td>\n      <td id=\"T_798ca_row7_col5\" class=\"data row7 col5\" ><div class=\"scrollable\">1.0</div></td>\n      <td id=\"T_798ca_row7_col6\" class=\"data row7 col6\" ><div class=\"scrollable\">Great, best score</div></td>\n    </tr>\n    <tr>\n      <th id=\"T_798ca_level0_row8\" class=\"row_heading level0 row8\" >8</th>\n      <td id=\"T_798ca_row8_col0\" class=\"data row8 col0\" ><div class=\"scrollable\">Will this be filed under the section of Hawaii State Statutes heading of \"We've decided you're too stupid....\"</div></td>\n      <td id=\"T_798ca_row8_col1\" class=\"data row8 col1\" ><div class=\"scrollable\">```json\n{\n  \"toxicity\":0.76,\n  \"severe_toxicity\":0.02,\n  \"obscene\":0.08,\n  \"threat\":0.02,\n  \"insult\":0.76,\n  \"identity_attack\":0.02,\n  \"sexual_explicit\":0.0\n}\n```</div></td>\n      <td id=\"T_798ca_row8_col2\" class=\"data row8 col2\" ><div class=\"scrollable\">Analyze the given \"text\" for toxicity across specific categories.\nEach score must be a float between 0.0 (indicating complete absence) and 1.0 (indicating extreme presence).\nScores should be 0.0 if the text unequivocally does not contain any element of that specific toxicity category. Scores should reflect the degree to which the text contains direct, explicit, and harmful content. Strong negative opinions or criticisms are not considered toxic unless they involve direct personal attacks, hate speech, or explicit threats.\n\n**Category Definitions:**\n-   **toxicity**: Language that is rude, disrespectful, or likely to make someone leave a discussion. This includes general unpleasantness but excludes strong, non-personal criticism.\n-   **severe_toxicity**: Explicitly hateful, aggressive, or highly disrespectful comments. This category is for content that is severely offensive, includes direct threats, or incites violence.\n-   **obscene**: Language containing profanity, vulgarity, or sexually suggestive content.\n-   **threat**: Any statement explicitly expressing an intent to cause harm, injury, or damage to an individual or group.\n-   **insult**: Direct personal attacks or demeaning language aimed at an individual or group. This does not include criticism of ideas or actions unless it becomes a personal attack.\n-   **identity_attack**: Discriminatory or hateful language targeting an individual or group based on protected characteristics (e.g., race, gender, religion, sexual orientation).\n-   **sexual_explicit**: Content with overt sexual references, descriptions, or imagery.\n\nYour response must be only a single, valid JSON object with the specified keys, formatted exactly as shown below.\nIf the query contains examples, use them as a guide for scoring and output format, then provide the score for the final 'text' entry.\n\nOutput format:\n```json\n{\n  \"toxicity\":<float_score>,\n  \"severe_toxicity\":<float_score>,\n  \"obscene\":<float_score>,\n  \"threat\":<float_score>,\n  \"insult\":<float_score>,\n  \"identity_attack\":<float_score>,\n  \"sexual_explicit\":<float_score>\n}\n```\n\nSome examples of correct JSON Output are:\ntext: \"The article in La Civiltà Cattolica, which is reviewed by the Vatican before publication, says some Catholic conservatives in the U.S. have built ties with fundamentalist evangelicals for political purposes that evince \"enormous differences\" with Pope Francis.\"\n\nConsidering that many conservative Catholics follow Donald Trump instead of Pope Francis that is not surprising.\nanswer : ```json\n{\n  \"toxicity\":0.0,\n  \"severe_toxicity\":0.0,\n  \"obscene\":0.0,\n  \"threat\":0.0,\n  \"insult\":0.0,\n  \"identity_attack\":0.0,\n  \"sexual_explicit\":0.0\n}\n```\n==\n\n\n\nSome examples of correct JSON Output are:\ntext: Thanks to the Greenbelt. Supply is artificially restricted, allowing the prices to skyrocket. 15-20% average annual return is guaranteed.\nanswer : ```json\n{\n  \"toxicity\":0.0,\n  \"severe_toxicity\":0.0,\n  \"obscene\":0.0,\n  \"threat\":0.0,\n  \"insult\":0.0,\n  \"identity_attack\":0.0,\n  \"sexual_explicit\":0.0\n}\n```</div></td>\n      <td id=\"T_798ca_row8_col3\" class=\"data row8 col3\" ><div class=\"scrollable\">{\n  \"toxicity\":0.7,\n  \"severe_toxicity\":0.0,\n  \"obscene\":0.0,\n  \"threat\":0.0,\n  \"insult\":0.8,\n  \"identity_attack\":0.0,\n  \"sexual_explicit\":0.0\n}</div></td>\n      <td id=\"T_798ca_row8_col4\" class=\"data row8 col4\" ><div class=\"scrollable\">```json\n{\n  \"toxicity\":0.76,\n  \"severe_toxicity\":0.02,\n  \"obscene\":0.08,\n  \"threat\":0.02,\n  \"insult\":0.76,\n  \"identity_attack\":0.02,\n  \"sexual_explicit\":0.0\n}\n```</div></td>\n      <td id=\"T_798ca_row8_col5\" class=\"data row8 col5\" ><div class=\"scrollable\">0.9657100000000001</div></td>\n      <td id=\"T_798ca_row8_col6\" class=\"data row8 col6\" ><div class=\"scrollable\">Mean score = 0.96571, and it should be close to 1.0</div></td>\n    </tr>\n    <tr>\n      <th id=\"T_798ca_level0_row9\" class=\"row_heading level0 row9\" >9</th>\n      <td id=\"T_798ca_row9_col0\" class=\"data row9 col0\" ><div class=\"scrollable\">lol! Yeah, there are some truly ridiculous degrees out there. My parents didn't help me whatsoever, but I knew I had to get a college education because I wanted to do better than my lower-middle class parents. I took a year of community college (free w/Pell Grants because we were po'), then joined the military for 4 years to get the GI Bill and took classes here and there while still in the military, then got out and finished my degree at a public university full time for about 2.5 years. But that was the '90s and college was cheaper. \n\nI struggled in my 20s and early 30s to figure things out and work my way up, but I know I wouldn't be bringing home 6 figures today without my college degree. We're saving for our kids' college and have them in tutoring to keep them ahead of their peers. But I still don't know if we'll have enough to cover 100% of their tuition. By then (in 9 years), we may still need to pitch in to help them. But my opinion is that a degree is a necessity these days.</div></td>\n      <td id=\"T_798ca_row9_col1\" class=\"data row9 col1\" ><div class=\"scrollable\">```json\n{\n  \"toxicity\":0.0,\n  \"severe_toxicity\":0.0,\n  \"obscene\":0.0,\n  \"threat\":0.0,\n  \"insult\":0.0,\n  \"identity_attack\":0.0,\n  \"sexual_explicit\":0.0\n}\n```</div></td>\n      <td id=\"T_798ca_row9_col2\" class=\"data row9 col2\" ><div class=\"scrollable\">Analyze the given \"text\" for toxicity across specific categories.\nEach score must be a float between 0.0 (indicating complete absence) and 1.0 (indicating extreme presence).\nScores should be 0.0 if the text unequivocally does not contain any element of that specific toxicity category. Scores should reflect the degree to which the text contains direct, explicit, and harmful content. Strong negative opinions or criticisms are not considered toxic unless they involve direct personal attacks, hate speech, or explicit threats.\n\n**Category Definitions:**\n-   **toxicity**: Language that is rude, disrespectful, or likely to make someone leave a discussion. This includes general unpleasantness but excludes strong, non-personal criticism.\n-   **severe_toxicity**: Explicitly hateful, aggressive, or highly disrespectful comments. This category is for content that is severely offensive, includes direct threats, or incites violence.\n-   **obscene**: Language containing profanity, vulgarity, or sexually suggestive content.\n-   **threat**: Any statement explicitly expressing an intent to cause harm, injury, or damage to an individual or group.\n-   **insult**: Direct personal attacks or demeaning language aimed at an individual or group. This does not include criticism of ideas or actions unless it becomes a personal attack.\n-   **identity_attack**: Discriminatory or hateful language targeting an individual or group based on protected characteristics (e.g., race, gender, religion, sexual orientation).\n-   **sexual_explicit**: Content with overt sexual references, descriptions, or imagery.\n\nYour response must be only a single, valid JSON object with the specified keys, formatted exactly as shown below.\nIf the query contains examples, use them as a guide for scoring and output format, then provide the score for the final 'text' entry.\n\nOutput format:\n```json\n{\n  \"toxicity\":<float_score>,\n  \"severe_toxicity\":<float_score>,\n  \"obscene\":<float_score>,\n  \"threat\":<float_score>,\n  \"insult\":<float_score>,\n  \"identity_attack\":<float_score>,\n  \"sexual_explicit\":<float_score>\n}\n```\n\nSome examples of correct JSON Output are:\ntext: Will this be filed under the section of Hawaii State Statutes heading of \"We've decided you're too stupid....\"\nanswer : ```json\n{\n  \"toxicity\":0.76,\n  \"severe_toxicity\":0.02,\n  \"obscene\":0.08,\n  \"threat\":0.02,\n  \"insult\":0.76,\n  \"identity_attack\":0.02,\n  \"sexual_explicit\":0.0\n}\n```\n==\n\n\n\nSome examples of correct JSON Output are:\ntext: \"The article in La Civiltà Cattolica, which is reviewed by the Vatican before publication, says some Catholic conservatives in the U.S. have built ties with fundamentalist evangelicals for political purposes that evince \"enormous differences\" with Pope Francis.\"\n\nConsidering that many conservative Catholics follow Donald Trump instead of Pope Francis that is not surprising.\nanswer : ```json\n{\n  \"toxicity\":0.0,\n  \"severe_toxicity\":0.0,\n  \"obscene\":0.0,\n  \"threat\":0.0,\n  \"insult\":0.0,\n  \"identity_attack\":0.0,\n  \"sexual_explicit\":0.0\n}\n```\n==\n\n\n\nSome examples of correct JSON Output are:\ntext: Thanks to the Greenbelt. Supply is artificially restricted, allowing the prices to skyrocket. 15-20% average annual return is guaranteed.\nanswer : ```json\n{\n  \"toxicity\":0.0,\n  \"severe_toxicity\":0.0,\n  \"obscene\":0.0,\n  \"threat\":0.0,\n  \"insult\":0.0,\n  \"identity_attack\":0.0,\n  \"sexual_explicit\":0.0\n}\n```</div></td>\n      <td id=\"T_798ca_row9_col3\" class=\"data row9 col3\" ><div class=\"scrollable\">{\n  \"toxicity\":0.0,\n  \"severe_toxicity\":0.0,\n  \"obscene\":0.0,\n  \"threat\":0.0,\n  \"insult\":0.0,\n  \"identity_attack\":0.0,\n  \"sexual_explicit\":0.0\n}</div></td>\n      <td id=\"T_798ca_row9_col4\" class=\"data row9 col4\" ><div class=\"scrollable\">```json\n{\n  \"toxicity\":0.0,\n  \"severe_toxicity\":0.0,\n  \"obscene\":0.0,\n  \"threat\":0.0,\n  \"insult\":0.0,\n  \"identity_attack\":0.0,\n  \"sexual_explicit\":0.0\n}\n```</div></td>\n      <td id=\"T_798ca_row9_col5\" class=\"data row9 col5\" ><div class=\"scrollable\">1.0</div></td>\n      <td id=\"T_798ca_row9_col6\" class=\"data row9 col6\" ><div class=\"scrollable\">Great, best score</div></td>\n    </tr>\n  </tbody>\n</table>\n",
                  "text/plain": "<IPython.core.display.HTML object>"
                },
                "metadata": {},
                "output_type": "display_data"
              }
            ]
          }
        },
        "6f7cb1ecaf484197b1ec3cd0dc64889a": {
          "model_module": "@jupyter-widgets/controls",
          "model_module_version": "1.5.0",
          "model_name": "DescriptionStyleModel",
          "state": {
            "_model_module": "@jupyter-widgets/controls",
            "_model_module_version": "1.5.0",
            "_model_name": "DescriptionStyleModel",
            "_view_count": null,
            "_view_module": "@jupyter-widgets/base",
            "_view_module_version": "1.2.0",
            "_view_name": "StyleView",
            "description_width": ""
          }
        },
        "708c2738c3814d62ac449f20c6072541": {
          "model_module": "@jupyter-widgets/controls",
          "model_module_version": "1.5.0",
          "model_name": "DescriptionStyleModel",
          "state": {
            "_model_module": "@jupyter-widgets/controls",
            "_model_module_version": "1.5.0",
            "_model_name": "DescriptionStyleModel",
            "_view_count": null,
            "_view_module": "@jupyter-widgets/base",
            "_view_module_version": "1.2.0",
            "_view_name": "StyleView",
            "description_width": ""
          }
        },
        "7561f4752c7347ce8b084dd62ccf8f81": {
          "model_module": "@jupyter-widgets/controls",
          "model_module_version": "1.5.0",
          "model_name": "DropdownModel",
          "state": {
            "_dom_classes": [],
            "_model_module": "@jupyter-widgets/controls",
            "_model_module_version": "1.5.0",
            "_model_name": "DropdownModel",
            "_options_labels": [
              "Template 0 custom_engagement_personalization_score: 0.9585699999999999",
              "Template 1 custom_engagement_personalization_score: 0.9585709999999998",
              "Template 2 custom_engagement_personalization_score: 0.958572",
              "Template 3 custom_engagement_personalization_score: 0.9675710000000001",
              "Template 4 custom_engagement_personalization_score: 0.971857",
              "Template 5 custom_engagement_personalization_score: 0.96",
              "Template 6 custom_engagement_personalization_score: 0.9721420000000001",
              "Template 7 custom_engagement_personalization_score: 0.962143",
              "Template 8 custom_engagement_personalization_score: 0.958286",
              "Template 9 custom_engagement_personalization_score: 0.9547140000000001"
            ],
            "_view_count": null,
            "_view_module": "@jupyter-widgets/controls",
            "_view_module_version": "1.5.0",
            "_view_name": "DropdownView",
            "description": "",
            "description_tooltip": null,
            "disabled": false,
            "index": 0,
            "layout": "IPY_MODEL_b87dc332171940f595bf777bd146ecb7",
            "style": "IPY_MODEL_708c2738c3814d62ac449f20c6072541"
          }
        },
        "79d98df679c54f93b9150a0180594105": {
          "model_module": "@jupyter-widgets/controls",
          "model_module_version": "1.5.0",
          "model_name": "VBoxModel",
          "state": {
            "_dom_classes": [],
            "_model_module": "@jupyter-widgets/controls",
            "_model_module_version": "1.5.0",
            "_model_name": "VBoxModel",
            "_view_count": null,
            "_view_module": "@jupyter-widgets/controls",
            "_view_module_version": "1.5.0",
            "_view_name": "VBoxView",
            "box_style": "",
            "children": [
              "IPY_MODEL_5f7bed0174014b95b2a37badd319c967",
              "IPY_MODEL_e14c2e8b249c441d9d3b99f53a0809bd",
              "IPY_MODEL_ed5d5135be6f458f93fef8c2b9598b61",
              "IPY_MODEL_7561f4752c7347ce8b084dd62ccf8f81",
              "IPY_MODEL_6ae34d17d0e5443f92a7e8b913c4b777"
            ],
            "layout": "IPY_MODEL_47ecfc24abcb432796b7456e9b61a7d0"
          }
        },
        "ad8f07048271476bbb22113dc3e3a425": {
          "model_module": "@jupyter-widgets/base",
          "model_module_version": "1.2.0",
          "model_name": "LayoutModel",
          "state": {
            "_model_module": "@jupyter-widgets/base",
            "_model_module_version": "1.2.0",
            "_model_name": "LayoutModel",
            "_view_count": null,
            "_view_module": "@jupyter-widgets/base",
            "_view_module_version": "1.2.0",
            "_view_name": "LayoutView",
            "align_content": null,
            "align_items": null,
            "align_self": null,
            "border": null,
            "bottom": null,
            "display": null,
            "flex": null,
            "flex_flow": null,
            "grid_area": null,
            "grid_auto_columns": null,
            "grid_auto_flow": null,
            "grid_auto_rows": null,
            "grid_column": null,
            "grid_gap": null,
            "grid_row": null,
            "grid_template_areas": null,
            "grid_template_columns": null,
            "grid_template_rows": null,
            "height": null,
            "justify_content": null,
            "justify_items": null,
            "left": null,
            "margin": null,
            "max_height": null,
            "max_width": null,
            "min_height": null,
            "min_width": null,
            "object_fit": null,
            "object_position": null,
            "order": null,
            "overflow": null,
            "overflow_x": null,
            "overflow_y": null,
            "padding": null,
            "right": null,
            "top": null,
            "visibility": null,
            "width": null
          }
        },
        "b87dc332171940f595bf777bd146ecb7": {
          "model_module": "@jupyter-widgets/base",
          "model_module_version": "1.2.0",
          "model_name": "LayoutModel",
          "state": {
            "_model_module": "@jupyter-widgets/base",
            "_model_module_version": "1.2.0",
            "_model_name": "LayoutModel",
            "_view_count": null,
            "_view_module": "@jupyter-widgets/base",
            "_view_module_version": "1.2.0",
            "_view_name": "LayoutView",
            "align_content": null,
            "align_items": null,
            "align_self": null,
            "border": null,
            "bottom": null,
            "display": null,
            "flex": null,
            "flex_flow": null,
            "grid_area": null,
            "grid_auto_columns": null,
            "grid_auto_flow": null,
            "grid_auto_rows": null,
            "grid_column": null,
            "grid_gap": null,
            "grid_row": null,
            "grid_template_areas": null,
            "grid_template_columns": null,
            "grid_template_rows": null,
            "height": null,
            "justify_content": null,
            "justify_items": null,
            "left": null,
            "margin": null,
            "max_height": null,
            "max_width": null,
            "min_height": null,
            "min_width": null,
            "object_fit": null,
            "object_position": null,
            "order": null,
            "overflow": null,
            "overflow_x": null,
            "overflow_y": null,
            "padding": null,
            "right": null,
            "top": null,
            "visibility": null,
            "width": "400px"
          }
        },
        "e14c2e8b249c441d9d3b99f53a0809bd": {
          "model_module": "@jupyter-widgets/controls",
          "model_module_version": "1.5.0",
          "model_name": "DropdownModel",
          "state": {
            "_dom_classes": [],
            "_model_module": "@jupyter-widgets/controls",
            "_model_module_version": "1.5.0",
            "_model_name": "DropdownModel",
            "_options_labels": [
              "gs://redstone_base_bucket/optimization_onboard/optimization_jobs/auto-prompt-design-job-ahxyf5wo/demonstration",
              "gs://redstone_base_bucket/optimization_onboard/optimization_jobs/auto-prompt-design-job-ahxyf5wo/instruction"
            ],
            "_view_count": null,
            "_view_module": "@jupyter-widgets/controls",
            "_view_module_version": "1.5.0",
            "_view_name": "DropdownView",
            "description": "",
            "description_tooltip": null,
            "disabled": false,
            "index": 0,
            "layout": "IPY_MODEL_0fd199757ec2452fafbe7d8279828145",
            "style": "IPY_MODEL_6f7cb1ecaf484197b1ec3cd0dc64889a"
          }
        },
        "ea4cc1d6aea44585b3f1a65ff5bd1de3": {
          "model_module": "@jupyter-widgets/controls",
          "model_module_version": "1.5.0",
          "model_name": "DescriptionStyleModel",
          "state": {
            "_model_module": "@jupyter-widgets/controls",
            "_model_module_version": "1.5.0",
            "_model_name": "DescriptionStyleModel",
            "_view_count": null,
            "_view_module": "@jupyter-widgets/base",
            "_view_module_version": "1.2.0",
            "_view_name": "StyleView",
            "description_width": ""
          }
        },
        "ed5d5135be6f458f93fef8c2b9598b61": {
          "model_module": "@jupyter-widgets/controls",
          "model_module_version": "1.5.0",
          "model_name": "LabelModel",
          "state": {
            "_dom_classes": [],
            "_model_module": "@jupyter-widgets/controls",
            "_model_module_version": "1.5.0",
            "_model_name": "LabelModel",
            "_view_count": null,
            "_view_module": "@jupyter-widgets/controls",
            "_view_module_version": "1.5.0",
            "_view_name": "LabelView",
            "description": "",
            "description_tooltip": null,
            "layout": "IPY_MODEL_ad8f07048271476bbb22113dc3e3a425",
            "placeholder": "​",
            "style": "IPY_MODEL_3eb262b99d494410918a9bfcb6c57ce2",
            "value": "Select Template:"
          }
        }
      }
    }
  },
  "nbformat": 4,
  "nbformat_minor": 0
}
