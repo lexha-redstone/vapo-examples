{
 "cells": [
  {
   "cell_type": "code",
   "execution_count": null,
   "id": "7299a731",
   "metadata": {},
   "outputs": [],
   "source": [
    "import pandas as pd\n",
    "import json\n",
    "from google import genai\n",
    "import numpy as np\n",
    "\n",
    "!gcloud auth application-default login"
   ]
  },
  {
   "cell_type": "code",
   "execution_count": 18,
   "id": "98122aa9",
   "metadata": {},
   "outputs": [],
   "source": [
    "from matplotlib import pyplot as plt\n",
    "import seaborn as sns"
   ]
  },
  {
   "cell_type": "code",
   "execution_count": null,
   "id": "ea41a331",
   "metadata": {},
   "outputs": [],
   "source": [
    "def refine_string(text_data):\n",
    "    cleaned_text = text_data.strip()\n",
    "    if cleaned_text.startswith(\"```json\"):\n",
    "        cleaned_text = cleaned_text[len(\"```json\"):].strip()\n",
    "\n",
    "    if cleaned_text.endswith(\"```\"):\n",
    "        cleaned_text = cleaned_text[:-len(\"```\")].strip()\n",
    "\n",
    "    if cleaned_text.startswith('{') and cleaned_text.endswith('}'):\n",
    "        json_string = cleaned_text\n",
    "    else:\n",
    "        json_string = None\n",
    "\n",
    "    data_dict = {}\n",
    "    reason = None\n",
    "    if json_string:\n",
    "        try:\n",
    "            data_dict = json.loads(json_string)\n",
    "        except json.JSONDecodeError as e:\n",
    "          reason = 'Wrong JSON format'\n",
    "    else:\n",
    "      reason = 'Wrong JSON format'\n",
    "    return data_dict, reason\n",
    "\n",
    "def calculate_mean_difference(dict1: dict, dict2: dict) -> float:\n",
    "    total_absolute_difference = 0.0\n",
    "    keys = ['toxicity', 'severe_toxicity', 'obscene', 'threat', 'insult', 'identity_attack', 'sexual_explicit']\n",
    "\n",
    "    if (set(dict1.keys()) != set(keys)) | (set(dict2.keys()) != set(keys)):\n",
    "      mean_difference = 1.0\n",
    "\n",
    "    else:\n",
    "      for key in keys:\n",
    "          val1 = dict1[key]\n",
    "          val2 = dict2[key]\n",
    "          abs_diff = abs(val1 - val2)\n",
    "          total_absolute_difference += abs_diff\n",
    "\n",
    "      mean_difference = round(total_absolute_difference / len(keys), 5)\n",
    "\n",
    "    return mean_difference\n",
    "\n",
    "def row_to_formatted_json(row):\n",
    "    json_content = row.to_json(orient='index', double_precision=2, indent=2)\n",
    "    formatted_string = '```json\\n' + json_content + '\\n```'\n",
    "    \n",
    "    return formatted_string\n",
    "\n",
    "\n",
    "def calculate_diff_pandas(c1, c2):\n",
    "    d1, _ = refine_string(c1)\n",
    "    d2, _ = refine_string(c2)\n",
    "\n",
    "    m = calculate_mean_difference(d1, d2)\n",
    "    return m    \n",
    "\n",
    "def extract_values(s):\n",
    "    d , _ = refine_string(s)\n",
    "    return d\n",
    "\n",
    "def extract_column(d, col):\n",
    "    return d[col]\n",
    "\n",
    "label_columns = ['toxicity', 'severe_toxicity', 'obscene', 'threat', 'insult',\n",
    "       'identity_attack', 'sexual_explicit']"
   ]
  },
  {
   "cell_type": "code",
   "execution_count": null,
   "id": "21948bb5",
   "metadata": {},
   "outputs": [],
   "source": [
    "PROJECT_ID = \"$YOUR_PROJECT_ID\"\n",
    "LOCATION = 'global'\n",
    "\n",
    "client = genai.Client(\n",
    "    vertexai=True,\n",
    "    project=PROJECT_ID,\n",
    "    location=LOCATION,\n",
    ")\n",
    "\n",
    "max_output_tokens=3000\n",
    "model = 'gemini-2.5-flash'"
   ]
  },
  {
   "cell_type": "code",
   "execution_count": null,
   "id": "545ec449",
   "metadata": {},
   "outputs": [],
   "source": [
    "valid_data_path = 'sample_data/test_df_sampled.csv'\n",
    "valid_df_sample = pd.read_csv(valid_data_path)"
   ]
  },
  {
   "cell_type": "markdown",
   "id": "f25e48be",
   "metadata": {},
   "source": [
    "### Initial evaluation"
   ]
  },
  {
   "cell_type": "code",
   "execution_count": null,
   "id": "33a078bd",
   "metadata": {},
   "outputs": [],
   "source": [
    "valid_df_sample['initial_result'] = None\n",
    "for idx in range(len(valid_df_sample)):\n",
    "    now_prompt = valid_df_sample.loc[idx, 'prompt']\n",
    "    response = client.models.generate_content(\n",
    "    model = model,\n",
    "    contents = [now_prompt]\n",
    "    )\n",
    "\n",
    "    valid_df_sample.loc[idx, 'initial_result'] = response.text\n",
    "\n",
    "    if idx % 10 == 0 :\n",
    "        print(idx)"
   ]
  },
  {
   "cell_type": "code",
   "execution_count": null,
   "id": "f7fefae9",
   "metadata": {},
   "outputs": [],
   "source": [
    "valid_df_sample['label'] = valid_df_sample[label_columns].apply(row_to_formatted_json, axis=1)\n",
    "valid_df_sample['diff'] = valid_df_sample[['label', 'initial_result']].apply(lambda x: calculate_diff_pandas(x.label, x.initial_result), axis=1)"
   ]
  },
  {
   "cell_type": "code",
   "execution_count": 13,
   "id": "8777df81",
   "metadata": {},
   "outputs": [
    {
     "name": "stdout",
     "output_type": "stream",
     "text": [
      "67.47160000000001\n",
      "[0.00271   0.0182125 0.112145  0.2635725 1.       ]\n"
     ]
    }
   ],
   "source": [
    "print(valid_df_sample['diff'].sum())\n",
    "print(np.quantile(valid_df_sample['diff'], [0.1, 0.25, 0.5, 0.75, 0.9]))"
   ]
  },
  {
   "cell_type": "code",
   "execution_count": null,
   "id": "708106a5",
   "metadata": {},
   "outputs": [],
   "source": [
    "# Checking distributions of the columns\n",
    "valid_df_sample['json_object_initial'] = valid_df_sample['initial_result'].apply(lambda x: extract_values(x))\n",
    "valid_df_sample['toxicity_initial'] = valid_df_sample['json_object_initial'].apply(lambda x: x.get('toxicity'))\n",
    "# valid_df_sample['threat_initial'] = valid_df_sample['json_object_initial'].apply(lambda x: x.get('threat'))\n",
    "# valid_df_sample['insult_initial'] = valid_df_sample['json_object_initial'].apply(lambda x: x.get('insult'))"
   ]
  },
  {
   "cell_type": "code",
   "execution_count": 29,
   "id": "2229bd35",
   "metadata": {},
   "outputs": [
    {
     "name": "stdout",
     "output_type": "stream",
     "text": [
      "0.12280458776666668\n",
      "0.40931455714533577\n",
      "###\n",
      "0.0\n",
      "0.38\n"
     ]
    }
   ],
   "source": [
    "# Difference w/ Label\n",
    "print(valid_df_sample['toxicity'].mean())\n",
    "print(valid_df_sample['toxicity_initial'].mean())\n",
    "\n",
    "print(\"###\")\n",
    "\n",
    "print(valid_df_sample['toxicity'].median())\n",
    "print(valid_df_sample['toxicity_initial'].median())\n"
   ]
  },
  {
   "cell_type": "code",
   "execution_count": null,
   "id": "aac10fcc",
   "metadata": {},
   "outputs": [
    {
     "data": {
      "image/png": "[encoded data removed]",
      "text/plain": [
       "<Figure size 1000x400 with 2 Axes>"
      ]
     },
     "metadata": {},
     "output_type": "display_data"
    }
   ],
   "source": [
    "n_cols_grid = 2\n",
    "n_rows_grid = 1\n",
    "\n",
    "fig, axes = plt.subplots(nrows=n_rows_grid, ncols=n_cols_grid, \n",
    "                         figsize=(n_cols_grid * 5, n_rows_grid * 4))\n",
    "\n",
    "axes = axes.flatten()\n",
    "\n",
    "score_columns = ['toxicity', 'toxicity_initial']\n",
    "\n",
    "for i, col in enumerate(score_columns):\n",
    "    sns.histplot(data=valid_df_sample, x=col,bins=20, ax=axes[i], color='teal')\n",
    "    \n",
    "    axes[i].set_title(f'Histogram of {col}', fontsize=12)\n",
    "    axes[i].set_xlabel('Value')\n",
    "    axes[i].set_ylabel('Frequency (Count)')\n",
    "\n",
    "plt.tight_layout()\n",
    "plt.show()"
   ]
  },
  {
   "cell_type": "markdown",
   "id": "97dbe050",
   "metadata": {},
   "source": [
    "### Evaluation after optimization"
   ]
  },
  {
   "cell_type": "code",
   "execution_count": 20,
   "id": "693198bf",
   "metadata": {},
   "outputs": [],
   "source": [
    "optimized_prompt_2 = '''Analyze the given \"text\" for toxicity across specific categories. Each score must be a float between 0.0 (indicating complete absence) and 1.0 (indicating extreme presence). Scores should be 0.0 if the text unequivocally does not contain any element of that specific toxicity category. Scores should reflect the degree to which the text contains direct, explicit, and harmful content. Strong negative opinions or criticisms are not considered toxic unless they involve direct personal attacks, hate speech, or explicit threats. **Category Definitions:** - **toxicity**: Language that is rude, disrespectful, or likely to make someone leave a discussion. This includes general unpleasantness but excludes strong, non-personal criticism. - **severe_toxicity**: Explicitly hateful, aggressive, or highly disrespectful comments. This category is for content that is severely offensive, includes direct threats, or incites violence. - **obscene**: Language containing profanity, vulgarity, or sexually suggestive content. - **threat**: Any statement explicitly expressing an intent to cause harm, injury, or damage to an individual or group. - **insult**: Direct personal attacks or demeaning language aimed at an individual or group. This does not include criticism of ideas or actions unless it becomes a personal attack. - **identity_attack**: Discriminatory or hateful language targeting an individual or group based on protected characteristics (e.g., race, gender, religion, sexual orientation). - **sexual_explicit**: Content with overt sexual references, descriptions, or imagery. Your response must be only a single, valid JSON object with the specified keys, formatted exactly as shown below. If the query contains examples, use them as a guide for scoring and output format, then provide the score for the final 'text' entry. Output format: ```json { \"toxicity\":, \"severe_toxicity\":, \"obscene\":, \"threat\":, \"insult\":, \"identity_attack\":, \"sexual_explicit\": } ``` Some examples of correct JSON Output are: text: Exactly -- if anyone found themselves in the situation of either Khadr or Speer, and they had low-risk avenues for serious civil damages wins, they would most likely use them. answer : ```json { \"toxicity\":0.0, \"severe_toxicity\":0.0, \"obscene\":0.0, \"threat\":0.0, \"insult\":0.0, \"identity_attack\":0.0, \"sexual_explicit\":0.0 } ``` == Some examples of correct JSON Output are: text: John F. Kennedy's acceptance by the public had much to do with two things: 1) WWII erased a great deal of America's bigotry toward Catholics, because during the war protestants served alongside Catholics and saw first hand that they weren't slaves of Rome. Before then, much of America was isolated into pockets of parochial believers, and so had relatively little contact with those of other sects. 2) JFK really did have unusual charisma, and people tend to make allowances for Alphas. answer : ```json { \"toxicity\":0.0, \"severe_toxicity\":0.0, \"obscene\":0.0, \"threat\":0.0, \"insult\":0.0, \"identity_attack\":0.0, \"sexual_explicit\":0.0 } ``` == Some examples of correct JSON Output are: text: Thanks to the Greenbelt. Supply is artificially restricted, allowing the prices to skyrocket. 15-20% average annual return is guaranteed. answer : ```json { \"toxicity\":0.0, \"severe_toxicity\":0.0, \"obscene\":0.0, \"threat\":0.0, \"insult\":0.0, \"identity_attack\":0.0, \"sexual_explicit\":0.0 } ```'''"
   ]
  },
  {
   "cell_type": "code",
   "execution_count": null,
   "id": "857cbdf7",
   "metadata": {},
   "outputs": [],
   "source": [
    "valid_df_sample['optimized_result_2'] = None\n",
    "for idx in range(len(valid_df_sample)):\n",
    "    now_text = valid_df_sample.loc[idx, 'text']\n",
    "\n",
    "    now_prompt = optimized_prompt_2 + f'\\n\\n\"text\": {now_text}'\n",
    "\n",
    "    response = client.models.generate_content(\n",
    "    model = model,\n",
    "    contents = [now_prompt]\n",
    "    )\n",
    "\n",
    "    valid_df_sample.loc[idx, 'optimized_result_2'] = response.text\n",
    "\n",
    "    if idx % 10 == 0 :\n",
    "        print(idx)"
   ]
  },
  {
   "cell_type": "code",
   "execution_count": 24,
   "id": "c77e9a85",
   "metadata": {},
   "outputs": [],
   "source": [
    "valid_df_sample.rename(columns={'response': 'label'}, inplace=True)"
   ]
  },
  {
   "cell_type": "code",
   "execution_count": null,
   "id": "65b57f33",
   "metadata": {},
   "outputs": [
    {
     "name": "stdout",
     "output_type": "stream",
     "text": [
      "18.172829999999998\n"
     ]
    }
   ],
   "source": [
    "valid_df_sample['diff_2'] = valid_df_sample[['label', 'optimized_result_2']].apply(lambda x: calculate_diff_pandas(x.label, x.optimized_result_2), axis=1)\n",
    "print(valid_df_sample['diff_2'].sum()) # Total Loss decreased"
   ]
  },
  {
   "cell_type": "code",
   "execution_count": 26,
   "id": "c5507457",
   "metadata": {},
   "outputs": [],
   "source": [
    "valid_df_sample['json_object_optimized_2'] = valid_df_sample['optimized_result_2'].apply(lambda x: extract_values(x))\n",
    "valid_df_sample['toxicity_optimized'] = valid_df_sample['json_object_optimized_2'].apply(lambda x: x.get('toxicity'))"
   ]
  },
  {
   "cell_type": "code",
   "execution_count": 30,
   "id": "febf31aa",
   "metadata": {},
   "outputs": [
    {
     "name": "stdout",
     "output_type": "stream",
     "text": [
      "0.12280458776666668\n",
      "0.17833333333333334\n",
      "###\n",
      "0.0\n",
      "0.0\n"
     ]
    }
   ],
   "source": [
    "# Difference w/ Label\n",
    "print(valid_df_sample['toxicity'].mean())\n",
    "print(valid_df_sample['toxicity_optimized'].mean())\n",
    "\n",
    "print(\"###\")\n",
    "\n",
    "print(valid_df_sample['toxicity'].median())\n",
    "print(valid_df_sample['toxicity_optimized'].median())\n"
   ]
  },
  {
   "cell_type": "code",
   "execution_count": 31,
   "id": "0f96b02e",
   "metadata": {},
   "outputs": [
    {
     "data": {
      "image/png": "[encoded data removed]",
      "text/plain": [
       "<Figure size 1000x400 with 2 Axes>"
      ]
     },
     "metadata": {},
     "output_type": "display_data"
    }
   ],
   "source": [
    "n_cols_grid = 2\n",
    "n_rows_grid = 1\n",
    "\n",
    "fig, axes = plt.subplots(nrows=n_rows_grid, ncols=n_cols_grid, \n",
    "                         figsize=(n_cols_grid * 5, n_rows_grid * 4))\n",
    "\n",
    "axes = axes.flatten()\n",
    "\n",
    "score_columns = ['toxicity', 'toxicity_optimized']\n",
    "\n",
    "for i, col in enumerate(score_columns):\n",
    "    sns.histplot(data=valid_df_sample, x=col,bins=20, ax=axes[i], color='teal')\n",
    "    \n",
    "    axes[i].set_title(f'Histogram of {col}', fontsize=12)\n",
    "    axes[i].set_xlabel('Value')\n",
    "    axes[i].set_ylabel('Frequency (Count)')\n",
    "\n",
    "plt.tight_layout()\n",
    "plt.show()"
   ]
  },
  {
   "cell_type": "code",
   "execution_count": null,
   "id": "4d637a5e",
   "metadata": {},
   "outputs": [],
   "source": []
  }
 ],
 "metadata": {
  "kernelspec": {
   "display_name": "Python 3",
   "language": "python",
   "name": "python3"
  },
  "language_info": {
   "codemirror_mode": {
    "name": "ipython",
    "version": 3
   },
   "file_extension": ".py",
   "mimetype": "text/x-python",
   "name": "python",
   "nbconvert_exporter": "python",
   "pygments_lexer": "ipython3",
   "version": "3.9.6"
  }
 },
 "nbformat": 4,
 "nbformat_minor": 5
}
